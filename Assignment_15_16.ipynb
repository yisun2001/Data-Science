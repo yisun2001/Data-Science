{
 "cells": [
  {
   "cell_type": "markdown",
   "metadata": {},
   "source": [
    "## Portfolio assignment 15\n",
    "30 min: Train a decision tree to predict the species of a penguin based on their characteristics.\n",
    "- Split the penguin dataset into a train (70%) and test (30%) set.\n",
    "- Use the train set to fit a DecisionTreeClassifier. You are free to to choose which columns you want to use as feature variables and you are also free to choose the max_depth of the tree. \n",
    "<b>Note</b>: Some machine learning algorithms can not handle missing values. You will either need to \n",
    " - replace missing values (with the mean or most popular value). For replacing missing values you can use .fillna(\\<value\\>) https://pandas.pydata.org/docs/reference/api/pandas.Series.fillna.html\n",
    " - remove rows with missing data.  You can remove rows with missing data with .dropna() https://pandas.pydata.org/pandas-docs/stable/reference/api/pandas.DataFrame.dropna.html\n",
    "- Use your decision tree model to make predictions for both the train and test set.\n",
    "- Calculate the accuracy for both the train set predictions and test set predictions.\n",
    "- Is the accurracy different? Did you expect this difference?\n",
    "- Use the plot_tree_classification function above to create a plot of the decision tree. Take a few minutes to analyse the decision tree. Do you understand the tree?\n",
    "\n",
    "Optional: Perform the same tasks but try to predict the sex of the pinguin based on the other columns"
   ]
  },
  {
   "cell_type": "code",
   "execution_count": 118,
   "metadata": {},
   "outputs": [],
   "source": [
    "import pandas as pd\n",
    "import seaborn as sns"
   ]
  },
  {
   "cell_type": "code",
   "execution_count": 119,
   "metadata": {},
   "outputs": [],
   "source": [
    "from sklearn.tree import DecisionTreeClassifier"
   ]
  },
  {
   "cell_type": "code",
   "execution_count": 120,
   "metadata": {},
   "outputs": [
    {
     "data": {
      "text/html": [
       "<div>\n",
       "<style scoped>\n",
       "    .dataframe tbody tr th:only-of-type {\n",
       "        vertical-align: middle;\n",
       "    }\n",
       "\n",
       "    .dataframe tbody tr th {\n",
       "        vertical-align: top;\n",
       "    }\n",
       "\n",
       "    .dataframe thead th {\n",
       "        text-align: right;\n",
       "    }\n",
       "</style>\n",
       "<table border=\"1\" class=\"dataframe\">\n",
       "  <thead>\n",
       "    <tr style=\"text-align: right;\">\n",
       "      <th></th>\n",
       "      <th>species</th>\n",
       "      <th>island</th>\n",
       "      <th>bill_length_mm</th>\n",
       "      <th>bill_depth_mm</th>\n",
       "      <th>flipper_length_mm</th>\n",
       "      <th>body_mass_g</th>\n",
       "      <th>sex</th>\n",
       "    </tr>\n",
       "  </thead>\n",
       "  <tbody>\n",
       "    <tr>\n",
       "      <th>0</th>\n",
       "      <td>Adelie</td>\n",
       "      <td>Torgersen</td>\n",
       "      <td>39.1</td>\n",
       "      <td>18.7</td>\n",
       "      <td>181.0</td>\n",
       "      <td>3750.0</td>\n",
       "      <td>Male</td>\n",
       "    </tr>\n",
       "    <tr>\n",
       "      <th>1</th>\n",
       "      <td>Adelie</td>\n",
       "      <td>Torgersen</td>\n",
       "      <td>39.5</td>\n",
       "      <td>17.4</td>\n",
       "      <td>186.0</td>\n",
       "      <td>3800.0</td>\n",
       "      <td>Female</td>\n",
       "    </tr>\n",
       "    <tr>\n",
       "      <th>2</th>\n",
       "      <td>Adelie</td>\n",
       "      <td>Torgersen</td>\n",
       "      <td>40.3</td>\n",
       "      <td>18.0</td>\n",
       "      <td>195.0</td>\n",
       "      <td>3250.0</td>\n",
       "      <td>Female</td>\n",
       "    </tr>\n",
       "    <tr>\n",
       "      <th>4</th>\n",
       "      <td>Adelie</td>\n",
       "      <td>Torgersen</td>\n",
       "      <td>36.7</td>\n",
       "      <td>19.3</td>\n",
       "      <td>193.0</td>\n",
       "      <td>3450.0</td>\n",
       "      <td>Female</td>\n",
       "    </tr>\n",
       "    <tr>\n",
       "      <th>5</th>\n",
       "      <td>Adelie</td>\n",
       "      <td>Torgersen</td>\n",
       "      <td>39.3</td>\n",
       "      <td>20.6</td>\n",
       "      <td>190.0</td>\n",
       "      <td>3650.0</td>\n",
       "      <td>Male</td>\n",
       "    </tr>\n",
       "  </tbody>\n",
       "</table>\n",
       "</div>"
      ],
      "text/plain": [
       "  species     island  bill_length_mm  bill_depth_mm  flipper_length_mm  \\\n",
       "0  Adelie  Torgersen            39.1           18.7              181.0   \n",
       "1  Adelie  Torgersen            39.5           17.4              186.0   \n",
       "2  Adelie  Torgersen            40.3           18.0              195.0   \n",
       "4  Adelie  Torgersen            36.7           19.3              193.0   \n",
       "5  Adelie  Torgersen            39.3           20.6              190.0   \n",
       "\n",
       "   body_mass_g     sex  \n",
       "0       3750.0    Male  \n",
       "1       3800.0  Female  \n",
       "2       3250.0  Female  \n",
       "4       3450.0  Female  \n",
       "5       3650.0    Male  "
      ]
     },
     "execution_count": 120,
     "metadata": {},
     "output_type": "execute_result"
    }
   ],
   "source": [
    "penguins = sns.load_dataset(\"penguins\").dropna()\n",
    "penguins.head()"
   ]
  },
  {
   "cell_type": "markdown",
   "metadata": {},
   "source": [
    "### De species voorspellen op basis van de bill_length_mm"
   ]
  },
  {
   "cell_type": "code",
   "execution_count": 121,
   "metadata": {},
   "outputs": [
    {
     "data": {
      "text/plain": [
       "DecisionTreeClassifier(max_depth=2)"
      ]
     },
     "execution_count": 121,
     "metadata": {},
     "output_type": "execute_result"
    }
   ],
   "source": [
    "features= ['bill_length_mm']\n",
    "dt = DecisionTreeClassifier(max_depth = 2) # Increase max_depth to see effect in the plot\n",
    "dt.fit(penguins[features], penguins['species'])"
   ]
  },
  {
   "cell_type": "code",
   "execution_count": 122,
   "metadata": {},
   "outputs": [],
   "source": [
    "from sklearn.model_selection import train_test_split"
   ]
  },
  {
   "cell_type": "code",
   "execution_count": 123,
   "metadata": {},
   "outputs": [],
   "source": [
    "from sklearn import tree\n",
    "import graphviz\n",
    "\n",
    "def plot_tree_classification(model, features, class_names):\n",
    "    # Generate plot data\n",
    "    dot_data = tree.export_graphviz(model, out_file=None, \n",
    "                          feature_names=features,  \n",
    "                          class_names=class_names,  \n",
    "                          filled=True, rounded=True,  \n",
    "                          special_characters=True)  \n",
    "\n",
    "    # Turn into graph using graphviz\n",
    "    graph = graphviz.Source(dot_data)  \n",
    "\n",
    "    # Write out a pdf\n",
    "    graph.render(\"decision_tree\")\n",
    "\n",
    "    # Display in the notebook\n",
    "    return graph "
   ]
  },
  {
   "cell_type": "code",
   "execution_count": 124,
   "metadata": {},
   "outputs": [
    {
     "data": {
      "image/svg+xml": [
       "<?xml version=\"1.0\" encoding=\"UTF-8\" standalone=\"no\"?>\r\n",
       "<!DOCTYPE svg PUBLIC \"-//W3C//DTD SVG 1.1//EN\"\r\n",
       " \"http://www.w3.org/Graphics/SVG/1.1/DTD/svg11.dtd\">\r\n",
       "<!-- Generated by graphviz version 2.38.0 (20140413.2041)\r\n",
       " -->\r\n",
       "<!-- Title: Tree Pages: 1 -->\r\n",
       "<svg width=\"589pt\" height=\"314pt\"\r\n",
       " viewBox=\"0.00 0.00 589.00 314.00\" xmlns=\"http://www.w3.org/2000/svg\" xmlns:xlink=\"http://www.w3.org/1999/xlink\">\r\n",
       "<g id=\"graph0\" class=\"graph\" transform=\"scale(1 1) rotate(0) translate(4 310)\">\r\n",
       "<title>Tree</title>\r\n",
       "<polygon fill=\"white\" stroke=\"none\" points=\"-4,4 -4,-310 585,-310 585,4 -4,4\"/>\r\n",
       "<!-- 0 -->\r\n",
       "<g id=\"node1\" class=\"node\"><title>0</title>\r\n",
       "<path fill=\"#fcefe6\" stroke=\"black\" d=\"M354.5,-306C354.5,-306 214.5,-306 214.5,-306 208.5,-306 202.5,-300 202.5,-294 202.5,-294 202.5,-235 202.5,-235 202.5,-229 208.5,-223 214.5,-223 214.5,-223 354.5,-223 354.5,-223 360.5,-223 366.5,-229 366.5,-235 366.5,-235 366.5,-294 366.5,-294 366.5,-300 360.5,-306 354.5,-306\"/>\r\n",
       "<text text-anchor=\"start\" x=\"210.5\" y=\"-290.8\" font-family=\"Helvetica,sans-Serif\" font-size=\"14.00\">bill_length_mm ≤ 42.35</text>\r\n",
       "<text text-anchor=\"start\" x=\"247\" y=\"-275.8\" font-family=\"Helvetica,sans-Serif\" font-size=\"14.00\">gini = 0.638</text>\r\n",
       "<text text-anchor=\"start\" x=\"237\" y=\"-260.8\" font-family=\"Helvetica,sans-Serif\" font-size=\"14.00\">samples = 333</text>\r\n",
       "<text text-anchor=\"start\" x=\"215.5\" y=\"-245.8\" font-family=\"Helvetica,sans-Serif\" font-size=\"14.00\">value = [146, 68, 119]</text>\r\n",
       "<text text-anchor=\"start\" x=\"239.5\" y=\"-230.8\" font-family=\"Helvetica,sans-Serif\" font-size=\"14.00\">class = Adelie</text>\r\n",
       "</g>\r\n",
       "<!-- 1 -->\r\n",
       "<g id=\"node2\" class=\"node\"><title>1</title>\r\n",
       "<path fill=\"#e6853f\" stroke=\"black\" d=\"M263.5,-187C263.5,-187 123.5,-187 123.5,-187 117.5,-187 111.5,-181 111.5,-175 111.5,-175 111.5,-116 111.5,-116 111.5,-110 117.5,-104 123.5,-104 123.5,-104 263.5,-104 263.5,-104 269.5,-104 275.5,-110 275.5,-116 275.5,-116 275.5,-175 275.5,-175 275.5,-181 269.5,-187 263.5,-187\"/>\r\n",
       "<text text-anchor=\"start\" x=\"119.5\" y=\"-171.8\" font-family=\"Helvetica,sans-Serif\" font-size=\"14.00\">bill_length_mm ≤ 41.65</text>\r\n",
       "<text text-anchor=\"start\" x=\"156\" y=\"-156.8\" font-family=\"Helvetica,sans-Serif\" font-size=\"14.00\">gini = 0.057</text>\r\n",
       "<text text-anchor=\"start\" x=\"146\" y=\"-141.8\" font-family=\"Helvetica,sans-Serif\" font-size=\"14.00\">samples = 138</text>\r\n",
       "<text text-anchor=\"start\" x=\"137\" y=\"-126.8\" font-family=\"Helvetica,sans-Serif\" font-size=\"14.00\">value = [134, 1, 3]</text>\r\n",
       "<text text-anchor=\"start\" x=\"148.5\" y=\"-111.8\" font-family=\"Helvetica,sans-Serif\" font-size=\"14.00\">class = Adelie</text>\r\n",
       "</g>\r\n",
       "<!-- 0&#45;&gt;1 -->\r\n",
       "<g id=\"edge1\" class=\"edge\"><title>0&#45;&gt;1</title>\r\n",
       "<path fill=\"none\" stroke=\"black\" d=\"M252.928,-222.907C245.94,-213.923 238.467,-204.315 231.261,-195.05\"/>\r\n",
       "<polygon fill=\"black\" stroke=\"black\" points=\"233.918,-192.766 225.016,-187.021 228.393,-197.063 233.918,-192.766\"/>\r\n",
       "<text text-anchor=\"middle\" x=\"221.915\" y=\"-208.128\" font-family=\"Helvetica,sans-Serif\" font-size=\"14.00\">True</text>\r\n",
       "</g>\r\n",
       "<!-- 4 -->\r\n",
       "<g id=\"node5\" class=\"node\"><title>4</title>\r\n",
       "<path fill=\"#cfb3f5\" stroke=\"black\" d=\"M445.5,-187C445.5,-187 305.5,-187 305.5,-187 299.5,-187 293.5,-181 293.5,-175 293.5,-175 293.5,-116 293.5,-116 293.5,-110 299.5,-104 305.5,-104 305.5,-104 445.5,-104 445.5,-104 451.5,-104 457.5,-110 457.5,-116 457.5,-116 457.5,-175 457.5,-175 457.5,-181 451.5,-187 445.5,-187\"/>\r\n",
       "<text text-anchor=\"start\" x=\"301.5\" y=\"-171.8\" font-family=\"Helvetica,sans-Serif\" font-size=\"14.00\">bill_length_mm ≤ 50.05</text>\r\n",
       "<text text-anchor=\"start\" x=\"338\" y=\"-156.8\" font-family=\"Helvetica,sans-Serif\" font-size=\"14.00\">gini = 0.524</text>\r\n",
       "<text text-anchor=\"start\" x=\"328\" y=\"-141.8\" font-family=\"Helvetica,sans-Serif\" font-size=\"14.00\">samples = 195</text>\r\n",
       "<text text-anchor=\"start\" x=\"310.5\" y=\"-126.8\" font-family=\"Helvetica,sans-Serif\" font-size=\"14.00\">value = [12, 67, 116]</text>\r\n",
       "<text text-anchor=\"start\" x=\"327\" y=\"-111.8\" font-family=\"Helvetica,sans-Serif\" font-size=\"14.00\">class = Gentoo</text>\r\n",
       "</g>\r\n",
       "<!-- 0&#45;&gt;4 -->\r\n",
       "<g id=\"edge4\" class=\"edge\"><title>0&#45;&gt;4</title>\r\n",
       "<path fill=\"none\" stroke=\"black\" d=\"M316.072,-222.907C323.06,-213.923 330.533,-204.315 337.739,-195.05\"/>\r\n",
       "<polygon fill=\"black\" stroke=\"black\" points=\"340.607,-197.063 343.984,-187.021 335.082,-192.766 340.607,-197.063\"/>\r\n",
       "<text text-anchor=\"middle\" x=\"347.085\" y=\"-208.128\" font-family=\"Helvetica,sans-Serif\" font-size=\"14.00\">False</text>\r\n",
       "</g>\r\n",
       "<!-- 2 -->\r\n",
       "<g id=\"node3\" class=\"node\"><title>2</title>\r\n",
       "<path fill=\"#e5833c\" stroke=\"black\" d=\"M117,-68C117,-68 12,-68 12,-68 6,-68 0,-62 0,-56 0,-56 0,-12 0,-12 0,-6 6,-0 12,-0 12,-0 117,-0 117,-0 123,-0 129,-6 129,-12 129,-12 129,-56 129,-56 129,-62 123,-68 117,-68\"/>\r\n",
       "<text text-anchor=\"start\" x=\"31\" y=\"-52.8\" font-family=\"Helvetica,sans-Serif\" font-size=\"14.00\">gini = 0.03</text>\r\n",
       "<text text-anchor=\"start\" x=\"17\" y=\"-37.8\" font-family=\"Helvetica,sans-Serif\" font-size=\"14.00\">samples = 130</text>\r\n",
       "<text text-anchor=\"start\" x=\"8\" y=\"-22.8\" font-family=\"Helvetica,sans-Serif\" font-size=\"14.00\">value = [128, 1, 1]</text>\r\n",
       "<text text-anchor=\"start\" x=\"19.5\" y=\"-7.8\" font-family=\"Helvetica,sans-Serif\" font-size=\"14.00\">class = Adelie</text>\r\n",
       "</g>\r\n",
       "<!-- 1&#45;&gt;2 -->\r\n",
       "<g id=\"edge2\" class=\"edge\"><title>1&#45;&gt;2</title>\r\n",
       "<path fill=\"none\" stroke=\"black\" d=\"M145.465,-103.726C134.398,-94.3318 122.637,-84.349 111.61,-74.9883\"/>\r\n",
       "<polygon fill=\"black\" stroke=\"black\" points=\"113.618,-72.1026 103.73,-68.2996 109.088,-77.4393 113.618,-72.1026\"/>\r\n",
       "</g>\r\n",
       "<!-- 3 -->\r\n",
       "<g id=\"node4\" class=\"node\"><title>3</title>\r\n",
       "<path fill=\"#eeab7b\" stroke=\"black\" d=\"M248,-68C248,-68 159,-68 159,-68 153,-68 147,-62 147,-56 147,-56 147,-12 147,-12 147,-6 153,-0 159,-0 159,-0 248,-0 248,-0 254,-0 260,-6 260,-12 260,-12 260,-56 260,-56 260,-62 254,-68 248,-68\"/>\r\n",
       "<text text-anchor=\"start\" x=\"166\" y=\"-52.8\" font-family=\"Helvetica,sans-Serif\" font-size=\"14.00\">gini = 0.375</text>\r\n",
       "<text text-anchor=\"start\" x=\"164\" y=\"-37.8\" font-family=\"Helvetica,sans-Serif\" font-size=\"14.00\">samples = 8</text>\r\n",
       "<text text-anchor=\"start\" x=\"155\" y=\"-22.8\" font-family=\"Helvetica,sans-Serif\" font-size=\"14.00\">value = [6, 0, 2]</text>\r\n",
       "<text text-anchor=\"start\" x=\"158.5\" y=\"-7.8\" font-family=\"Helvetica,sans-Serif\" font-size=\"14.00\">class = Adelie</text>\r\n",
       "</g>\r\n",
       "<!-- 1&#45;&gt;3 -->\r\n",
       "<g id=\"edge3\" class=\"edge\"><title>1&#45;&gt;3</title>\r\n",
       "<path fill=\"none\" stroke=\"black\" d=\"M197.224,-103.726C197.982,-95.4263 198.782,-86.6671 199.547,-78.2834\"/>\r\n",
       "<polygon fill=\"black\" stroke=\"black\" points=\"203.035,-78.5765 200.459,-68.2996 196.064,-77.9398 203.035,-78.5765\"/>\r\n",
       "</g>\r\n",
       "<!-- 5 -->\r\n",
       "<g id=\"node6\" class=\"node\"><title>5</title>\r\n",
       "<path fill=\"#bb95f1\" stroke=\"black\" d=\"M422,-68C422,-68 309,-68 309,-68 303,-68 297,-62 297,-56 297,-56 297,-12 297,-12 297,-6 303,-0 309,-0 309,-0 422,-0 422,-0 428,-0 434,-6 434,-12 434,-12 434,-56 434,-56 434,-62 428,-68 422,-68\"/>\r\n",
       "<text text-anchor=\"start\" x=\"328\" y=\"-52.8\" font-family=\"Helvetica,sans-Serif\" font-size=\"14.00\">gini = 0.494</text>\r\n",
       "<text text-anchor=\"start\" x=\"318\" y=\"-37.8\" font-family=\"Helvetica,sans-Serif\" font-size=\"14.00\">samples = 143</text>\r\n",
       "<text text-anchor=\"start\" x=\"305\" y=\"-22.8\" font-family=\"Helvetica,sans-Serif\" font-size=\"14.00\">value = [12, 37, 94]</text>\r\n",
       "<text text-anchor=\"start\" x=\"317\" y=\"-7.8\" font-family=\"Helvetica,sans-Serif\" font-size=\"14.00\">class = Gentoo</text>\r\n",
       "</g>\r\n",
       "<!-- 4&#45;&gt;5 -->\r\n",
       "<g id=\"edge5\" class=\"edge\"><title>4&#45;&gt;5</title>\r\n",
       "<path fill=\"none\" stroke=\"black\" d=\"M371.776,-103.726C371.018,-95.4263 370.218,-86.6671 369.453,-78.2834\"/>\r\n",
       "<polygon fill=\"black\" stroke=\"black\" points=\"372.936,-77.9398 368.541,-68.2996 365.965,-78.5765 372.936,-77.9398\"/>\r\n",
       "</g>\r\n",
       "<!-- 6 -->\r\n",
       "<g id=\"node7\" class=\"node\"><title>6</title>\r\n",
       "<path fill=\"#caf8dd\" stroke=\"black\" d=\"M569,-68C569,-68 464,-68 464,-68 458,-68 452,-62 452,-56 452,-56 452,-12 452,-12 452,-6 458,-0 464,-0 464,-0 569,-0 569,-0 575,-0 581,-6 581,-12 581,-12 581,-56 581,-56 581,-62 575,-68 569,-68\"/>\r\n",
       "<text text-anchor=\"start\" x=\"479\" y=\"-52.8\" font-family=\"Helvetica,sans-Serif\" font-size=\"14.00\">gini = 0.488</text>\r\n",
       "<text text-anchor=\"start\" x=\"473\" y=\"-37.8\" font-family=\"Helvetica,sans-Serif\" font-size=\"14.00\">samples = 52</text>\r\n",
       "<text text-anchor=\"start\" x=\"460\" y=\"-22.8\" font-family=\"Helvetica,sans-Serif\" font-size=\"14.00\">value = [0, 30, 22]</text>\r\n",
       "<text text-anchor=\"start\" x=\"462\" y=\"-7.8\" font-family=\"Helvetica,sans-Serif\" font-size=\"14.00\">class = Chinstrap</text>\r\n",
       "</g>\r\n",
       "<!-- 4&#45;&gt;6 -->\r\n",
       "<g id=\"edge6\" class=\"edge\"><title>4&#45;&gt;6</title>\r\n",
       "<path fill=\"none\" stroke=\"black\" d=\"M428.003,-103.726C440.335,-94.1494 453.454,-83.9611 465.709,-74.4438\"/>\r\n",
       "<polygon fill=\"black\" stroke=\"black\" points=\"467.87,-77.1975 473.621,-68.2996 463.576,-71.6689 467.87,-77.1975\"/>\r\n",
       "</g>\r\n",
       "</g>\r\n",
       "</svg>\r\n"
      ],
      "text/plain": [
       "<graphviz.files.Source at 0x1e017531a00>"
      ]
     },
     "execution_count": 124,
     "metadata": {},
     "output_type": "execute_result"
    }
   ],
   "source": [
    "plot_tree_classification(dt, features, penguins.species.unique())"
   ]
  },
  {
   "cell_type": "markdown",
   "metadata": {},
   "source": [
    "Ik snap hoe deze decision tree inelkaar zit. De voorspellingen zijn dat de species 'Adelie' voorkomt als de bill_length_mm kleiner is dan 42.35, tussen 42.35 en 50.05 voor Gentoo en boven 50.05 voor Chinstrap. De samples zijn met hoeveel data de decision tree de beslissing mee heeft gemaakt."
   ]
  },
  {
   "cell_type": "markdown",
   "metadata": {},
   "source": [
    "### Test 30% / Train 70%"
   ]
  },
  {
   "cell_type": "code",
   "execution_count": 125,
   "metadata": {},
   "outputs": [],
   "source": [
    "from sklearn.model_selection import train_test_split"
   ]
  },
  {
   "cell_type": "code",
   "execution_count": 126,
   "metadata": {},
   "outputs": [
    {
     "name": "stdout",
     "output_type": "stream",
     "text": [
      "(233, 7) (100, 7)\n"
     ]
    }
   ],
   "source": [
    "penguins_train, penguins_test = train_test_split(penguins, test_size=0.3, stratify=penguins['species'], random_state=42)\n",
    "print(penguins_train.shape, penguins_test.shape)"
   ]
  },
  {
   "cell_type": "markdown",
   "metadata": {},
   "source": [
    "233 rijen voor train (70%), 100 voor test (30%). Species is onze target variabele. We proberen achter de species te komen d.m.v. de bill_length_mm"
   ]
  },
  {
   "cell_type": "code",
   "execution_count": 127,
   "metadata": {},
   "outputs": [
    {
     "data": {
      "text/plain": [
       "DecisionTreeClassifier(max_depth=2)"
      ]
     },
     "execution_count": 127,
     "metadata": {},
     "output_type": "execute_result"
    }
   ],
   "source": [
    "features= ['bill_length_mm']\n",
    "dt_classification = DecisionTreeClassifier(max_depth = 2)\n",
    "dt_classification.fit(penguins_train[features], penguins_train['species'])"
   ]
  },
  {
   "cell_type": "code",
   "execution_count": 128,
   "metadata": {},
   "outputs": [],
   "source": [
    "def calculate_accuracy(predictions, actuals):\n",
    "    if(len(predictions) != len(actuals)):\n",
    "        raise Exception(\"The amount of predictions did not equal the amount of actuals\")\n",
    "    \n",
    "    return (predictions == actuals).sum() / len(actuals)"
   ]
  },
  {
   "cell_type": "code",
   "execution_count": 129,
   "metadata": {},
   "outputs": [
    {
     "name": "stdout",
     "output_type": "stream",
     "text": [
      "Accuracy on training set 0.8068669527896996\n",
      "Accuracy on test set 0.7\n"
     ]
    }
   ],
   "source": [
    "predictionsOnTrainset = dt_classification.predict(penguins_train[features])\n",
    "predictionsOnTestset = dt_classification.predict(penguins_test[features])\n",
    "\n",
    "accuracyTrain = calculate_accuracy(predictionsOnTrainset, penguins_train.species)\n",
    "accuracyTest = calculate_accuracy(predictionsOnTestset, penguins_test.species)\n",
    "\n",
    "print(\"Accuracy on training set \" + str(accuracyTrain))\n",
    "print(\"Accuracy on test set \" + str(accuracyTest))"
   ]
  },
  {
   "cell_type": "markdown",
   "metadata": {},
   "source": [
    "De nauwkeurigheid van de training set is hoger. Dit komt denk ik door het feit dat de training set met meer data te werken kan hebben (70%) waardoor het nauwkeuriger wordt. Deze verschil had ik dus van ten voren wel verwacht. "
   ]
  },
  {
   "cell_type": "markdown",
   "metadata": {},
   "source": [
    "## Portfolio assignment 16\n",
    "30 min: Train a decision tree to predict one of the categorical columns of your own dataset.\n",
    "- Split your dataset into a train (70%) and test (30%) set.\n",
    "- Use the train set to fit a DecisionTreeClassifier. You are free to to choose which columns you want to use as feature variables and you are also free to choose the max_depth of the tree. \n",
    "- Use your decision tree model to make predictions for both the train and test set.\n",
    "- Calculate the accuracy for both the train set predictions and test set predictions.\n",
    "- Is the accurracy different? Did you expect this difference?\n",
    "- Use the plot_tree function above to create a plot of the decision tree. Take a few minutes to analyse the decision tree. Do you understand the tree?\n",
    "    "
   ]
  },
  {
   "cell_type": "code",
   "execution_count": 130,
   "metadata": {},
   "outputs": [],
   "source": [
    "import pandas as pd\n",
    "import seaborn as sns"
   ]
  },
  {
   "cell_type": "markdown",
   "metadata": {},
   "source": [
    "Ik heb gekozen voor een andere dataset wat misschien interessanter is bij deze opdracht. De dataset is van een bank en ze zouden het erg op prijs stellen als men voor hen zou kunnen voorspellen wie er wordt gekarnd, zodat ze proactief naar de klant kunnen gaan om hen betere diensten te verlenen en de klanten van beslissing kunnen veranderen. In dit geval kijken we naar de categorische kolom 'maanden inactief afgelopen 12 maanden'."
   ]
  },
  {
   "cell_type": "code",
   "execution_count": 131,
   "metadata": {},
   "outputs": [],
   "source": [
    "bankchurn = pd.read_csv (r'bankchurners.csv')"
   ]
  },
  {
   "cell_type": "code",
   "execution_count": 132,
   "metadata": {},
   "outputs": [
    {
     "data": {
      "text/html": [
       "<div>\n",
       "<style scoped>\n",
       "    .dataframe tbody tr th:only-of-type {\n",
       "        vertical-align: middle;\n",
       "    }\n",
       "\n",
       "    .dataframe tbody tr th {\n",
       "        vertical-align: top;\n",
       "    }\n",
       "\n",
       "    .dataframe thead th {\n",
       "        text-align: right;\n",
       "    }\n",
       "</style>\n",
       "<table border=\"1\" class=\"dataframe\">\n",
       "  <thead>\n",
       "    <tr style=\"text-align: right;\">\n",
       "      <th></th>\n",
       "      <th>CLIENTNUM</th>\n",
       "      <th>Attrition_Flag</th>\n",
       "      <th>Customer_Age</th>\n",
       "      <th>Gender</th>\n",
       "      <th>Dependent_count</th>\n",
       "      <th>Education_Level</th>\n",
       "      <th>Marital_Status</th>\n",
       "      <th>Income_Category</th>\n",
       "      <th>Card_Category</th>\n",
       "      <th>Months_on_book</th>\n",
       "      <th>...</th>\n",
       "      <th>Credit_Limit</th>\n",
       "      <th>Total_Revolving_Bal</th>\n",
       "      <th>Avg_Open_To_Buy</th>\n",
       "      <th>Total_Amt_Chng_Q4_Q1</th>\n",
       "      <th>Total_Trans_Amt</th>\n",
       "      <th>Total_Trans_Ct</th>\n",
       "      <th>Total_Ct_Chng_Q4_Q1</th>\n",
       "      <th>Avg_Utilization_Ratio</th>\n",
       "      <th>Naive_Bayes_Classifier_Attrition_Flag_Card_Category_Contacts_Count_12_mon_Dependent_count_Education_Level_Months_Inactive_12_mon_1</th>\n",
       "      <th>Naive_Bayes_Classifier_Attrition_Flag_Card_Category_Contacts_Count_12_mon_Dependent_count_Education_Level_Months_Inactive_12_mon_2</th>\n",
       "    </tr>\n",
       "  </thead>\n",
       "  <tbody>\n",
       "    <tr>\n",
       "      <th>0</th>\n",
       "      <td>768805383</td>\n",
       "      <td>Existing Customer</td>\n",
       "      <td>45</td>\n",
       "      <td>M</td>\n",
       "      <td>3</td>\n",
       "      <td>High School</td>\n",
       "      <td>Married</td>\n",
       "      <td>$60K - $80K</td>\n",
       "      <td>Blue</td>\n",
       "      <td>39</td>\n",
       "      <td>...</td>\n",
       "      <td>12691.0</td>\n",
       "      <td>777</td>\n",
       "      <td>11914.0</td>\n",
       "      <td>1.335</td>\n",
       "      <td>1144</td>\n",
       "      <td>42</td>\n",
       "      <td>1.625</td>\n",
       "      <td>0.061</td>\n",
       "      <td>0.000093</td>\n",
       "      <td>0.99991</td>\n",
       "    </tr>\n",
       "    <tr>\n",
       "      <th>1</th>\n",
       "      <td>818770008</td>\n",
       "      <td>Existing Customer</td>\n",
       "      <td>49</td>\n",
       "      <td>F</td>\n",
       "      <td>5</td>\n",
       "      <td>Graduate</td>\n",
       "      <td>Single</td>\n",
       "      <td>Less than $40K</td>\n",
       "      <td>Blue</td>\n",
       "      <td>44</td>\n",
       "      <td>...</td>\n",
       "      <td>8256.0</td>\n",
       "      <td>864</td>\n",
       "      <td>7392.0</td>\n",
       "      <td>1.541</td>\n",
       "      <td>1291</td>\n",
       "      <td>33</td>\n",
       "      <td>3.714</td>\n",
       "      <td>0.105</td>\n",
       "      <td>0.000057</td>\n",
       "      <td>0.99994</td>\n",
       "    </tr>\n",
       "    <tr>\n",
       "      <th>2</th>\n",
       "      <td>713982108</td>\n",
       "      <td>Existing Customer</td>\n",
       "      <td>51</td>\n",
       "      <td>M</td>\n",
       "      <td>3</td>\n",
       "      <td>Graduate</td>\n",
       "      <td>Married</td>\n",
       "      <td>$80K - $120K</td>\n",
       "      <td>Blue</td>\n",
       "      <td>36</td>\n",
       "      <td>...</td>\n",
       "      <td>3418.0</td>\n",
       "      <td>0</td>\n",
       "      <td>3418.0</td>\n",
       "      <td>2.594</td>\n",
       "      <td>1887</td>\n",
       "      <td>20</td>\n",
       "      <td>2.333</td>\n",
       "      <td>0.000</td>\n",
       "      <td>0.000021</td>\n",
       "      <td>0.99998</td>\n",
       "    </tr>\n",
       "    <tr>\n",
       "      <th>3</th>\n",
       "      <td>769911858</td>\n",
       "      <td>Existing Customer</td>\n",
       "      <td>40</td>\n",
       "      <td>F</td>\n",
       "      <td>4</td>\n",
       "      <td>High School</td>\n",
       "      <td>Unknown</td>\n",
       "      <td>Less than $40K</td>\n",
       "      <td>Blue</td>\n",
       "      <td>34</td>\n",
       "      <td>...</td>\n",
       "      <td>3313.0</td>\n",
       "      <td>2517</td>\n",
       "      <td>796.0</td>\n",
       "      <td>1.405</td>\n",
       "      <td>1171</td>\n",
       "      <td>20</td>\n",
       "      <td>2.333</td>\n",
       "      <td>0.760</td>\n",
       "      <td>0.000134</td>\n",
       "      <td>0.99987</td>\n",
       "    </tr>\n",
       "    <tr>\n",
       "      <th>4</th>\n",
       "      <td>709106358</td>\n",
       "      <td>Existing Customer</td>\n",
       "      <td>40</td>\n",
       "      <td>M</td>\n",
       "      <td>3</td>\n",
       "      <td>Uneducated</td>\n",
       "      <td>Married</td>\n",
       "      <td>$60K - $80K</td>\n",
       "      <td>Blue</td>\n",
       "      <td>21</td>\n",
       "      <td>...</td>\n",
       "      <td>4716.0</td>\n",
       "      <td>0</td>\n",
       "      <td>4716.0</td>\n",
       "      <td>2.175</td>\n",
       "      <td>816</td>\n",
       "      <td>28</td>\n",
       "      <td>2.500</td>\n",
       "      <td>0.000</td>\n",
       "      <td>0.000022</td>\n",
       "      <td>0.99998</td>\n",
       "    </tr>\n",
       "  </tbody>\n",
       "</table>\n",
       "<p>5 rows × 23 columns</p>\n",
       "</div>"
      ],
      "text/plain": [
       "   CLIENTNUM     Attrition_Flag  Customer_Age Gender  Dependent_count  \\\n",
       "0  768805383  Existing Customer            45      M                3   \n",
       "1  818770008  Existing Customer            49      F                5   \n",
       "2  713982108  Existing Customer            51      M                3   \n",
       "3  769911858  Existing Customer            40      F                4   \n",
       "4  709106358  Existing Customer            40      M                3   \n",
       "\n",
       "  Education_Level Marital_Status Income_Category Card_Category  \\\n",
       "0     High School        Married     $60K - $80K          Blue   \n",
       "1        Graduate         Single  Less than $40K          Blue   \n",
       "2        Graduate        Married    $80K - $120K          Blue   \n",
       "3     High School        Unknown  Less than $40K          Blue   \n",
       "4      Uneducated        Married     $60K - $80K          Blue   \n",
       "\n",
       "   Months_on_book  ...  Credit_Limit  Total_Revolving_Bal  Avg_Open_To_Buy  \\\n",
       "0              39  ...       12691.0                  777          11914.0   \n",
       "1              44  ...        8256.0                  864           7392.0   \n",
       "2              36  ...        3418.0                    0           3418.0   \n",
       "3              34  ...        3313.0                 2517            796.0   \n",
       "4              21  ...        4716.0                    0           4716.0   \n",
       "\n",
       "   Total_Amt_Chng_Q4_Q1  Total_Trans_Amt  Total_Trans_Ct  Total_Ct_Chng_Q4_Q1  \\\n",
       "0                 1.335             1144              42                1.625   \n",
       "1                 1.541             1291              33                3.714   \n",
       "2                 2.594             1887              20                2.333   \n",
       "3                 1.405             1171              20                2.333   \n",
       "4                 2.175              816              28                2.500   \n",
       "\n",
       "   Avg_Utilization_Ratio  \\\n",
       "0                  0.061   \n",
       "1                  0.105   \n",
       "2                  0.000   \n",
       "3                  0.760   \n",
       "4                  0.000   \n",
       "\n",
       "   Naive_Bayes_Classifier_Attrition_Flag_Card_Category_Contacts_Count_12_mon_Dependent_count_Education_Level_Months_Inactive_12_mon_1  \\\n",
       "0                                           0.000093                                                                                    \n",
       "1                                           0.000057                                                                                    \n",
       "2                                           0.000021                                                                                    \n",
       "3                                           0.000134                                                                                    \n",
       "4                                           0.000022                                                                                    \n",
       "\n",
       "   Naive_Bayes_Classifier_Attrition_Flag_Card_Category_Contacts_Count_12_mon_Dependent_count_Education_Level_Months_Inactive_12_mon_2  \n",
       "0                                            0.99991                                                                                   \n",
       "1                                            0.99994                                                                                   \n",
       "2                                            0.99998                                                                                   \n",
       "3                                            0.99987                                                                                   \n",
       "4                                            0.99998                                                                                   \n",
       "\n",
       "[5 rows x 23 columns]"
      ]
     },
     "execution_count": 132,
     "metadata": {},
     "output_type": "execute_result"
    }
   ],
   "source": [
    "bankchurn.head()"
   ]
  },
  {
   "cell_type": "code",
   "execution_count": 133,
   "metadata": {},
   "outputs": [
    {
     "data": {
      "text/plain": [
       "Index(['CLIENTNUM', 'Attrition_Flag', 'Customer_Age', 'Gender',\n",
       "       'Dependent_count', 'Education_Level', 'Marital_Status',\n",
       "       'Income_Category', 'Card_Category', 'Months_on_book',\n",
       "       'Total_Relationship_Count', 'Months_Inactive_12_mon',\n",
       "       'Contacts_Count_12_mon', 'Credit_Limit', 'Total_Revolving_Bal',\n",
       "       'Avg_Open_To_Buy', 'Total_Amt_Chng_Q4_Q1', 'Total_Trans_Amt',\n",
       "       'Total_Trans_Ct', 'Total_Ct_Chng_Q4_Q1', 'Avg_Utilization_Ratio',\n",
       "       'Naive_Bayes_Classifier_Attrition_Flag_Card_Category_Contacts_Count_12_mon_Dependent_count_Education_Level_Months_Inactive_12_mon_1',\n",
       "       'Naive_Bayes_Classifier_Attrition_Flag_Card_Category_Contacts_Count_12_mon_Dependent_count_Education_Level_Months_Inactive_12_mon_2'],\n",
       "      dtype='object')"
      ]
     },
     "execution_count": 133,
     "metadata": {},
     "output_type": "execute_result"
    }
   ],
   "source": [
    "bankchurn.columns"
   ]
  },
  {
   "cell_type": "markdown",
   "metadata": {},
   "source": [
    "### De verloopvlag voorspellen op basis van hoeveel transacties ze afgelopen 12 maanden hebben gedaan"
   ]
  },
  {
   "cell_type": "code",
   "execution_count": 134,
   "metadata": {},
   "outputs": [
    {
     "data": {
      "text/plain": [
       "DecisionTreeClassifier(max_depth=3)"
      ]
     },
     "execution_count": 134,
     "metadata": {},
     "output_type": "execute_result"
    }
   ],
   "source": [
    "features= ['Months_Inactive_12_mon']\n",
    "dt = DecisionTreeClassifier(max_depth = 3) # Increase max_depth to see effect in the plot\n",
    "dt.fit(bankchurn[features], bankchurn['Attrition_Flag'])"
   ]
  },
  {
   "cell_type": "code",
   "execution_count": 135,
   "metadata": {},
   "outputs": [],
   "source": [
    "from sklearn.model_selection import train_test_split"
   ]
  },
  {
   "cell_type": "code",
   "execution_count": 136,
   "metadata": {},
   "outputs": [],
   "source": [
    "from sklearn import tree\n",
    "import graphviz\n",
    "\n",
    "def plot_tree_classification(model, features, class_names):\n",
    "    # Generate plot data\n",
    "    dot_data = tree.export_graphviz(model, out_file=None, \n",
    "                          feature_names=features,  \n",
    "                          class_names=class_names,  \n",
    "                          filled=True, rounded=True,  \n",
    "                          special_characters=True)  \n",
    "\n",
    "    # Turn into graph using graphviz\n",
    "    graph = graphviz.Source(dot_data)  \n",
    "\n",
    "    # Write out a pdf\n",
    "    graph.render(\"decision_tree\")\n",
    "\n",
    "    # Display in the notebook\n",
    "    return graph "
   ]
  },
  {
   "cell_type": "code",
   "execution_count": 137,
   "metadata": {},
   "outputs": [
    {
     "data": {
      "image/svg+xml": [
       "<?xml version=\"1.0\" encoding=\"UTF-8\" standalone=\"no\"?>\r\n",
       "<!DOCTYPE svg PUBLIC \"-//W3C//DTD SVG 1.1//EN\"\r\n",
       " \"http://www.w3.org/Graphics/SVG/1.1/DTD/svg11.dtd\">\r\n",
       "<!-- Generated by graphviz version 2.38.0 (20140413.2041)\r\n",
       " -->\r\n",
       "<!-- Title: Tree Pages: 1 -->\r\n",
       "<svg width=\"908pt\" height=\"433pt\"\r\n",
       " viewBox=\"0.00 0.00 907.50 433.00\" xmlns=\"http://www.w3.org/2000/svg\" xmlns:xlink=\"http://www.w3.org/1999/xlink\">\r\n",
       "<g id=\"graph0\" class=\"graph\" transform=\"scale(1 1) rotate(0) translate(4 429)\">\r\n",
       "<title>Tree</title>\r\n",
       "<polygon fill=\"white\" stroke=\"none\" points=\"-4,4 -4,-429 903.5,-429 903.5,4 -4,4\"/>\r\n",
       "<!-- 0 -->\r\n",
       "<g id=\"node1\" class=\"node\"><title>0</title>\r\n",
       "<path fill=\"#5fb0ea\" stroke=\"black\" d=\"M489,-425C489,-425 298,-425 298,-425 292,-425 286,-419 286,-413 286,-413 286,-354 286,-354 286,-348 292,-342 298,-342 298,-342 489,-342 489,-342 495,-342 501,-348 501,-354 501,-354 501,-413 501,-413 501,-419 495,-425 489,-425\"/>\r\n",
       "<text text-anchor=\"start\" x=\"294\" y=\"-409.8\" font-family=\"Helvetica,sans-Serif\" font-size=\"14.00\">Months_Inactive_12_mon ≤ 1.5</text>\r\n",
       "<text text-anchor=\"start\" x=\"360\" y=\"-394.8\" font-family=\"Helvetica,sans-Serif\" font-size=\"14.00\">gini = 0.27</text>\r\n",
       "<text text-anchor=\"start\" x=\"337.5\" y=\"-379.8\" font-family=\"Helvetica,sans-Serif\" font-size=\"14.00\">samples = 10127</text>\r\n",
       "<text text-anchor=\"start\" x=\"328.5\" y=\"-364.8\" font-family=\"Helvetica,sans-Serif\" font-size=\"14.00\">value = [1627, 8500]</text>\r\n",
       "<text text-anchor=\"start\" x=\"313.5\" y=\"-349.8\" font-family=\"Helvetica,sans-Serif\" font-size=\"14.00\">class = Attrited Customer</text>\r\n",
       "</g>\r\n",
       "<!-- 1 -->\r\n",
       "<g id=\"node2\" class=\"node\"><title>1</title>\r\n",
       "<path fill=\"#44a2e6\" stroke=\"black\" d=\"M373,-306C373,-306 182,-306 182,-306 176,-306 170,-300 170,-294 170,-294 170,-235 170,-235 170,-229 176,-223 182,-223 182,-223 373,-223 373,-223 379,-223 385,-229 385,-235 385,-235 385,-294 385,-294 385,-300 379,-306 373,-306\"/>\r\n",
       "<text text-anchor=\"start\" x=\"178\" y=\"-290.8\" font-family=\"Helvetica,sans-Serif\" font-size=\"14.00\">Months_Inactive_12_mon ≤ 0.5</text>\r\n",
       "<text text-anchor=\"start\" x=\"240\" y=\"-275.8\" font-family=\"Helvetica,sans-Serif\" font-size=\"14.00\">gini = 0.097</text>\r\n",
       "<text text-anchor=\"start\" x=\"226\" y=\"-260.8\" font-family=\"Helvetica,sans-Serif\" font-size=\"14.00\">samples = 2262</text>\r\n",
       "<text text-anchor=\"start\" x=\"216.5\" y=\"-245.8\" font-family=\"Helvetica,sans-Serif\" font-size=\"14.00\">value = [115, 2147]</text>\r\n",
       "<text text-anchor=\"start\" x=\"197.5\" y=\"-230.8\" font-family=\"Helvetica,sans-Serif\" font-size=\"14.00\">class = Attrited Customer</text>\r\n",
       "</g>\r\n",
       "<!-- 0&#45;&gt;1 -->\r\n",
       "<g id=\"edge1\" class=\"edge\"><title>0&#45;&gt;1</title>\r\n",
       "<path fill=\"none\" stroke=\"black\" d=\"M353.254,-341.907C344.077,-332.651 334.243,-322.732 324.801,-313.209\"/>\r\n",
       "<polygon fill=\"black\" stroke=\"black\" points=\"327.201,-310.658 317.674,-306.021 322.23,-315.586 327.201,-310.658\"/>\r\n",
       "<text text-anchor=\"middle\" x=\"317.567\" y=\"-327.321\" font-family=\"Helvetica,sans-Serif\" font-size=\"14.00\">True</text>\r\n",
       "</g>\r\n",
       "<!-- 4 -->\r\n",
       "<g id=\"node5\" class=\"node\"><title>4</title>\r\n",
       "<path fill=\"#68b4eb\" stroke=\"black\" d=\"M606,-306C606,-306 415,-306 415,-306 409,-306 403,-300 403,-294 403,-294 403,-235 403,-235 403,-229 409,-223 415,-223 415,-223 606,-223 606,-223 612,-223 618,-229 618,-235 618,-235 618,-294 618,-294 618,-300 612,-306 606,-306\"/>\r\n",
       "<text text-anchor=\"start\" x=\"411\" y=\"-290.8\" font-family=\"Helvetica,sans-Serif\" font-size=\"14.00\">Months_Inactive_12_mon ≤ 2.5</text>\r\n",
       "<text text-anchor=\"start\" x=\"473\" y=\"-275.8\" font-family=\"Helvetica,sans-Serif\" font-size=\"14.00\">gini = 0.311</text>\r\n",
       "<text text-anchor=\"start\" x=\"459\" y=\"-260.8\" font-family=\"Helvetica,sans-Serif\" font-size=\"14.00\">samples = 7865</text>\r\n",
       "<text text-anchor=\"start\" x=\"445.5\" y=\"-245.8\" font-family=\"Helvetica,sans-Serif\" font-size=\"14.00\">value = [1512, 6353]</text>\r\n",
       "<text text-anchor=\"start\" x=\"430.5\" y=\"-230.8\" font-family=\"Helvetica,sans-Serif\" font-size=\"14.00\">class = Attrited Customer</text>\r\n",
       "</g>\r\n",
       "<!-- 0&#45;&gt;4 -->\r\n",
       "<g id=\"edge4\" class=\"edge\"><title>0&#45;&gt;4</title>\r\n",
       "<path fill=\"none\" stroke=\"black\" d=\"M434.093,-341.907C443.349,-332.651 453.268,-322.732 462.791,-313.209\"/>\r\n",
       "<polygon fill=\"black\" stroke=\"black\" points=\"465.383,-315.567 469.979,-306.021 460.433,-310.617 465.383,-315.567\"/>\r\n",
       "<text text-anchor=\"middle\" x=\"469.979\" y=\"-327.321\" font-family=\"Helvetica,sans-Serif\" font-size=\"14.00\">False</text>\r\n",
       "</g>\r\n",
       "<!-- 2 -->\r\n",
       "<g id=\"node3\" class=\"node\"><title>2</title>\r\n",
       "<path fill=\"#fdf7f2\" stroke=\"black\" d=\"M169,-179.5C169,-179.5 12,-179.5 12,-179.5 6,-179.5 0,-173.5 0,-167.5 0,-167.5 0,-123.5 0,-123.5 0,-117.5 6,-111.5 12,-111.5 12,-111.5 169,-111.5 169,-111.5 175,-111.5 181,-117.5 181,-123.5 181,-123.5 181,-167.5 181,-167.5 181,-173.5 175,-179.5 169,-179.5\"/>\r\n",
       "<text text-anchor=\"start\" x=\"53\" y=\"-164.3\" font-family=\"Helvetica,sans-Serif\" font-size=\"14.00\">gini = 0.499</text>\r\n",
       "<text text-anchor=\"start\" x=\"47\" y=\"-149.3\" font-family=\"Helvetica,sans-Serif\" font-size=\"14.00\">samples = 29</text>\r\n",
       "<text text-anchor=\"start\" x=\"42\" y=\"-134.3\" font-family=\"Helvetica,sans-Serif\" font-size=\"14.00\">value = [15, 14]</text>\r\n",
       "<text text-anchor=\"start\" x=\"8\" y=\"-119.3\" font-family=\"Helvetica,sans-Serif\" font-size=\"14.00\">class = Existing Customer</text>\r\n",
       "</g>\r\n",
       "<!-- 1&#45;&gt;2 -->\r\n",
       "<g id=\"edge2\" class=\"edge\"><title>1&#45;&gt;2</title>\r\n",
       "<path fill=\"none\" stroke=\"black\" d=\"M212.621,-222.907C193.045,-210.659 171.616,-197.252 152.249,-185.135\"/>\r\n",
       "<polygon fill=\"black\" stroke=\"black\" points=\"153.844,-182.004 143.51,-179.667 150.131,-187.938 153.844,-182.004\"/>\r\n",
       "</g>\r\n",
       "<!-- 3 -->\r\n",
       "<g id=\"node4\" class=\"node\"><title>3</title>\r\n",
       "<path fill=\"#42a2e6\" stroke=\"black\" d=\"M363.5,-179.5C363.5,-179.5 211.5,-179.5 211.5,-179.5 205.5,-179.5 199.5,-173.5 199.5,-167.5 199.5,-167.5 199.5,-123.5 199.5,-123.5 199.5,-117.5 205.5,-111.5 211.5,-111.5 211.5,-111.5 363.5,-111.5 363.5,-111.5 369.5,-111.5 375.5,-117.5 375.5,-123.5 375.5,-123.5 375.5,-167.5 375.5,-167.5 375.5,-173.5 369.5,-179.5 363.5,-179.5\"/>\r\n",
       "<text text-anchor=\"start\" x=\"250\" y=\"-164.3\" font-family=\"Helvetica,sans-Serif\" font-size=\"14.00\">gini = 0.086</text>\r\n",
       "<text text-anchor=\"start\" x=\"236\" y=\"-149.3\" font-family=\"Helvetica,sans-Serif\" font-size=\"14.00\">samples = 2233</text>\r\n",
       "<text text-anchor=\"start\" x=\"226.5\" y=\"-134.3\" font-family=\"Helvetica,sans-Serif\" font-size=\"14.00\">value = [100, 2133]</text>\r\n",
       "<text text-anchor=\"start\" x=\"207.5\" y=\"-119.3\" font-family=\"Helvetica,sans-Serif\" font-size=\"14.00\">class = Attrited Customer</text>\r\n",
       "</g>\r\n",
       "<!-- 1&#45;&gt;3 -->\r\n",
       "<g id=\"edge3\" class=\"edge\"><title>1&#45;&gt;3</title>\r\n",
       "<path fill=\"none\" stroke=\"black\" d=\"M280.969,-222.907C281.884,-212.204 282.875,-200.615 283.801,-189.776\"/>\r\n",
       "<polygon fill=\"black\" stroke=\"black\" points=\"287.301,-189.929 284.665,-179.667 280.326,-189.333 287.301,-189.929\"/>\r\n",
       "</g>\r\n",
       "<!-- 5 -->\r\n",
       "<g id=\"node6\" class=\"node\"><title>5</title>\r\n",
       "<path fill=\"#5dafea\" stroke=\"black\" d=\"M576.5,-179.5C576.5,-179.5 424.5,-179.5 424.5,-179.5 418.5,-179.5 412.5,-173.5 412.5,-167.5 412.5,-167.5 412.5,-123.5 412.5,-123.5 412.5,-117.5 418.5,-111.5 424.5,-111.5 424.5,-111.5 576.5,-111.5 576.5,-111.5 582.5,-111.5 588.5,-117.5 588.5,-123.5 588.5,-123.5 588.5,-167.5 588.5,-167.5 588.5,-173.5 582.5,-179.5 576.5,-179.5\"/>\r\n",
       "<text text-anchor=\"start\" x=\"467\" y=\"-164.3\" font-family=\"Helvetica,sans-Serif\" font-size=\"14.00\">gini = 0.26</text>\r\n",
       "<text text-anchor=\"start\" x=\"449\" y=\"-149.3\" font-family=\"Helvetica,sans-Serif\" font-size=\"14.00\">samples = 3282</text>\r\n",
       "<text text-anchor=\"start\" x=\"439.5\" y=\"-134.3\" font-family=\"Helvetica,sans-Serif\" font-size=\"14.00\">value = [505, 2777]</text>\r\n",
       "<text text-anchor=\"start\" x=\"420.5\" y=\"-119.3\" font-family=\"Helvetica,sans-Serif\" font-size=\"14.00\">class = Attrited Customer</text>\r\n",
       "</g>\r\n",
       "<!-- 4&#45;&gt;5 -->\r\n",
       "<g id=\"edge5\" class=\"edge\"><title>4&#45;&gt;5</title>\r\n",
       "<path fill=\"none\" stroke=\"black\" d=\"M507.031,-222.907C506.116,-212.204 505.125,-200.615 504.199,-189.776\"/>\r\n",
       "<polygon fill=\"black\" stroke=\"black\" points=\"507.674,-189.333 503.335,-179.667 500.699,-189.929 507.674,-189.333\"/>\r\n",
       "</g>\r\n",
       "<!-- 6 -->\r\n",
       "<g id=\"node7\" class=\"node\"><title>6</title>\r\n",
       "<path fill=\"#71b9ec\" stroke=\"black\" d=\"M810,-187C810,-187 619,-187 619,-187 613,-187 607,-181 607,-175 607,-175 607,-116 607,-116 607,-110 613,-104 619,-104 619,-104 810,-104 810,-104 816,-104 822,-110 822,-116 822,-116 822,-175 822,-175 822,-181 816,-187 810,-187\"/>\r\n",
       "<text text-anchor=\"start\" x=\"615\" y=\"-171.8\" font-family=\"Helvetica,sans-Serif\" font-size=\"14.00\">Months_Inactive_12_mon ≤ 4.5</text>\r\n",
       "<text text-anchor=\"start\" x=\"677\" y=\"-156.8\" font-family=\"Helvetica,sans-Serif\" font-size=\"14.00\">gini = 0.343</text>\r\n",
       "<text text-anchor=\"start\" x=\"663\" y=\"-141.8\" font-family=\"Helvetica,sans-Serif\" font-size=\"14.00\">samples = 4583</text>\r\n",
       "<text text-anchor=\"start\" x=\"649.5\" y=\"-126.8\" font-family=\"Helvetica,sans-Serif\" font-size=\"14.00\">value = [1007, 3576]</text>\r\n",
       "<text text-anchor=\"start\" x=\"634.5\" y=\"-111.8\" font-family=\"Helvetica,sans-Serif\" font-size=\"14.00\">class = Attrited Customer</text>\r\n",
       "</g>\r\n",
       "<!-- 4&#45;&gt;6 -->\r\n",
       "<g id=\"edge6\" class=\"edge\"><title>4&#45;&gt;6</title>\r\n",
       "<path fill=\"none\" stroke=\"black\" d=\"M581.277,-222.907C598.524,-213.016 617.09,-202.368 634.724,-192.254\"/>\r\n",
       "<polygon fill=\"black\" stroke=\"black\" points=\"636.915,-195.032 643.848,-187.021 633.432,-188.96 636.915,-195.032\"/>\r\n",
       "</g>\r\n",
       "<!-- 7 -->\r\n",
       "<g id=\"node8\" class=\"node\"><title>7</title>\r\n",
       "<path fill=\"#72b9ec\" stroke=\"black\" d=\"M693.5,-68C693.5,-68 541.5,-68 541.5,-68 535.5,-68 529.5,-62 529.5,-56 529.5,-56 529.5,-12 529.5,-12 529.5,-6 535.5,-0 541.5,-0 541.5,-0 693.5,-0 693.5,-0 699.5,-0 705.5,-6 705.5,-12 705.5,-12 705.5,-56 705.5,-56 705.5,-62 699.5,-68 693.5,-68\"/>\r\n",
       "<text text-anchor=\"start\" x=\"580\" y=\"-52.8\" font-family=\"Helvetica,sans-Serif\" font-size=\"14.00\">gini = 0.347</text>\r\n",
       "<text text-anchor=\"start\" x=\"566\" y=\"-37.8\" font-family=\"Helvetica,sans-Serif\" font-size=\"14.00\">samples = 4281</text>\r\n",
       "<text text-anchor=\"start\" x=\"556.5\" y=\"-22.8\" font-family=\"Helvetica,sans-Serif\" font-size=\"14.00\">value = [956, 3325]</text>\r\n",
       "<text text-anchor=\"start\" x=\"537.5\" y=\"-7.8\" font-family=\"Helvetica,sans-Serif\" font-size=\"14.00\">class = Attrited Customer</text>\r\n",
       "</g>\r\n",
       "<!-- 6&#45;&gt;7 -->\r\n",
       "<g id=\"edge7\" class=\"edge\"><title>6&#45;&gt;7</title>\r\n",
       "<path fill=\"none\" stroke=\"black\" d=\"M678.381,-103.726C670.301,-94.6054 661.73,-84.93 653.649,-75.8078\"/>\r\n",
       "<polygon fill=\"black\" stroke=\"black\" points=\"656.249,-73.4642 646.998,-68.2996 651.009,-78.1058 656.249,-73.4642\"/>\r\n",
       "</g>\r\n",
       "<!-- 8 -->\r\n",
       "<g id=\"node9\" class=\"node\"><title>8</title>\r\n",
       "<path fill=\"#61b1ea\" stroke=\"black\" d=\"M887.5,-68C887.5,-68 735.5,-68 735.5,-68 729.5,-68 723.5,-62 723.5,-56 723.5,-56 723.5,-12 723.5,-12 723.5,-6 729.5,-0 735.5,-0 735.5,-0 887.5,-0 887.5,-0 893.5,-0 899.5,-6 899.5,-12 899.5,-12 899.5,-56 899.5,-56 899.5,-62 893.5,-68 887.5,-68\"/>\r\n",
       "<text text-anchor=\"start\" x=\"774\" y=\"-52.8\" font-family=\"Helvetica,sans-Serif\" font-size=\"14.00\">gini = 0.281</text>\r\n",
       "<text text-anchor=\"start\" x=\"764\" y=\"-37.8\" font-family=\"Helvetica,sans-Serif\" font-size=\"14.00\">samples = 302</text>\r\n",
       "<text text-anchor=\"start\" x=\"758.5\" y=\"-22.8\" font-family=\"Helvetica,sans-Serif\" font-size=\"14.00\">value = [51, 251]</text>\r\n",
       "<text text-anchor=\"start\" x=\"731.5\" y=\"-7.8\" font-family=\"Helvetica,sans-Serif\" font-size=\"14.00\">class = Attrited Customer</text>\r\n",
       "</g>\r\n",
       "<!-- 6&#45;&gt;8 -->\r\n",
       "<g id=\"edge8\" class=\"edge\"><title>6&#45;&gt;8</title>\r\n",
       "<path fill=\"none\" stroke=\"black\" d=\"M750.619,-103.726C758.699,-94.6054 767.27,-84.93 775.351,-75.8078\"/>\r\n",
       "<polygon fill=\"black\" stroke=\"black\" points=\"777.991,-78.1058 782.002,-68.2996 772.751,-73.4642 777.991,-78.1058\"/>\r\n",
       "</g>\r\n",
       "</g>\r\n",
       "</svg>\r\n"
      ],
      "text/plain": [
       "<graphviz.files.Source at 0x1e0175311c0>"
      ]
     },
     "execution_count": 137,
     "metadata": {},
     "output_type": "execute_result"
    }
   ],
   "source": [
    "plot_tree_classification(dt, features, bankchurn.Attrition_Flag.unique())"
   ]
  },
  {
   "cell_type": "markdown",
   "metadata": {},
   "source": [
    "We zien hier dat als een klant langer dan een halve maand inactief is, die waarschijnlijk weg gaat bij de bank. Alleen bestaande klanten hebben een inactiviteit van minder dan een halve maand."
   ]
  },
  {
   "cell_type": "markdown",
   "metadata": {},
   "source": [
    "### Test 30% / Train 70%"
   ]
  },
  {
   "cell_type": "code",
   "execution_count": 138,
   "metadata": {},
   "outputs": [],
   "source": [
    "from sklearn.model_selection import train_test_split"
   ]
  },
  {
   "cell_type": "code",
   "execution_count": 139,
   "metadata": {},
   "outputs": [
    {
     "name": "stdout",
     "output_type": "stream",
     "text": [
      "(7088, 23) (3039, 23)\n"
     ]
    }
   ],
   "source": [
    "bankchurners_train, bankchurners_test = train_test_split(bankchurn, test_size=0.3, stratify=bankchurn['Attrition_Flag'], random_state=42)\n",
    "print(bankchurners_train.shape, bankchurners_test.shape)"
   ]
  },
  {
   "cell_type": "markdown",
   "metadata": {},
   "source": [
    "7088 rijen voor train (70%), 3039 voor test (30%). De verloopvlag is onze target variabele. We proberen achter de verloopvlag te komen d.m.v. het aantal maanden inactiviteit."
   ]
  },
  {
   "cell_type": "code",
   "execution_count": 140,
   "metadata": {},
   "outputs": [
    {
     "data": {
      "text/plain": [
       "DecisionTreeClassifier(max_depth=2)"
      ]
     },
     "execution_count": 140,
     "metadata": {},
     "output_type": "execute_result"
    }
   ],
   "source": [
    "features= ['Months_Inactive_12_mon']\n",
    "dt_classification = DecisionTreeClassifier(max_depth = 2)\n",
    "dt_classification.fit(bankchurners_train[features], bankchurners_train['Attrition_Flag'])"
   ]
  },
  {
   "cell_type": "code",
   "execution_count": 141,
   "metadata": {},
   "outputs": [
    {
     "name": "stdout",
     "output_type": "stream",
     "text": [
      "Accuracy on training set 0.8394469525959368\n",
      "Accuracy on test set 0.8394208621256992\n"
     ]
    }
   ],
   "source": [
    "predictionsOnTrainset = dt_classification.predict(bankchurners_train[features])\n",
    "predictionsOnTestset = dt_classification.predict(bankchurners_test[features])\n",
    "\n",
    "accuracyTrain = calculate_accuracy(predictionsOnTrainset, bankchurners_train.Attrition_Flag)\n",
    "accuracyTest = calculate_accuracy(predictionsOnTestset, bankchurners_test.Attrition_Flag)\n",
    "\n",
    "print(\"Accuracy on training set \" + str(accuracyTrain))\n",
    "print(\"Accuracy on test set \" + str(accuracyTest))"
   ]
  },
  {
   "cell_type": "markdown",
   "metadata": {},
   "source": [
    "De nauwkeurigheid van de training én test zijn beide hoog, waarvan de training iets nauwkeuriger is met +-0.0002%. Beide training en test set is in dit geval bijna gelijk, waarschijnlijk door het feit dat het beide meer data heeft. Intotaal namelijk 10k."
   ]
  }
 ],
 "metadata": {
  "kernelspec": {
   "display_name": "Python 3",
   "language": "python",
   "name": "python3"
  },
  "language_info": {
   "codemirror_mode": {
    "name": "ipython",
    "version": 3
   },
   "file_extension": ".py",
   "mimetype": "text/x-python",
   "name": "python",
   "nbconvert_exporter": "python",
   "pygments_lexer": "ipython3",
   "version": "3.8.5"
  }
 },
 "nbformat": 4,
 "nbformat_minor": 4
}
