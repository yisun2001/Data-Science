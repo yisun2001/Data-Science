{
 "cells": [
  {
   "cell_type": "markdown",
   "metadata": {},
   "source": [
    "### Portfolio assignment 11\n",
    "20 min: Do a Numerical VS Categorical bivariate analysis on the penguins dataset.\n",
    "- Choose one of the categorical columns: species, island or sex\n",
    "- use .groupby('<columnname>').mean() too look at the means of the numerical columns. Does it look like there is a difference between categories?\n",
    "- Use the seaborn barplot to plot the mean and confidence. Create this plot for each of the numerical columns (bill_length_mm\tbill_depth_mm, flipper_length_mm, body_mass_g)\n",
    "- For each of the plots, write a conclusion: Is there a statistically significant difference for this numerical column for each category?\n",
    "- Optional: Repeat this proces for the other two categorical columns"
   ]
  },
  {
   "cell_type": "code",
   "execution_count": 1,
   "metadata": {},
   "outputs": [],
   "source": [
    "import pandas as pd\n",
    "import seaborn as sns\n",
    "import numpy as np\n",
    "import matplotlib.pyplot as plt\n",
    "from scipy.stats import gaussian_kde"
   ]
  },
  {
   "cell_type": "code",
   "execution_count": 3,
   "metadata": {},
   "outputs": [],
   "source": [
    "penguins = sns.load_dataset(\"penguins\")"
   ]
  },
  {
   "cell_type": "code",
   "execution_count": 4,
   "metadata": {},
   "outputs": [
    {
     "data": {
      "text/html": [
       "<div>\n",
       "<style scoped>\n",
       "    .dataframe tbody tr th:only-of-type {\n",
       "        vertical-align: middle;\n",
       "    }\n",
       "\n",
       "    .dataframe tbody tr th {\n",
       "        vertical-align: top;\n",
       "    }\n",
       "\n",
       "    .dataframe thead th {\n",
       "        text-align: right;\n",
       "    }\n",
       "</style>\n",
       "<table border=\"1\" class=\"dataframe\">\n",
       "  <thead>\n",
       "    <tr style=\"text-align: right;\">\n",
       "      <th></th>\n",
       "      <th>species</th>\n",
       "      <th>island</th>\n",
       "      <th>bill_length_mm</th>\n",
       "      <th>bill_depth_mm</th>\n",
       "      <th>flipper_length_mm</th>\n",
       "      <th>body_mass_g</th>\n",
       "      <th>sex</th>\n",
       "    </tr>\n",
       "  </thead>\n",
       "  <tbody>\n",
       "    <tr>\n",
       "      <th>0</th>\n",
       "      <td>Adelie</td>\n",
       "      <td>Torgersen</td>\n",
       "      <td>39.1</td>\n",
       "      <td>18.7</td>\n",
       "      <td>181.0</td>\n",
       "      <td>3750.0</td>\n",
       "      <td>Male</td>\n",
       "    </tr>\n",
       "    <tr>\n",
       "      <th>1</th>\n",
       "      <td>Adelie</td>\n",
       "      <td>Torgersen</td>\n",
       "      <td>39.5</td>\n",
       "      <td>17.4</td>\n",
       "      <td>186.0</td>\n",
       "      <td>3800.0</td>\n",
       "      <td>Female</td>\n",
       "    </tr>\n",
       "    <tr>\n",
       "      <th>2</th>\n",
       "      <td>Adelie</td>\n",
       "      <td>Torgersen</td>\n",
       "      <td>40.3</td>\n",
       "      <td>18.0</td>\n",
       "      <td>195.0</td>\n",
       "      <td>3250.0</td>\n",
       "      <td>Female</td>\n",
       "    </tr>\n",
       "    <tr>\n",
       "      <th>3</th>\n",
       "      <td>Adelie</td>\n",
       "      <td>Torgersen</td>\n",
       "      <td>NaN</td>\n",
       "      <td>NaN</td>\n",
       "      <td>NaN</td>\n",
       "      <td>NaN</td>\n",
       "      <td>NaN</td>\n",
       "    </tr>\n",
       "    <tr>\n",
       "      <th>4</th>\n",
       "      <td>Adelie</td>\n",
       "      <td>Torgersen</td>\n",
       "      <td>36.7</td>\n",
       "      <td>19.3</td>\n",
       "      <td>193.0</td>\n",
       "      <td>3450.0</td>\n",
       "      <td>Female</td>\n",
       "    </tr>\n",
       "  </tbody>\n",
       "</table>\n",
       "</div>"
      ],
      "text/plain": [
       "  species     island  bill_length_mm  bill_depth_mm  flipper_length_mm  \\\n",
       "0  Adelie  Torgersen            39.1           18.7              181.0   \n",
       "1  Adelie  Torgersen            39.5           17.4              186.0   \n",
       "2  Adelie  Torgersen            40.3           18.0              195.0   \n",
       "3  Adelie  Torgersen             NaN            NaN                NaN   \n",
       "4  Adelie  Torgersen            36.7           19.3              193.0   \n",
       "\n",
       "   body_mass_g     sex  \n",
       "0       3750.0    Male  \n",
       "1       3800.0  Female  \n",
       "2       3250.0  Female  \n",
       "3          NaN     NaN  \n",
       "4       3450.0  Female  "
      ]
     },
     "execution_count": 4,
     "metadata": {},
     "output_type": "execute_result"
    }
   ],
   "source": [
    "penguins.head()"
   ]
  },
  {
   "cell_type": "code",
   "execution_count": 5,
   "metadata": {},
   "outputs": [
    {
     "data": {
      "text/html": [
       "<style  type=\"text/css\" >\n",
       "#T_6ae19fec_6c7f_11eb_a44b_58a023d3f706row0_col0,#T_6ae19fec_6c7f_11eb_a44b_58a023d3f706row1_col1,#T_6ae19fec_6c7f_11eb_a44b_58a023d3f706row2_col2,#T_6ae19fec_6c7f_11eb_a44b_58a023d3f706row3_col3{\n",
       "            background-color:  #b40426;\n",
       "            color:  #f1f1f1;\n",
       "        }#T_6ae19fec_6c7f_11eb_a44b_58a023d3f706row0_col1,#T_6ae19fec_6c7f_11eb_a44b_58a023d3f706row1_col0{\n",
       "            background-color:  #82a6fb;\n",
       "            color:  #000000;\n",
       "        }#T_6ae19fec_6c7f_11eb_a44b_58a023d3f706row0_col2,#T_6ae19fec_6c7f_11eb_a44b_58a023d3f706row2_col0{\n",
       "            background-color:  #f08b6e;\n",
       "            color:  #000000;\n",
       "        }#T_6ae19fec_6c7f_11eb_a44b_58a023d3f706row0_col3,#T_6ae19fec_6c7f_11eb_a44b_58a023d3f706row3_col0{\n",
       "            background-color:  #f59c7d;\n",
       "            color:  #000000;\n",
       "        }#T_6ae19fec_6c7f_11eb_a44b_58a023d3f706row1_col2,#T_6ae19fec_6c7f_11eb_a44b_58a023d3f706row2_col1{\n",
       "            background-color:  #3b4cc0;\n",
       "            color:  #f1f1f1;\n",
       "        }#T_6ae19fec_6c7f_11eb_a44b_58a023d3f706row1_col3,#T_6ae19fec_6c7f_11eb_a44b_58a023d3f706row3_col1{\n",
       "            background-color:  #506bda;\n",
       "            color:  #000000;\n",
       "        }#T_6ae19fec_6c7f_11eb_a44b_58a023d3f706row2_col3,#T_6ae19fec_6c7f_11eb_a44b_58a023d3f706row3_col2{\n",
       "            background-color:  #d0473d;\n",
       "            color:  #f1f1f1;\n",
       "        }</style><table id=\"T_6ae19fec_6c7f_11eb_a44b_58a023d3f706\" ><thead>    <tr>        <th class=\"blank level0\" ></th>        <th class=\"col_heading level0 col0\" >bill_length_mm</th>        <th class=\"col_heading level0 col1\" >bill_depth_mm</th>        <th class=\"col_heading level0 col2\" >flipper_length_mm</th>        <th class=\"col_heading level0 col3\" >body_mass_g</th>    </tr></thead><tbody>\n",
       "                <tr>\n",
       "                        <th id=\"T_6ae19fec_6c7f_11eb_a44b_58a023d3f706level0_row0\" class=\"row_heading level0 row0\" >bill_length_mm</th>\n",
       "                        <td id=\"T_6ae19fec_6c7f_11eb_a44b_58a023d3f706row0_col0\" class=\"data row0 col0\" >1.00</td>\n",
       "                        <td id=\"T_6ae19fec_6c7f_11eb_a44b_58a023d3f706row0_col1\" class=\"data row0 col1\" >-0.24</td>\n",
       "                        <td id=\"T_6ae19fec_6c7f_11eb_a44b_58a023d3f706row0_col2\" class=\"data row0 col2\" >0.66</td>\n",
       "                        <td id=\"T_6ae19fec_6c7f_11eb_a44b_58a023d3f706row0_col3\" class=\"data row0 col3\" >0.60</td>\n",
       "            </tr>\n",
       "            <tr>\n",
       "                        <th id=\"T_6ae19fec_6c7f_11eb_a44b_58a023d3f706level0_row1\" class=\"row_heading level0 row1\" >bill_depth_mm</th>\n",
       "                        <td id=\"T_6ae19fec_6c7f_11eb_a44b_58a023d3f706row1_col0\" class=\"data row1 col0\" >-0.24</td>\n",
       "                        <td id=\"T_6ae19fec_6c7f_11eb_a44b_58a023d3f706row1_col1\" class=\"data row1 col1\" >1.00</td>\n",
       "                        <td id=\"T_6ae19fec_6c7f_11eb_a44b_58a023d3f706row1_col2\" class=\"data row1 col2\" >-0.58</td>\n",
       "                        <td id=\"T_6ae19fec_6c7f_11eb_a44b_58a023d3f706row1_col3\" class=\"data row1 col3\" >-0.47</td>\n",
       "            </tr>\n",
       "            <tr>\n",
       "                        <th id=\"T_6ae19fec_6c7f_11eb_a44b_58a023d3f706level0_row2\" class=\"row_heading level0 row2\" >flipper_length_mm</th>\n",
       "                        <td id=\"T_6ae19fec_6c7f_11eb_a44b_58a023d3f706row2_col0\" class=\"data row2 col0\" >0.66</td>\n",
       "                        <td id=\"T_6ae19fec_6c7f_11eb_a44b_58a023d3f706row2_col1\" class=\"data row2 col1\" >-0.58</td>\n",
       "                        <td id=\"T_6ae19fec_6c7f_11eb_a44b_58a023d3f706row2_col2\" class=\"data row2 col2\" >1.00</td>\n",
       "                        <td id=\"T_6ae19fec_6c7f_11eb_a44b_58a023d3f706row2_col3\" class=\"data row2 col3\" >0.87</td>\n",
       "            </tr>\n",
       "            <tr>\n",
       "                        <th id=\"T_6ae19fec_6c7f_11eb_a44b_58a023d3f706level0_row3\" class=\"row_heading level0 row3\" >body_mass_g</th>\n",
       "                        <td id=\"T_6ae19fec_6c7f_11eb_a44b_58a023d3f706row3_col0\" class=\"data row3 col0\" >0.60</td>\n",
       "                        <td id=\"T_6ae19fec_6c7f_11eb_a44b_58a023d3f706row3_col1\" class=\"data row3 col1\" >-0.47</td>\n",
       "                        <td id=\"T_6ae19fec_6c7f_11eb_a44b_58a023d3f706row3_col2\" class=\"data row3 col2\" >0.87</td>\n",
       "                        <td id=\"T_6ae19fec_6c7f_11eb_a44b_58a023d3f706row3_col3\" class=\"data row3 col3\" >1.00</td>\n",
       "            </tr>\n",
       "    </tbody></table>"
      ],
      "text/plain": [
       "<pandas.io.formats.style.Styler at 0x27db42ac4c0>"
      ]
     },
     "execution_count": 5,
     "metadata": {},
     "output_type": "execute_result"
    }
   ],
   "source": [
    "penguins_color = penguins.corr()\n",
    "penguins_color.style.background_gradient(cmap='coolwarm', axis=None).set_precision(2)"
   ]
  },
  {
   "cell_type": "markdown",
   "metadata": {},
   "source": [
    "![](https://www.galapagos.org/wp-content/uploads/2019/04/PenguinMeasurements_BLOGv3.png)"
   ]
  },
  {
   "cell_type": "markdown",
   "metadata": {},
   "source": [
    "![](https://i.imgur.com/0v1CGNV.png)"
   ]
  },
  {
   "cell_type": "markdown",
   "metadata": {},
   "source": [
    "Ik pak de categorische kolom 'geslacht'. Ik verwacht dat de gemiddelde grootte van een mannetje groter is dan een vrouwtjes pinguïn."
   ]
  },
  {
   "cell_type": "code",
   "execution_count": 6,
   "metadata": {},
   "outputs": [
    {
     "data": {
      "text/html": [
       "<div>\n",
       "<style scoped>\n",
       "    .dataframe tbody tr th:only-of-type {\n",
       "        vertical-align: middle;\n",
       "    }\n",
       "\n",
       "    .dataframe tbody tr th {\n",
       "        vertical-align: top;\n",
       "    }\n",
       "\n",
       "    .dataframe thead th {\n",
       "        text-align: right;\n",
       "    }\n",
       "</style>\n",
       "<table border=\"1\" class=\"dataframe\">\n",
       "  <thead>\n",
       "    <tr style=\"text-align: right;\">\n",
       "      <th></th>\n",
       "      <th>bill_length_mm</th>\n",
       "      <th>bill_depth_mm</th>\n",
       "      <th>flipper_length_mm</th>\n",
       "      <th>body_mass_g</th>\n",
       "    </tr>\n",
       "    <tr>\n",
       "      <th>sex</th>\n",
       "      <th></th>\n",
       "      <th></th>\n",
       "      <th></th>\n",
       "      <th></th>\n",
       "    </tr>\n",
       "  </thead>\n",
       "  <tbody>\n",
       "    <tr>\n",
       "      <th>Female</th>\n",
       "      <td>42.096970</td>\n",
       "      <td>16.425455</td>\n",
       "      <td>197.363636</td>\n",
       "      <td>3862.272727</td>\n",
       "    </tr>\n",
       "    <tr>\n",
       "      <th>Male</th>\n",
       "      <td>45.854762</td>\n",
       "      <td>17.891071</td>\n",
       "      <td>204.505952</td>\n",
       "      <td>4545.684524</td>\n",
       "    </tr>\n",
       "  </tbody>\n",
       "</table>\n",
       "</div>"
      ],
      "text/plain": [
       "        bill_length_mm  bill_depth_mm  flipper_length_mm  body_mass_g\n",
       "sex                                                                  \n",
       "Female       42.096970      16.425455         197.363636  3862.272727\n",
       "Male         45.854762      17.891071         204.505952  4545.684524"
      ]
     },
     "execution_count": 6,
     "metadata": {},
     "output_type": "execute_result"
    }
   ],
   "source": [
    "penguins.groupby(by=\"sex\").mean()"
   ]
  },
  {
   "cell_type": "markdown",
   "metadata": {},
   "source": [
    "We kunnen hieruit concluderen dat een mannetjes pinguïn groter is dan een vrouwtjes pinguïn."
   ]
  },
  {
   "cell_type": "code",
   "execution_count": 107,
   "metadata": {},
   "outputs": [
    {
     "data": {
      "text/plain": [
       "Text(0.5, 1.0, 'Bill Length in mm - Male vs Female')"
      ]
     },
     "execution_count": 107,
     "metadata": {},
     "output_type": "execute_result"
    },
    {
     "data": {
      "image/png": "[encoded data removed]",
      "text/plain": [
       "<Figure size 432x288 with 1 Axes>"
      ]
     },
     "metadata": {
      "needs_background": "light"
     },
     "output_type": "display_data"
    }
   ],
   "source": [
    "sns.barplot(y=\"bill_length_mm\", x=\"sex\", data=penguins).set_title('Bill Length in mm - Male vs Female')"
   ]
  },
  {
   "cell_type": "markdown",
   "metadata": {},
   "source": [
    "Hier kunnen we zien dat de snavel lengte van een mannetjes pinguïn ietsjes langer is dan die van een vrouwtjes pinguïn."
   ]
  },
  {
   "cell_type": "code",
   "execution_count": 106,
   "metadata": {},
   "outputs": [
    {
     "data": {
      "text/plain": [
       "Text(0.5, 1.0, 'Bill depth in mm - Male vs Female')"
      ]
     },
     "execution_count": 106,
     "metadata": {},
     "output_type": "execute_result"
    },
    {
     "data": {
      "image/png": "[encoded data removed]",
      "text/plain": [
       "<Figure size 432x288 with 1 Axes>"
      ]
     },
     "metadata": {
      "needs_background": "light"
     },
     "output_type": "display_data"
    }
   ],
   "source": [
    "sns.barplot(y=\"bill_depth_mm\", x=\"sex\", data=penguins).set_title('Bill depth in mm - Male vs Female')"
   ]
  },
  {
   "cell_type": "markdown",
   "metadata": {},
   "source": [
    "Hetzelfde geldt voor de diepte van de snavel."
   ]
  },
  {
   "cell_type": "code",
   "execution_count": 103,
   "metadata": {},
   "outputs": [
    {
     "data": {
      "text/plain": [
       "Text(0.5, 1.0, 'Flipper Length in mm - Male vs Female')"
      ]
     },
     "execution_count": 103,
     "metadata": {},
     "output_type": "execute_result"
    },
    {
     "data": {
      "image/png": "[encoded data removed]",
      "text/plain": [
       "<Figure size 432x288 with 1 Axes>"
      ]
     },
     "metadata": {
      "needs_background": "light"
     },
     "output_type": "display_data"
    }
   ],
   "source": [
    "sns.barplot(y=\"flipper_length_mm\", x=\"sex\", data=penguins).set_title('Flipper Length in mm - Male vs Female')"
   ]
  },
  {
   "cell_type": "markdown",
   "metadata": {},
   "source": [
    "Hieruit kunnen we zien dat de flipper lengte van een mannetjes pinguïn nét iets langer is dan die van een vrouwtjes pinguïn."
   ]
  },
  {
   "cell_type": "code",
   "execution_count": 105,
   "metadata": {},
   "outputs": [
    {
     "data": {
      "text/plain": [
       "Text(0.5, 1.0, 'Body Mass in g - Male vs Female')"
      ]
     },
     "execution_count": 105,
     "metadata": {},
     "output_type": "execute_result"
    },
    {
     "data": {
      "image/png": "[encoded data removed]",
      "text/plain": [
       "<Figure size 432x288 with 1 Axes>"
      ]
     },
     "metadata": {
      "needs_background": "light"
     },
     "output_type": "display_data"
    }
   ],
   "source": [
    "sns.barplot(y=\"body_mass_g\", x=\"sex\", data=penguins).set_title('Body Mass in g - Male vs Female')"
   ]
  },
  {
   "cell_type": "markdown",
   "metadata": {},
   "source": [
    "Het verschil in gewicht is significant hoger.. Dat is logisch, sinds een mannetje net wat groter is dan een vrouwtjes pinguïn. Gewicht is namelijk ook meer verandelijk dan de lengte van bijvoorbeeld de flipper lengte."
   ]
  },
  {
   "cell_type": "markdown",
   "metadata": {},
   "source": [
    "### Portfolio assignment 12\n",
    "30 min: Perform a bivariate analysis on at least 3 combinations of a numerical column with a categorical column in the dataset that you chose in portfolio assignment 4. Use <em>.groupby('columnname').mean()</em> to calculate the means. Is there a difference between categories? Then use seaborn barplots to check if there is a statistically significant difference. "
   ]
  },
  {
   "cell_type": "code",
   "execution_count": 8,
   "metadata": {},
   "outputs": [],
   "source": [
    "import pandas as pd\n",
    "\n",
    "movies = pd.read_csv (r'movies.csv')"
   ]
  },
  {
   "cell_type": "code",
   "execution_count": 9,
   "metadata": {},
   "outputs": [
    {
     "data": {
      "text/html": [
       "<style  type=\"text/css\" >\n",
       "#T_ea83748e_6c87_11eb_ab03_58a023d3f706row0_col0,#T_ea83748e_6c87_11eb_ab03_58a023d3f706row1_col1,#T_ea83748e_6c87_11eb_ab03_58a023d3f706row2_col2,#T_ea83748e_6c87_11eb_ab03_58a023d3f706row3_col3,#T_ea83748e_6c87_11eb_ab03_58a023d3f706row4_col4,#T_ea83748e_6c87_11eb_ab03_58a023d3f706row5_col5,#T_ea83748e_6c87_11eb_ab03_58a023d3f706row6_col6{\n",
       "            background-color:  #b40426;\n",
       "            color:  #f1f1f1;\n",
       "        }#T_ea83748e_6c87_11eb_ab03_58a023d3f706row0_col1,#T_ea83748e_6c87_11eb_ab03_58a023d3f706row1_col0{\n",
       "            background-color:  #6788ee;\n",
       "            color:  #000000;\n",
       "        }#T_ea83748e_6c87_11eb_ab03_58a023d3f706row0_col2,#T_ea83748e_6c87_11eb_ab03_58a023d3f706row2_col0{\n",
       "            background-color:  #f3c8b2;\n",
       "            color:  #000000;\n",
       "        }#T_ea83748e_6c87_11eb_ab03_58a023d3f706row0_col3,#T_ea83748e_6c87_11eb_ab03_58a023d3f706row3_col0{\n",
       "            background-color:  #f08a6c;\n",
       "            color:  #000000;\n",
       "        }#T_ea83748e_6c87_11eb_ab03_58a023d3f706row0_col4,#T_ea83748e_6c87_11eb_ab03_58a023d3f706row4_col0{\n",
       "            background-color:  #c7d7f0;\n",
       "            color:  #000000;\n",
       "        }#T_ea83748e_6c87_11eb_ab03_58a023d3f706row0_col5,#T_ea83748e_6c87_11eb_ab03_58a023d3f706row5_col0{\n",
       "            background-color:  #9abbff;\n",
       "            color:  #000000;\n",
       "        }#T_ea83748e_6c87_11eb_ab03_58a023d3f706row0_col6,#T_ea83748e_6c87_11eb_ab03_58a023d3f706row6_col0{\n",
       "            background-color:  #f7b396;\n",
       "            color:  #000000;\n",
       "        }#T_ea83748e_6c87_11eb_ab03_58a023d3f706row1_col2,#T_ea83748e_6c87_11eb_ab03_58a023d3f706row2_col1{\n",
       "            background-color:  #88abfd;\n",
       "            color:  #000000;\n",
       "        }#T_ea83748e_6c87_11eb_ab03_58a023d3f706row1_col3,#T_ea83748e_6c87_11eb_ab03_58a023d3f706row3_col1{\n",
       "            background-color:  #7295f4;\n",
       "            color:  #000000;\n",
       "        }#T_ea83748e_6c87_11eb_ab03_58a023d3f706row1_col4,#T_ea83748e_6c87_11eb_ab03_58a023d3f706row4_col1{\n",
       "            background-color:  #5673e0;\n",
       "            color:  #000000;\n",
       "        }#T_ea83748e_6c87_11eb_ab03_58a023d3f706row1_col5,#T_ea83748e_6c87_11eb_ab03_58a023d3f706row5_col1{\n",
       "            background-color:  #3b4cc0;\n",
       "            color:  #f1f1f1;\n",
       "        }#T_ea83748e_6c87_11eb_ab03_58a023d3f706row1_col6,#T_ea83748e_6c87_11eb_ab03_58a023d3f706row6_col1{\n",
       "            background-color:  #7ea1fa;\n",
       "            color:  #000000;\n",
       "        }#T_ea83748e_6c87_11eb_ab03_58a023d3f706row2_col3,#T_ea83748e_6c87_11eb_ab03_58a023d3f706row3_col2{\n",
       "            background-color:  #f6a586;\n",
       "            color:  #000000;\n",
       "        }#T_ea83748e_6c87_11eb_ab03_58a023d3f706row2_col4,#T_ea83748e_6c87_11eb_ab03_58a023d3f706row4_col2{\n",
       "            background-color:  #bcd2f7;\n",
       "            color:  #000000;\n",
       "        }#T_ea83748e_6c87_11eb_ab03_58a023d3f706row2_col5,#T_ea83748e_6c87_11eb_ab03_58a023d3f706row4_col6,#T_ea83748e_6c87_11eb_ab03_58a023d3f706row5_col2,#T_ea83748e_6c87_11eb_ab03_58a023d3f706row6_col4{\n",
       "            background-color:  #c9d7f0;\n",
       "            color:  #000000;\n",
       "        }#T_ea83748e_6c87_11eb_ab03_58a023d3f706row2_col6,#T_ea83748e_6c87_11eb_ab03_58a023d3f706row3_col6,#T_ea83748e_6c87_11eb_ab03_58a023d3f706row6_col2,#T_ea83748e_6c87_11eb_ab03_58a023d3f706row6_col3{\n",
       "            background-color:  #e9785d;\n",
       "            color:  #000000;\n",
       "        }#T_ea83748e_6c87_11eb_ab03_58a023d3f706row3_col4,#T_ea83748e_6c87_11eb_ab03_58a023d3f706row4_col3{\n",
       "            background-color:  #c4d5f3;\n",
       "            color:  #000000;\n",
       "        }#T_ea83748e_6c87_11eb_ab03_58a023d3f706row3_col5,#T_ea83748e_6c87_11eb_ab03_58a023d3f706row5_col3{\n",
       "            background-color:  #b6cefa;\n",
       "            color:  #000000;\n",
       "        }#T_ea83748e_6c87_11eb_ab03_58a023d3f706row4_col5,#T_ea83748e_6c87_11eb_ab03_58a023d3f706row5_col4{\n",
       "            background-color:  #dfdbd9;\n",
       "            color:  #000000;\n",
       "        }#T_ea83748e_6c87_11eb_ab03_58a023d3f706row5_col6,#T_ea83748e_6c87_11eb_ab03_58a023d3f706row6_col5{\n",
       "            background-color:  #d2dbe8;\n",
       "            color:  #000000;\n",
       "        }</style><table id=\"T_ea83748e_6c87_11eb_ab03_58a023d3f706\" ><thead>    <tr>        <th class=\"blank level0\" ></th>        <th class=\"col_heading level0 col0\" >budget</th>        <th class=\"col_heading level0 col1\" >id</th>        <th class=\"col_heading level0 col2\" >popularity</th>        <th class=\"col_heading level0 col3\" >revenue</th>        <th class=\"col_heading level0 col4\" >runtime</th>        <th class=\"col_heading level0 col5\" >vote_average</th>        <th class=\"col_heading level0 col6\" >vote_count</th>    </tr></thead><tbody>\n",
       "                <tr>\n",
       "                        <th id=\"T_ea83748e_6c87_11eb_ab03_58a023d3f706level0_row0\" class=\"row_heading level0 row0\" >budget</th>\n",
       "                        <td id=\"T_ea83748e_6c87_11eb_ab03_58a023d3f706row0_col0\" class=\"data row0 col0\" >1.00</td>\n",
       "                        <td id=\"T_ea83748e_6c87_11eb_ab03_58a023d3f706row0_col1\" class=\"data row0 col1\" >-0.09</td>\n",
       "                        <td id=\"T_ea83748e_6c87_11eb_ab03_58a023d3f706row0_col2\" class=\"data row0 col2\" >0.51</td>\n",
       "                        <td id=\"T_ea83748e_6c87_11eb_ab03_58a023d3f706row0_col3\" class=\"data row0 col3\" >0.73</td>\n",
       "                        <td id=\"T_ea83748e_6c87_11eb_ab03_58a023d3f706row0_col4\" class=\"data row0 col4\" >0.27</td>\n",
       "                        <td id=\"T_ea83748e_6c87_11eb_ab03_58a023d3f706row0_col5\" class=\"data row0 col5\" >0.09</td>\n",
       "                        <td id=\"T_ea83748e_6c87_11eb_ab03_58a023d3f706row0_col6\" class=\"data row0 col6\" >0.59</td>\n",
       "            </tr>\n",
       "            <tr>\n",
       "                        <th id=\"T_ea83748e_6c87_11eb_ab03_58a023d3f706level0_row1\" class=\"row_heading level0 row1\" >id</th>\n",
       "                        <td id=\"T_ea83748e_6c87_11eb_ab03_58a023d3f706row1_col0\" class=\"data row1 col0\" >-0.09</td>\n",
       "                        <td id=\"T_ea83748e_6c87_11eb_ab03_58a023d3f706row1_col1\" class=\"data row1 col1\" >1.00</td>\n",
       "                        <td id=\"T_ea83748e_6c87_11eb_ab03_58a023d3f706row1_col2\" class=\"data row1 col2\" >0.03</td>\n",
       "                        <td id=\"T_ea83748e_6c87_11eb_ab03_58a023d3f706row1_col3\" class=\"data row1 col3\" >-0.05</td>\n",
       "                        <td id=\"T_ea83748e_6c87_11eb_ab03_58a023d3f706row1_col4\" class=\"data row1 col4\" >-0.15</td>\n",
       "                        <td id=\"T_ea83748e_6c87_11eb_ab03_58a023d3f706row1_col5\" class=\"data row1 col5\" >-0.27</td>\n",
       "                        <td id=\"T_ea83748e_6c87_11eb_ab03_58a023d3f706row1_col6\" class=\"data row1 col6\" >-0.00</td>\n",
       "            </tr>\n",
       "            <tr>\n",
       "                        <th id=\"T_ea83748e_6c87_11eb_ab03_58a023d3f706level0_row2\" class=\"row_heading level0 row2\" >popularity</th>\n",
       "                        <td id=\"T_ea83748e_6c87_11eb_ab03_58a023d3f706row2_col0\" class=\"data row2 col0\" >0.51</td>\n",
       "                        <td id=\"T_ea83748e_6c87_11eb_ab03_58a023d3f706row2_col1\" class=\"data row2 col1\" >0.03</td>\n",
       "                        <td id=\"T_ea83748e_6c87_11eb_ab03_58a023d3f706row2_col2\" class=\"data row2 col2\" >1.00</td>\n",
       "                        <td id=\"T_ea83748e_6c87_11eb_ab03_58a023d3f706row2_col3\" class=\"data row2 col3\" >0.64</td>\n",
       "                        <td id=\"T_ea83748e_6c87_11eb_ab03_58a023d3f706row2_col4\" class=\"data row2 col4\" >0.23</td>\n",
       "                        <td id=\"T_ea83748e_6c87_11eb_ab03_58a023d3f706row2_col5\" class=\"data row2 col5\" >0.27</td>\n",
       "                        <td id=\"T_ea83748e_6c87_11eb_ab03_58a023d3f706row2_col6\" class=\"data row2 col6\" >0.78</td>\n",
       "            </tr>\n",
       "            <tr>\n",
       "                        <th id=\"T_ea83748e_6c87_11eb_ab03_58a023d3f706level0_row3\" class=\"row_heading level0 row3\" >revenue</th>\n",
       "                        <td id=\"T_ea83748e_6c87_11eb_ab03_58a023d3f706row3_col0\" class=\"data row3 col0\" >0.73</td>\n",
       "                        <td id=\"T_ea83748e_6c87_11eb_ab03_58a023d3f706row3_col1\" class=\"data row3 col1\" >-0.05</td>\n",
       "                        <td id=\"T_ea83748e_6c87_11eb_ab03_58a023d3f706row3_col2\" class=\"data row3 col2\" >0.64</td>\n",
       "                        <td id=\"T_ea83748e_6c87_11eb_ab03_58a023d3f706row3_col3\" class=\"data row3 col3\" >1.00</td>\n",
       "                        <td id=\"T_ea83748e_6c87_11eb_ab03_58a023d3f706row3_col4\" class=\"data row3 col4\" >0.25</td>\n",
       "                        <td id=\"T_ea83748e_6c87_11eb_ab03_58a023d3f706row3_col5\" class=\"data row3 col5\" >0.20</td>\n",
       "                        <td id=\"T_ea83748e_6c87_11eb_ab03_58a023d3f706row3_col6\" class=\"data row3 col6\" >0.78</td>\n",
       "            </tr>\n",
       "            <tr>\n",
       "                        <th id=\"T_ea83748e_6c87_11eb_ab03_58a023d3f706level0_row4\" class=\"row_heading level0 row4\" >runtime</th>\n",
       "                        <td id=\"T_ea83748e_6c87_11eb_ab03_58a023d3f706row4_col0\" class=\"data row4 col0\" >0.27</td>\n",
       "                        <td id=\"T_ea83748e_6c87_11eb_ab03_58a023d3f706row4_col1\" class=\"data row4 col1\" >-0.15</td>\n",
       "                        <td id=\"T_ea83748e_6c87_11eb_ab03_58a023d3f706row4_col2\" class=\"data row4 col2\" >0.23</td>\n",
       "                        <td id=\"T_ea83748e_6c87_11eb_ab03_58a023d3f706row4_col3\" class=\"data row4 col3\" >0.25</td>\n",
       "                        <td id=\"T_ea83748e_6c87_11eb_ab03_58a023d3f706row4_col4\" class=\"data row4 col4\" >1.00</td>\n",
       "                        <td id=\"T_ea83748e_6c87_11eb_ab03_58a023d3f706row4_col5\" class=\"data row4 col5\" >0.38</td>\n",
       "                        <td id=\"T_ea83748e_6c87_11eb_ab03_58a023d3f706row4_col6\" class=\"data row4 col6\" >0.27</td>\n",
       "            </tr>\n",
       "            <tr>\n",
       "                        <th id=\"T_ea83748e_6c87_11eb_ab03_58a023d3f706level0_row5\" class=\"row_heading level0 row5\" >vote_average</th>\n",
       "                        <td id=\"T_ea83748e_6c87_11eb_ab03_58a023d3f706row5_col0\" class=\"data row5 col0\" >0.09</td>\n",
       "                        <td id=\"T_ea83748e_6c87_11eb_ab03_58a023d3f706row5_col1\" class=\"data row5 col1\" >-0.27</td>\n",
       "                        <td id=\"T_ea83748e_6c87_11eb_ab03_58a023d3f706row5_col2\" class=\"data row5 col2\" >0.27</td>\n",
       "                        <td id=\"T_ea83748e_6c87_11eb_ab03_58a023d3f706row5_col3\" class=\"data row5 col3\" >0.20</td>\n",
       "                        <td id=\"T_ea83748e_6c87_11eb_ab03_58a023d3f706row5_col4\" class=\"data row5 col4\" >0.38</td>\n",
       "                        <td id=\"T_ea83748e_6c87_11eb_ab03_58a023d3f706row5_col5\" class=\"data row5 col5\" >1.00</td>\n",
       "                        <td id=\"T_ea83748e_6c87_11eb_ab03_58a023d3f706row5_col6\" class=\"data row5 col6\" >0.31</td>\n",
       "            </tr>\n",
       "            <tr>\n",
       "                        <th id=\"T_ea83748e_6c87_11eb_ab03_58a023d3f706level0_row6\" class=\"row_heading level0 row6\" >vote_count</th>\n",
       "                        <td id=\"T_ea83748e_6c87_11eb_ab03_58a023d3f706row6_col0\" class=\"data row6 col0\" >0.59</td>\n",
       "                        <td id=\"T_ea83748e_6c87_11eb_ab03_58a023d3f706row6_col1\" class=\"data row6 col1\" >-0.00</td>\n",
       "                        <td id=\"T_ea83748e_6c87_11eb_ab03_58a023d3f706row6_col2\" class=\"data row6 col2\" >0.78</td>\n",
       "                        <td id=\"T_ea83748e_6c87_11eb_ab03_58a023d3f706row6_col3\" class=\"data row6 col3\" >0.78</td>\n",
       "                        <td id=\"T_ea83748e_6c87_11eb_ab03_58a023d3f706row6_col4\" class=\"data row6 col4\" >0.27</td>\n",
       "                        <td id=\"T_ea83748e_6c87_11eb_ab03_58a023d3f706row6_col5\" class=\"data row6 col5\" >0.31</td>\n",
       "                        <td id=\"T_ea83748e_6c87_11eb_ab03_58a023d3f706row6_col6\" class=\"data row6 col6\" >1.00</td>\n",
       "            </tr>\n",
       "    </tbody></table>"
      ],
      "text/plain": [
       "<pandas.io.formats.style.Styler at 0x27daf5fc700>"
      ]
     },
     "execution_count": 9,
     "metadata": {},
     "output_type": "execute_result"
    }
   ],
   "source": [
    "movies_color = movies.corr()\n",
    "movies_color.style.background_gradient(cmap='coolwarm', axis=None).set_precision(2)"
   ]
  },
  {
   "cell_type": "code",
   "execution_count": 112,
   "metadata": {},
   "outputs": [
    {
     "data": {
      "text/plain": [
       "Index(['budget', 'genres', 'homepage', 'id', 'keywords', 'original_language',\n",
       "       'original_title', 'overview', 'popularity', 'production_companies',\n",
       "       'production_countries', 'release_date', 'revenue', 'runtime',\n",
       "       'spoken_languages', 'status', 'tagline', 'title', 'vote_average',\n",
       "       'vote_count'],\n",
       "      dtype='object')"
      ]
     },
     "execution_count": 112,
     "metadata": {},
     "output_type": "execute_result"
    }
   ],
   "source": [
    "movies.columns"
   ]
  },
  {
   "cell_type": "markdown",
   "metadata": {},
   "source": [
    "### Status en aantal beoordelingen"
   ]
  },
  {
   "cell_type": "code",
   "execution_count": 117,
   "metadata": {
    "scrolled": false
   },
   "outputs": [
    {
     "data": {
      "text/html": [
       "<div>\n",
       "<style scoped>\n",
       "    .dataframe tbody tr th:only-of-type {\n",
       "        vertical-align: middle;\n",
       "    }\n",
       "\n",
       "    .dataframe tbody tr th {\n",
       "        vertical-align: top;\n",
       "    }\n",
       "\n",
       "    .dataframe thead th {\n",
       "        text-align: right;\n",
       "    }\n",
       "</style>\n",
       "<table border=\"1\" class=\"dataframe\">\n",
       "  <thead>\n",
       "    <tr style=\"text-align: right;\">\n",
       "      <th></th>\n",
       "      <th>budget</th>\n",
       "      <th>id</th>\n",
       "      <th>popularity</th>\n",
       "      <th>revenue</th>\n",
       "      <th>runtime</th>\n",
       "      <th>vote_average</th>\n",
       "      <th>vote_count</th>\n",
       "    </tr>\n",
       "    <tr>\n",
       "      <th>status</th>\n",
       "      <th></th>\n",
       "      <th></th>\n",
       "      <th></th>\n",
       "      <th></th>\n",
       "      <th></th>\n",
       "      <th></th>\n",
       "      <th></th>\n",
       "    </tr>\n",
       "  </thead>\n",
       "  <tbody>\n",
       "    <tr>\n",
       "      <th>Post Production</th>\n",
       "      <td>1.300000e+06</td>\n",
       "      <td>234866.0000</td>\n",
       "      <td>1.084362</td>\n",
       "      <td>2.805777e+05</td>\n",
       "      <td>95.666667</td>\n",
       "      <td>5.500000</td>\n",
       "      <td>12.333333</td>\n",
       "    </tr>\n",
       "    <tr>\n",
       "      <th>Released</th>\n",
       "      <td>2.909267e+07</td>\n",
       "      <td>57051.8878</td>\n",
       "      <td>21.527415</td>\n",
       "      <td>8.239771e+07</td>\n",
       "      <td>106.915084</td>\n",
       "      <td>6.093306</td>\n",
       "      <td>691.360792</td>\n",
       "    </tr>\n",
       "    <tr>\n",
       "      <th>Rumored</th>\n",
       "      <td>1.120000e+04</td>\n",
       "      <td>59484.2000</td>\n",
       "      <td>0.061864</td>\n",
       "      <td>0.000000e+00</td>\n",
       "      <td>76.000000</td>\n",
       "      <td>5.360000</td>\n",
       "      <td>1.000000</td>\n",
       "    </tr>\n",
       "  </tbody>\n",
       "</table>\n",
       "</div>"
      ],
      "text/plain": [
       "                       budget           id  popularity       revenue  \\\n",
       "status                                                                 \n",
       "Post Production  1.300000e+06  234866.0000    1.084362  2.805777e+05   \n",
       "Released         2.909267e+07   57051.8878   21.527415  8.239771e+07   \n",
       "Rumored          1.120000e+04   59484.2000    0.061864  0.000000e+00   \n",
       "\n",
       "                    runtime  vote_average  vote_count  \n",
       "status                                                 \n",
       "Post Production   95.666667      5.500000   12.333333  \n",
       "Released         106.915084      6.093306  691.360792  \n",
       "Rumored           76.000000      5.360000    1.000000  "
      ]
     },
     "execution_count": 117,
     "metadata": {},
     "output_type": "execute_result"
    }
   ],
   "source": [
    "movies.groupby(by=\"status\").mean()"
   ]
  },
  {
   "cell_type": "code",
   "execution_count": 145,
   "metadata": {
    "scrolled": true
   },
   "outputs": [
    {
     "data": {
      "text/plain": [
       "Text(0.5, 1.0, 'Vote Count - Status of Movie')"
      ]
     },
     "execution_count": 145,
     "metadata": {},
     "output_type": "execute_result"
    },
    {
     "data": {
      "image/png": "[encoded data removed]",
      "text/plain": [
       "<Figure size 432x288 with 1 Axes>"
      ]
     },
     "metadata": {
      "needs_background": "light"
     },
     "output_type": "display_data"
    }
   ],
   "source": [
    "sns.barplot(y=\"vote_count\", x=\"status\", data=movies).set_title('Vote Count - Status of Movie')"
   ]
  },
  {
   "cell_type": "markdown",
   "metadata": {},
   "source": [
    "Er wordt verwacht dat films die momenteel geproduceerd of een gerucht is, geen of amper een vote count heeft. Uitgekomen films hebben een relatief hoger percentage van de vote counts per film."
   ]
  },
  {
   "cell_type": "markdown",
   "metadata": {},
   "source": [
    "### Taal en populariteit"
   ]
  },
  {
   "cell_type": "code",
   "execution_count": 120,
   "metadata": {
    "scrolled": false
   },
   "outputs": [
    {
     "data": {
      "text/html": [
       "<div>\n",
       "<style scoped>\n",
       "    .dataframe tbody tr th:only-of-type {\n",
       "        vertical-align: middle;\n",
       "    }\n",
       "\n",
       "    .dataframe tbody tr th {\n",
       "        vertical-align: top;\n",
       "    }\n",
       "\n",
       "    .dataframe thead th {\n",
       "        text-align: right;\n",
       "    }\n",
       "</style>\n",
       "<table border=\"1\" class=\"dataframe\">\n",
       "  <thead>\n",
       "    <tr style=\"text-align: right;\">\n",
       "      <th></th>\n",
       "      <th>budget</th>\n",
       "      <th>id</th>\n",
       "      <th>popularity</th>\n",
       "      <th>revenue</th>\n",
       "      <th>runtime</th>\n",
       "      <th>vote_average</th>\n",
       "      <th>vote_count</th>\n",
       "    </tr>\n",
       "    <tr>\n",
       "      <th>original_language</th>\n",
       "      <th></th>\n",
       "      <th></th>\n",
       "      <th></th>\n",
       "      <th></th>\n",
       "      <th></th>\n",
       "      <th></th>\n",
       "      <th></th>\n",
       "    </tr>\n",
       "  </thead>\n",
       "  <tbody>\n",
       "    <tr>\n",
       "      <th>af</th>\n",
       "      <td>3.000000e+06</td>\n",
       "      <td>868.000000</td>\n",
       "      <td>2.504169</td>\n",
       "      <td>9.879971e+06</td>\n",
       "      <td>94.000000</td>\n",
       "      <td>6.900000</td>\n",
       "      <td>94.000000</td>\n",
       "    </tr>\n",
       "    <tr>\n",
       "      <th>ar</th>\n",
       "      <td>0.000000e+00</td>\n",
       "      <td>83505.000000</td>\n",
       "      <td>4.723389</td>\n",
       "      <td>0.000000e+00</td>\n",
       "      <td>92.000000</td>\n",
       "      <td>7.300000</td>\n",
       "      <td>53.500000</td>\n",
       "    </tr>\n",
       "    <tr>\n",
       "      <th>cn</th>\n",
       "      <td>1.072641e+07</td>\n",
       "      <td>109470.500000</td>\n",
       "      <td>10.631343</td>\n",
       "      <td>3.374016e+07</td>\n",
       "      <td>104.750000</td>\n",
       "      <td>6.500000</td>\n",
       "      <td>220.916667</td>\n",
       "    </tr>\n",
       "    <tr>\n",
       "      <th>cs</th>\n",
       "      <td>0.000000e+00</td>\n",
       "      <td>185196.000000</td>\n",
       "      <td>1.286848</td>\n",
       "      <td>0.000000e+00</td>\n",
       "      <td>104.500000</td>\n",
       "      <td>5.650000</td>\n",
       "      <td>12.000000</td>\n",
       "    </tr>\n",
       "    <tr>\n",
       "      <th>da</th>\n",
       "      <td>9.742857e+06</td>\n",
       "      <td>33440.714286</td>\n",
       "      <td>17.663925</td>\n",
       "      <td>2.989889e+07</td>\n",
       "      <td>121.428571</td>\n",
       "      <td>7.128571</td>\n",
       "      <td>450.428571</td>\n",
       "    </tr>\n",
       "    <tr>\n",
       "      <th>de</th>\n",
       "      <td>8.616354e+06</td>\n",
       "      <td>63369.518519</td>\n",
       "      <td>10.151382</td>\n",
       "      <td>1.396191e+07</td>\n",
       "      <td>107.777778</td>\n",
       "      <td>6.325926</td>\n",
       "      <td>242.444444</td>\n",
       "    </tr>\n",
       "    <tr>\n",
       "      <th>el</th>\n",
       "      <td>0.000000e+00</td>\n",
       "      <td>38810.000000</td>\n",
       "      <td>28.858238</td>\n",
       "      <td>1.101970e+05</td>\n",
       "      <td>94.000000</td>\n",
       "      <td>6.900000</td>\n",
       "      <td>332.000000</td>\n",
       "    </tr>\n",
       "    <tr>\n",
       "      <th>en</th>\n",
       "      <td>3.039436e+07</td>\n",
       "      <td>55788.758047</td>\n",
       "      <td>22.177435</td>\n",
       "      <td>8.647885e+07</td>\n",
       "      <td>106.471581</td>\n",
       "      <td>6.065683</td>\n",
       "      <td>719.023751</td>\n",
       "    </tr>\n",
       "    <tr>\n",
       "      <th>es</th>\n",
       "      <td>5.847683e+06</td>\n",
       "      <td>73720.937500</td>\n",
       "      <td>13.330804</td>\n",
       "      <td>1.865218e+07</td>\n",
       "      <td>109.093750</td>\n",
       "      <td>6.659375</td>\n",
       "      <td>301.875000</td>\n",
       "    </tr>\n",
       "    <tr>\n",
       "      <th>fa</th>\n",
       "      <td>2.450000e+05</td>\n",
       "      <td>38974.000000</td>\n",
       "      <td>5.664415</td>\n",
       "      <td>2.250000e+05</td>\n",
       "      <td>102.250000</td>\n",
       "      <td>7.375000</td>\n",
       "      <td>155.250000</td>\n",
       "    </tr>\n",
       "    <tr>\n",
       "      <th>fr</th>\n",
       "      <td>8.480997e+06</td>\n",
       "      <td>62312.171429</td>\n",
       "      <td>10.299542</td>\n",
       "      <td>1.246151e+07</td>\n",
       "      <td>105.114286</td>\n",
       "      <td>6.430000</td>\n",
       "      <td>228.828571</td>\n",
       "    </tr>\n",
       "    <tr>\n",
       "      <th>he</th>\n",
       "      <td>6.666667e+05</td>\n",
       "      <td>16428.333333</td>\n",
       "      <td>5.364953</td>\n",
       "      <td>3.708616e+06</td>\n",
       "      <td>108.000000</td>\n",
       "      <td>7.400000</td>\n",
       "      <td>112.666667</td>\n",
       "    </tr>\n",
       "    <tr>\n",
       "      <th>hi</th>\n",
       "      <td>1.715789e+06</td>\n",
       "      <td>86905.526316</td>\n",
       "      <td>2.994144</td>\n",
       "      <td>7.447231e+06</td>\n",
       "      <td>138.631579</td>\n",
       "      <td>6.010526</td>\n",
       "      <td>44.000000</td>\n",
       "    </tr>\n",
       "    <tr>\n",
       "      <th>hu</th>\n",
       "      <td>0.000000e+00</td>\n",
       "      <td>41508.000000</td>\n",
       "      <td>1.906807</td>\n",
       "      <td>0.000000e+00</td>\n",
       "      <td>140.000000</td>\n",
       "      <td>6.500000</td>\n",
       "      <td>28.000000</td>\n",
       "    </tr>\n",
       "    <tr>\n",
       "      <th>id</th>\n",
       "      <td>1.050000e+06</td>\n",
       "      <td>109003.500000</td>\n",
       "      <td>24.586253</td>\n",
       "      <td>2.274881e+06</td>\n",
       "      <td>108.000000</td>\n",
       "      <td>7.400000</td>\n",
       "      <td>632.500000</td>\n",
       "    </tr>\n",
       "    <tr>\n",
       "      <th>is</th>\n",
       "      <td>1.000000e+01</td>\n",
       "      <td>217708.000000</td>\n",
       "      <td>1.617943</td>\n",
       "      <td>1.100000e+01</td>\n",
       "      <td>85.000000</td>\n",
       "      <td>6.900000</td>\n",
       "      <td>26.000000</td>\n",
       "    </tr>\n",
       "    <tr>\n",
       "      <th>it</th>\n",
       "      <td>2.967859e+06</td>\n",
       "      <td>64481.857143</td>\n",
       "      <td>17.818268</td>\n",
       "      <td>3.029494e+06</td>\n",
       "      <td>114.461538</td>\n",
       "      <td>7.028571</td>\n",
       "      <td>403.928571</td>\n",
       "    </tr>\n",
       "    <tr>\n",
       "      <th>ja</th>\n",
       "      <td>1.429361e+07</td>\n",
       "      <td>53894.250000</td>\n",
       "      <td>25.663788</td>\n",
       "      <td>6.602892e+07</td>\n",
       "      <td>122.500000</td>\n",
       "      <td>7.050000</td>\n",
       "      <td>715.750000</td>\n",
       "    </tr>\n",
       "    <tr>\n",
       "      <th>ko</th>\n",
       "      <td>1.429091e+07</td>\n",
       "      <td>82569.545455</td>\n",
       "      <td>19.488720</td>\n",
       "      <td>2.535645e+07</td>\n",
       "      <td>123.727273</td>\n",
       "      <td>6.672727</td>\n",
       "      <td>588.818182</td>\n",
       "    </tr>\n",
       "    <tr>\n",
       "      <th>ky</th>\n",
       "      <td>0.000000e+00</td>\n",
       "      <td>295914.000000</td>\n",
       "      <td>0.077873</td>\n",
       "      <td>0.000000e+00</td>\n",
       "      <td>135.000000</td>\n",
       "      <td>0.000000</td>\n",
       "      <td>0.000000</td>\n",
       "    </tr>\n",
       "    <tr>\n",
       "      <th>nb</th>\n",
       "      <td>3.500000e+06</td>\n",
       "      <td>46146.000000</td>\n",
       "      <td>12.982319</td>\n",
       "      <td>4.159678e+06</td>\n",
       "      <td>103.000000</td>\n",
       "      <td>6.700000</td>\n",
       "      <td>583.000000</td>\n",
       "    </tr>\n",
       "    <tr>\n",
       "      <th>nl</th>\n",
       "      <td>7.375000e+06</td>\n",
       "      <td>12169.500000</td>\n",
       "      <td>4.768978</td>\n",
       "      <td>6.680779e+06</td>\n",
       "      <td>118.250000</td>\n",
       "      <td>7.175000</td>\n",
       "      <td>92.750000</td>\n",
       "    </tr>\n",
       "    <tr>\n",
       "      <th>no</th>\n",
       "      <td>8.000000e+05</td>\n",
       "      <td>14451.000000</td>\n",
       "      <td>11.205726</td>\n",
       "      <td>1.984662e+06</td>\n",
       "      <td>91.000000</td>\n",
       "      <td>6.100000</td>\n",
       "      <td>311.000000</td>\n",
       "    </tr>\n",
       "    <tr>\n",
       "      <th>pl</th>\n",
       "      <td>2.159280e+06</td>\n",
       "      <td>209274.000000</td>\n",
       "      <td>13.265432</td>\n",
       "      <td>1.070000e+07</td>\n",
       "      <td>80.000000</td>\n",
       "      <td>7.100000</td>\n",
       "      <td>260.000000</td>\n",
       "    </tr>\n",
       "    <tr>\n",
       "      <th>ps</th>\n",
       "      <td>4.600000e+04</td>\n",
       "      <td>14757.000000</td>\n",
       "      <td>1.447734</td>\n",
       "      <td>0.000000e+00</td>\n",
       "      <td>83.000000</td>\n",
       "      <td>6.300000</td>\n",
       "      <td>32.000000</td>\n",
       "    </tr>\n",
       "    <tr>\n",
       "      <th>pt</th>\n",
       "      <td>1.133333e+06</td>\n",
       "      <td>136400.444444</td>\n",
       "      <td>11.309857</td>\n",
       "      <td>4.026498e+06</td>\n",
       "      <td>109.888889</td>\n",
       "      <td>6.388889</td>\n",
       "      <td>321.444444</td>\n",
       "    </tr>\n",
       "    <tr>\n",
       "      <th>ro</th>\n",
       "      <td>4.262550e+05</td>\n",
       "      <td>173237.500000</td>\n",
       "      <td>4.798877</td>\n",
       "      <td>5.928915e+05</td>\n",
       "      <td>108.500000</td>\n",
       "      <td>3.650000</td>\n",
       "      <td>78.000000</td>\n",
       "    </tr>\n",
       "    <tr>\n",
       "      <th>ru</th>\n",
       "      <td>1.397273e+07</td>\n",
       "      <td>105219.000000</td>\n",
       "      <td>7.567724</td>\n",
       "      <td>9.510074e+06</td>\n",
       "      <td>116.727273</td>\n",
       "      <td>6.354545</td>\n",
       "      <td>95.181818</td>\n",
       "    </tr>\n",
       "    <tr>\n",
       "      <th>sl</th>\n",
       "      <td>0.000000e+00</td>\n",
       "      <td>385636.000000</td>\n",
       "      <td>0.061248</td>\n",
       "      <td>0.000000e+00</td>\n",
       "      <td>83.000000</td>\n",
       "      <td>6.000000</td>\n",
       "      <td>1.000000</td>\n",
       "    </tr>\n",
       "    <tr>\n",
       "      <th>sv</th>\n",
       "      <td>5.000000e+06</td>\n",
       "      <td>13241.200000</td>\n",
       "      <td>7.347336</td>\n",
       "      <td>0.000000e+00</td>\n",
       "      <td>119.000000</td>\n",
       "      <td>7.060000</td>\n",
       "      <td>87.000000</td>\n",
       "    </tr>\n",
       "    <tr>\n",
       "      <th>ta</th>\n",
       "      <td>0.000000e+00</td>\n",
       "      <td>270824.500000</td>\n",
       "      <td>0.368283</td>\n",
       "      <td>0.000000e+00</td>\n",
       "      <td>162.500000</td>\n",
       "      <td>5.850000</td>\n",
       "      <td>4.000000</td>\n",
       "    </tr>\n",
       "    <tr>\n",
       "      <th>te</th>\n",
       "      <td>4.000000e+07</td>\n",
       "      <td>256040.000000</td>\n",
       "      <td>16.254032</td>\n",
       "      <td>1.000000e+08</td>\n",
       "      <td>159.000000</td>\n",
       "      <td>7.500000</td>\n",
       "      <td>135.000000</td>\n",
       "    </tr>\n",
       "    <tr>\n",
       "      <th>th</th>\n",
       "      <td>4.833333e+06</td>\n",
       "      <td>17554.666667</td>\n",
       "      <td>7.230292</td>\n",
       "      <td>1.203408e+07</td>\n",
       "      <td>130.333333</td>\n",
       "      <td>5.966667</td>\n",
       "      <td>108.333333</td>\n",
       "    </tr>\n",
       "    <tr>\n",
       "      <th>tr</th>\n",
       "      <td>1.000000e+07</td>\n",
       "      <td>11818.000000</td>\n",
       "      <td>1.465762</td>\n",
       "      <td>0.000000e+00</td>\n",
       "      <td>122.000000</td>\n",
       "      <td>4.300000</td>\n",
       "      <td>7.000000</td>\n",
       "    </tr>\n",
       "    <tr>\n",
       "      <th>vi</th>\n",
       "      <td>1.300000e+06</td>\n",
       "      <td>25784.000000</td>\n",
       "      <td>0.072066</td>\n",
       "      <td>6.390000e+05</td>\n",
       "      <td>135.000000</td>\n",
       "      <td>5.000000</td>\n",
       "      <td>1.000000</td>\n",
       "    </tr>\n",
       "    <tr>\n",
       "      <th>xx</th>\n",
       "      <td>1.200000e+07</td>\n",
       "      <td>62204.000000</td>\n",
       "      <td>6.537986</td>\n",
       "      <td>5.526056e+07</td>\n",
       "      <td>100.000000</td>\n",
       "      <td>7.100000</td>\n",
       "      <td>109.000000</td>\n",
       "    </tr>\n",
       "    <tr>\n",
       "      <th>zh</th>\n",
       "      <td>2.202560e+07</td>\n",
       "      <td>107819.222222</td>\n",
       "      <td>8.996167</td>\n",
       "      <td>4.173498e+07</td>\n",
       "      <td>116.074074</td>\n",
       "      <td>6.300000</td>\n",
       "      <td>146.592593</td>\n",
       "    </tr>\n",
       "  </tbody>\n",
       "</table>\n",
       "</div>"
      ],
      "text/plain": [
       "                         budget             id  popularity       revenue  \\\n",
       "original_language                                                          \n",
       "af                 3.000000e+06     868.000000    2.504169  9.879971e+06   \n",
       "ar                 0.000000e+00   83505.000000    4.723389  0.000000e+00   \n",
       "cn                 1.072641e+07  109470.500000   10.631343  3.374016e+07   \n",
       "cs                 0.000000e+00  185196.000000    1.286848  0.000000e+00   \n",
       "da                 9.742857e+06   33440.714286   17.663925  2.989889e+07   \n",
       "de                 8.616354e+06   63369.518519   10.151382  1.396191e+07   \n",
       "el                 0.000000e+00   38810.000000   28.858238  1.101970e+05   \n",
       "en                 3.039436e+07   55788.758047   22.177435  8.647885e+07   \n",
       "es                 5.847683e+06   73720.937500   13.330804  1.865218e+07   \n",
       "fa                 2.450000e+05   38974.000000    5.664415  2.250000e+05   \n",
       "fr                 8.480997e+06   62312.171429   10.299542  1.246151e+07   \n",
       "he                 6.666667e+05   16428.333333    5.364953  3.708616e+06   \n",
       "hi                 1.715789e+06   86905.526316    2.994144  7.447231e+06   \n",
       "hu                 0.000000e+00   41508.000000    1.906807  0.000000e+00   \n",
       "id                 1.050000e+06  109003.500000   24.586253  2.274881e+06   \n",
       "is                 1.000000e+01  217708.000000    1.617943  1.100000e+01   \n",
       "it                 2.967859e+06   64481.857143   17.818268  3.029494e+06   \n",
       "ja                 1.429361e+07   53894.250000   25.663788  6.602892e+07   \n",
       "ko                 1.429091e+07   82569.545455   19.488720  2.535645e+07   \n",
       "ky                 0.000000e+00  295914.000000    0.077873  0.000000e+00   \n",
       "nb                 3.500000e+06   46146.000000   12.982319  4.159678e+06   \n",
       "nl                 7.375000e+06   12169.500000    4.768978  6.680779e+06   \n",
       "no                 8.000000e+05   14451.000000   11.205726  1.984662e+06   \n",
       "pl                 2.159280e+06  209274.000000   13.265432  1.070000e+07   \n",
       "ps                 4.600000e+04   14757.000000    1.447734  0.000000e+00   \n",
       "pt                 1.133333e+06  136400.444444   11.309857  4.026498e+06   \n",
       "ro                 4.262550e+05  173237.500000    4.798877  5.928915e+05   \n",
       "ru                 1.397273e+07  105219.000000    7.567724  9.510074e+06   \n",
       "sl                 0.000000e+00  385636.000000    0.061248  0.000000e+00   \n",
       "sv                 5.000000e+06   13241.200000    7.347336  0.000000e+00   \n",
       "ta                 0.000000e+00  270824.500000    0.368283  0.000000e+00   \n",
       "te                 4.000000e+07  256040.000000   16.254032  1.000000e+08   \n",
       "th                 4.833333e+06   17554.666667    7.230292  1.203408e+07   \n",
       "tr                 1.000000e+07   11818.000000    1.465762  0.000000e+00   \n",
       "vi                 1.300000e+06   25784.000000    0.072066  6.390000e+05   \n",
       "xx                 1.200000e+07   62204.000000    6.537986  5.526056e+07   \n",
       "zh                 2.202560e+07  107819.222222    8.996167  4.173498e+07   \n",
       "\n",
       "                      runtime  vote_average  vote_count  \n",
       "original_language                                        \n",
       "af                  94.000000      6.900000   94.000000  \n",
       "ar                  92.000000      7.300000   53.500000  \n",
       "cn                 104.750000      6.500000  220.916667  \n",
       "cs                 104.500000      5.650000   12.000000  \n",
       "da                 121.428571      7.128571  450.428571  \n",
       "de                 107.777778      6.325926  242.444444  \n",
       "el                  94.000000      6.900000  332.000000  \n",
       "en                 106.471581      6.065683  719.023751  \n",
       "es                 109.093750      6.659375  301.875000  \n",
       "fa                 102.250000      7.375000  155.250000  \n",
       "fr                 105.114286      6.430000  228.828571  \n",
       "he                 108.000000      7.400000  112.666667  \n",
       "hi                 138.631579      6.010526   44.000000  \n",
       "hu                 140.000000      6.500000   28.000000  \n",
       "id                 108.000000      7.400000  632.500000  \n",
       "is                  85.000000      6.900000   26.000000  \n",
       "it                 114.461538      7.028571  403.928571  \n",
       "ja                 122.500000      7.050000  715.750000  \n",
       "ko                 123.727273      6.672727  588.818182  \n",
       "ky                 135.000000      0.000000    0.000000  \n",
       "nb                 103.000000      6.700000  583.000000  \n",
       "nl                 118.250000      7.175000   92.750000  \n",
       "no                  91.000000      6.100000  311.000000  \n",
       "pl                  80.000000      7.100000  260.000000  \n",
       "ps                  83.000000      6.300000   32.000000  \n",
       "pt                 109.888889      6.388889  321.444444  \n",
       "ro                 108.500000      3.650000   78.000000  \n",
       "ru                 116.727273      6.354545   95.181818  \n",
       "sl                  83.000000      6.000000    1.000000  \n",
       "sv                 119.000000      7.060000   87.000000  \n",
       "ta                 162.500000      5.850000    4.000000  \n",
       "te                 159.000000      7.500000  135.000000  \n",
       "th                 130.333333      5.966667  108.333333  \n",
       "tr                 122.000000      4.300000    7.000000  \n",
       "vi                 135.000000      5.000000    1.000000  \n",
       "xx                 100.000000      7.100000  109.000000  \n",
       "zh                 116.074074      6.300000  146.592593  "
      ]
     },
     "execution_count": 120,
     "metadata": {},
     "output_type": "execute_result"
    }
   ],
   "source": [
    "movies.groupby(by=\"original_language\").mean()"
   ]
  },
  {
   "cell_type": "code",
   "execution_count": 141,
   "metadata": {},
   "outputs": [
    {
     "data": {
      "text/plain": [
       "Text(0.5, 1.0, 'Popularity - Language of Movie')"
      ]
     },
     "execution_count": 141,
     "metadata": {},
     "output_type": "execute_result"
    },
    {
     "data": {
      "image/png": "[encoded data removed]",
      "text/plain": [
       "<Figure size 432x288 with 1 Axes>"
      ]
     },
     "metadata": {
      "needs_background": "light"
     },
     "output_type": "display_data"
    }
   ],
   "source": [
    "sns.barplot(y=\"popularity\", x=\"original_language\", data=movies).set_title('Popularity - Language of Movie')"
   ]
  },
  {
   "cell_type": "markdown",
   "metadata": {},
   "source": [
    "Je ziet dat Engelstalige films best populair zijn, met een kleine kans dat er verschil zit tussen de data (zwart streep). De Japanse films zien er erg populair uit, maar er is te weinig data daarvan, waardoor er een grote kans is dat er verschil kan zitten in de data."
   ]
  },
  {
   "cell_type": "markdown",
   "metadata": {},
   "source": [
    "### Taal en aantal beoordelingen"
   ]
  },
  {
   "cell_type": "code",
   "execution_count": 142,
   "metadata": {
    "scrolled": true
   },
   "outputs": [
    {
     "data": {
      "text/plain": [
       "Text(0.5, 1.0, 'Vote Average - Language of Movie')"
      ]
     },
     "execution_count": 142,
     "metadata": {},
     "output_type": "execute_result"
    },
    {
     "data": {
      "image/png": "[encoded data removed]",
      "text/plain": [
       "<Figure size 432x288 with 1 Axes>"
      ]
     },
     "metadata": {
      "needs_background": "light"
     },
     "output_type": "display_data"
    }
   ],
   "source": [
    "sns.barplot(y=\"vote_average\", x=\"original_language\", data=movies).set_title('Vote Average - Language of Movie')"
   ]
  },
  {
   "cell_type": "markdown",
   "metadata": {},
   "source": [
    "Hier zie je weer dat bij de Engelstalige films erg weinig verschil in data kan zitten. Dit komt weer vanwege het aantal datarecords per taal. We zien hieruit wel dat Engelstalige films een stabiele en gemiddelde beoordelig hebben van 6.1."
   ]
  }
 ],
 "metadata": {
  "kernelspec": {
   "display_name": "Python 3",
   "language": "python",
   "name": "python3"
  },
  "language_info": {
   "codemirror_mode": {
    "name": "ipython",
    "version": 3
   },
   "file_extension": ".py",
   "mimetype": "text/x-python",
   "name": "python",
   "nbconvert_exporter": "python",
   "pygments_lexer": "ipython3",
   "version": "3.8.5"
  }
 },
 "nbformat": 4,
 "nbformat_minor": 4
}
