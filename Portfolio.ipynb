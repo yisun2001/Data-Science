{
 "cells": [
  {
   "cell_type": "markdown",
   "metadata": {},
   "source": [
    "# Portfolio Data Science - Yi Sun"
   ]
  },
  {
   "cell_type": "markdown",
   "metadata": {},
   "source": [
    "![](https://www.kdnuggets.com/wp-content/uploads/Fig1-Abisiga-top-10-lists-data-science.jpg \"Data Science\")"
   ]
  },
  {
   "cell_type": "markdown",
   "metadata": {},
   "source": [
    "## Interesting resources: \n",
    "- Python Basics\n",
    " - https://courses.edx.org/courses/course-v1:IBM+PY0101EN+3T2020/course/ Module 1, 2 & 3\n",
    "- DataFrame Basics\n",
    " - https://campus.datacamp.com/courses/introduction-to-data-science-in-python/loading-data-in-pandas?ex=1\n",
    " - https://campus.datacamp.com/courses/pandas-foundations/data-ingestion-inspection?ex=1 \n",
    "  - https://www.coursera.org/learn/python-data-analysis?specialization=data-science-python#syllabus "
   ]
  },
  {
   "cell_type": "markdown",
   "metadata": {},
   "source": [
    "### Portfolio assignment 3\n",
    "15 min: Perform a univariate analysis on all the categorical data of the penguins dataset. Commit the notebook to your portfolio when you're finished.\n",
    "Optional: Start working on portfolio assignment 4 "
   ]
  },
  {
   "cell_type": "code",
   "execution_count": 3,
   "metadata": {},
   "outputs": [],
   "source": [
    "import pandas as pd"
   ]
  },
  {
   "cell_type": "code",
   "execution_count": 44,
   "metadata": {},
   "outputs": [],
   "source": [
    "import seaborn as sns"
   ]
  },
  {
   "cell_type": "code",
   "execution_count": 45,
   "metadata": {},
   "outputs": [],
   "source": [
    "penguins = sns.load_dataset(\"penguins\")"
   ]
  },
  {
   "cell_type": "code",
   "execution_count": 7,
   "metadata": {},
   "outputs": [
    {
     "data": {
      "text/html": [
       "<div>\n",
       "<style scoped>\n",
       "    .dataframe tbody tr th:only-of-type {\n",
       "        vertical-align: middle;\n",
       "    }\n",
       "\n",
       "    .dataframe tbody tr th {\n",
       "        vertical-align: top;\n",
       "    }\n",
       "\n",
       "    .dataframe thead th {\n",
       "        text-align: right;\n",
       "    }\n",
       "</style>\n",
       "<table border=\"1\" class=\"dataframe\">\n",
       "  <thead>\n",
       "    <tr style=\"text-align: right;\">\n",
       "      <th></th>\n",
       "      <th>species</th>\n",
       "      <th>island</th>\n",
       "      <th>bill_length_mm</th>\n",
       "      <th>bill_depth_mm</th>\n",
       "      <th>flipper_length_mm</th>\n",
       "      <th>body_mass_g</th>\n",
       "      <th>sex</th>\n",
       "    </tr>\n",
       "  </thead>\n",
       "  <tbody>\n",
       "    <tr>\n",
       "      <th>0</th>\n",
       "      <td>Adelie</td>\n",
       "      <td>Torgersen</td>\n",
       "      <td>39.1</td>\n",
       "      <td>18.7</td>\n",
       "      <td>181.0</td>\n",
       "      <td>3750.0</td>\n",
       "      <td>Male</td>\n",
       "    </tr>\n",
       "    <tr>\n",
       "      <th>1</th>\n",
       "      <td>Adelie</td>\n",
       "      <td>Torgersen</td>\n",
       "      <td>39.5</td>\n",
       "      <td>17.4</td>\n",
       "      <td>186.0</td>\n",
       "      <td>3800.0</td>\n",
       "      <td>Female</td>\n",
       "    </tr>\n",
       "    <tr>\n",
       "      <th>2</th>\n",
       "      <td>Adelie</td>\n",
       "      <td>Torgersen</td>\n",
       "      <td>40.3</td>\n",
       "      <td>18.0</td>\n",
       "      <td>195.0</td>\n",
       "      <td>3250.0</td>\n",
       "      <td>Female</td>\n",
       "    </tr>\n",
       "    <tr>\n",
       "      <th>3</th>\n",
       "      <td>Adelie</td>\n",
       "      <td>Torgersen</td>\n",
       "      <td>NaN</td>\n",
       "      <td>NaN</td>\n",
       "      <td>NaN</td>\n",
       "      <td>NaN</td>\n",
       "      <td>NaN</td>\n",
       "    </tr>\n",
       "    <tr>\n",
       "      <th>4</th>\n",
       "      <td>Adelie</td>\n",
       "      <td>Torgersen</td>\n",
       "      <td>36.7</td>\n",
       "      <td>19.3</td>\n",
       "      <td>193.0</td>\n",
       "      <td>3450.0</td>\n",
       "      <td>Female</td>\n",
       "    </tr>\n",
       "    <tr>\n",
       "      <th>...</th>\n",
       "      <td>...</td>\n",
       "      <td>...</td>\n",
       "      <td>...</td>\n",
       "      <td>...</td>\n",
       "      <td>...</td>\n",
       "      <td>...</td>\n",
       "      <td>...</td>\n",
       "    </tr>\n",
       "    <tr>\n",
       "      <th>339</th>\n",
       "      <td>Gentoo</td>\n",
       "      <td>Biscoe</td>\n",
       "      <td>NaN</td>\n",
       "      <td>NaN</td>\n",
       "      <td>NaN</td>\n",
       "      <td>NaN</td>\n",
       "      <td>NaN</td>\n",
       "    </tr>\n",
       "    <tr>\n",
       "      <th>340</th>\n",
       "      <td>Gentoo</td>\n",
       "      <td>Biscoe</td>\n",
       "      <td>46.8</td>\n",
       "      <td>14.3</td>\n",
       "      <td>215.0</td>\n",
       "      <td>4850.0</td>\n",
       "      <td>Female</td>\n",
       "    </tr>\n",
       "    <tr>\n",
       "      <th>341</th>\n",
       "      <td>Gentoo</td>\n",
       "      <td>Biscoe</td>\n",
       "      <td>50.4</td>\n",
       "      <td>15.7</td>\n",
       "      <td>222.0</td>\n",
       "      <td>5750.0</td>\n",
       "      <td>Male</td>\n",
       "    </tr>\n",
       "    <tr>\n",
       "      <th>342</th>\n",
       "      <td>Gentoo</td>\n",
       "      <td>Biscoe</td>\n",
       "      <td>45.2</td>\n",
       "      <td>14.8</td>\n",
       "      <td>212.0</td>\n",
       "      <td>5200.0</td>\n",
       "      <td>Female</td>\n",
       "    </tr>\n",
       "    <tr>\n",
       "      <th>343</th>\n",
       "      <td>Gentoo</td>\n",
       "      <td>Biscoe</td>\n",
       "      <td>49.9</td>\n",
       "      <td>16.1</td>\n",
       "      <td>213.0</td>\n",
       "      <td>5400.0</td>\n",
       "      <td>Male</td>\n",
       "    </tr>\n",
       "  </tbody>\n",
       "</table>\n",
       "<p>344 rows × 7 columns</p>\n",
       "</div>"
      ],
      "text/plain": [
       "    species     island  bill_length_mm  bill_depth_mm  flipper_length_mm  \\\n",
       "0    Adelie  Torgersen            39.1           18.7              181.0   \n",
       "1    Adelie  Torgersen            39.5           17.4              186.0   \n",
       "2    Adelie  Torgersen            40.3           18.0              195.0   \n",
       "3    Adelie  Torgersen             NaN            NaN                NaN   \n",
       "4    Adelie  Torgersen            36.7           19.3              193.0   \n",
       "..      ...        ...             ...            ...                ...   \n",
       "339  Gentoo     Biscoe             NaN            NaN                NaN   \n",
       "340  Gentoo     Biscoe            46.8           14.3              215.0   \n",
       "341  Gentoo     Biscoe            50.4           15.7              222.0   \n",
       "342  Gentoo     Biscoe            45.2           14.8              212.0   \n",
       "343  Gentoo     Biscoe            49.9           16.1              213.0   \n",
       "\n",
       "     body_mass_g     sex  \n",
       "0         3750.0    Male  \n",
       "1         3800.0  Female  \n",
       "2         3250.0  Female  \n",
       "3            NaN     NaN  \n",
       "4         3450.0  Female  \n",
       "..           ...     ...  \n",
       "339          NaN     NaN  \n",
       "340       4850.0  Female  \n",
       "341       5750.0    Male  \n",
       "342       5200.0  Female  \n",
       "343       5400.0    Male  \n",
       "\n",
       "[344 rows x 7 columns]"
      ]
     },
     "execution_count": 7,
     "metadata": {},
     "output_type": "execute_result"
    }
   ],
   "source": [
    "penguins"
   ]
  },
  {
   "cell_type": "code",
   "execution_count": 88,
   "metadata": {},
   "outputs": [
    {
     "data": {
      "text/plain": [
       "Index(['species', 'island', 'bill_length_mm', 'bill_depth_mm',\n",
       "       'flipper_length_mm', 'body_mass_g', 'sex'],\n",
       "      dtype='object')"
      ]
     },
     "execution_count": 88,
     "metadata": {},
     "output_type": "execute_result"
    }
   ],
   "source": [
    "penguins.columns"
   ]
  },
  {
   "cell_type": "markdown",
   "metadata": {},
   "source": [
    "### Sex\n"
   ]
  },
  {
   "cell_type": "code",
   "execution_count": 109,
   "metadata": {},
   "outputs": [
    {
     "data": {
      "text/plain": [
       "array(['Male', 'Female', nan], dtype=object)"
      ]
     },
     "execution_count": 109,
     "metadata": {},
     "output_type": "execute_result"
    }
   ],
   "source": [
    "penguins['sex'].unique()"
   ]
  },
  {
   "cell_type": "code",
   "execution_count": 110,
   "metadata": {},
   "outputs": [
    {
     "data": {
      "text/plain": [
       "Male      168\n",
       "Female    165\n",
       "Name: sex, dtype: int64"
      ]
     },
     "execution_count": 110,
     "metadata": {},
     "output_type": "execute_result"
    }
   ],
   "source": [
    "penguins['sex'].value_counts()"
   ]
  },
  {
   "cell_type": "code",
   "execution_count": 62,
   "metadata": {},
   "outputs": [
    {
     "data": {
      "text/plain": [
       "<AxesSubplot:title={'center':'Penguin gender'}, ylabel='sex'>"
      ]
     },
     "execution_count": 62,
     "metadata": {},
     "output_type": "execute_result"
    },
    {
     "data": {
      "image/png": "[encoded data removed]",
      "text/plain": [
       "<Figure size 432x288 with 1 Axes>"
      ]
     },
     "metadata": {},
     "output_type": "display_data"
    }
   ],
   "source": [
    "penguins['sex'].value_counts(dropna=False).plot(kind='pie', title='Penguin gender', legend=True, labels=None, autopct='%1.1f%%')"
   ]
  },
  {
   "cell_type": "markdown",
   "metadata": {},
   "source": [
    "### Species\n"
   ]
  },
  {
   "cell_type": "code",
   "execution_count": 10,
   "metadata": {},
   "outputs": [
    {
     "data": {
      "text/plain": [
       "array(['Adelie', 'Chinstrap', 'Gentoo'], dtype=object)"
      ]
     },
     "execution_count": 10,
     "metadata": {},
     "output_type": "execute_result"
    }
   ],
   "source": [
    "penguins['species'].unique()"
   ]
  },
  {
   "cell_type": "code",
   "execution_count": 11,
   "metadata": {},
   "outputs": [
    {
     "data": {
      "text/plain": [
       "Adelie       152\n",
       "Gentoo       124\n",
       "Chinstrap     68\n",
       "Name: species, dtype: int64"
      ]
     },
     "execution_count": 11,
     "metadata": {},
     "output_type": "execute_result"
    }
   ],
   "source": [
    "penguins['species'].value_counts()"
   ]
  },
  {
   "cell_type": "code",
   "execution_count": 60,
   "metadata": {},
   "outputs": [
    {
     "data": {
      "text/plain": [
       "<AxesSubplot:title={'center':'Penguin species'}>"
      ]
     },
     "execution_count": 60,
     "metadata": {},
     "output_type": "execute_result"
    },
    {
     "data": {
      "image/png": "[encoded data removed]",
      "text/plain": [
       "<Figure size 432x288 with 1 Axes>"
      ]
     },
     "metadata": {
      "needs_background": "light"
     },
     "output_type": "display_data"
    }
   ],
   "source": [
    "penguins['species'].value_counts.plot(kind='bar', title='Penguin species', legend= True)"
   ]
  },
  {
   "cell_type": "markdown",
   "metadata": {},
   "source": [
    "### Island\n"
   ]
  },
  {
   "cell_type": "code",
   "execution_count": 111,
   "metadata": {},
   "outputs": [
    {
     "data": {
      "text/plain": [
       "array(['Torgersen', 'Biscoe', 'Dream'], dtype=object)"
      ]
     },
     "execution_count": 111,
     "metadata": {},
     "output_type": "execute_result"
    }
   ],
   "source": [
    "penguins['island'].unique()"
   ]
  },
  {
   "cell_type": "code",
   "execution_count": 112,
   "metadata": {},
   "outputs": [
    {
     "data": {
      "text/plain": [
       "Biscoe       168\n",
       "Dream        124\n",
       "Torgersen     52\n",
       "Name: island, dtype: int64"
      ]
     },
     "execution_count": 112,
     "metadata": {},
     "output_type": "execute_result"
    }
   ],
   "source": [
    "penguins['island'].value_counts()"
   ]
  },
  {
   "cell_type": "code",
   "execution_count": 63,
   "metadata": {},
   "outputs": [
    {
     "data": {
      "text/plain": [
       "<AxesSubplot:title={'center':'Penguin islands'}>"
      ]
     },
     "execution_count": 63,
     "metadata": {},
     "output_type": "execute_result"
    },
    {
     "data": {
      "image/png": "[encoded data removed]",
      "text/plain": [
       "<Figure size 432x288 with 1 Axes>"
      ]
     },
     "metadata": {
      "needs_background": "light"
     },
     "output_type": "display_data"
    }
   ],
   "source": [
    "penguins['island'].value_counts().plot(kind='bar', title='Penguin islands', legend= True)"
   ]
  },
  {
   "cell_type": "markdown",
   "metadata": {},
   "source": [
    "### Bill length mm\n"
   ]
  },
  {
   "cell_type": "code",
   "execution_count": 227,
   "metadata": {},
   "outputs": [
    {
     "data": {
      "text/plain": [
       "array([39.1, 39.5, 40.3,  nan, 36.7, 39.3, 38.9, 39.2, 34.1, 42. , 37.8,\n",
       "       41.1, 38.6, 34.6, 36.6, 38.7, 42.5, 34.4, 46. , 37.7, 35.9, 38.2,\n",
       "       38.8, 35.3, 40.6, 40.5, 37.9, 37.2, 40.9, 36.4, 42.2, 37.6, 39.8,\n",
       "       36.5, 40.8, 36. , 44.1, 37. , 39.6, 37.5, 42.3, 40.1, 35. , 34.5,\n",
       "       41.4, 39. , 35.7, 41.3, 41.6, 35.5, 41.8, 33.5, 39.7, 45.8, 42.8,\n",
       "       36.2, 42.1, 42.9, 35.1, 37.3, 36.3, 36.9, 38.3, 34. , 38.1, 33.1,\n",
       "       43.2, 41. , 45.6, 42.7, 40.2, 35.2, 41.5, 38.5, 43.1, 36.8, 35.6,\n",
       "       32.1, 40.7, 46.5, 50. , 51.3, 45.4, 52.7, 45.2, 46.1, 46.6, 51.7,\n",
       "       47. , 52. , 45.9, 50.5, 50.3, 58. , 46.4, 49.2, 42.4, 48.5, 50.6,\n",
       "       46.7, 49.5, 52.8, 54.2, 51. , 49.7, 47.5, 47.6, 46.9, 53.5, 49. ,\n",
       "       46.2, 50.9, 45.5, 50.8, 50.1, 51.5, 49.8, 48.1, 51.4, 45.7, 50.7,\n",
       "       52.2, 49.3, 50.2, 51.9, 46.8, 55.8, 43.5, 49.6, 48.7, 43.3, 48.4,\n",
       "       45.1, 46.3, 44.5, 47.8, 48.2, 47.3, 59.6, 49.1, 42.6, 44.4, 44. ,\n",
       "       45.3, 43.6, 44.9, 45. , 43.8, 50.4, 54.3, 47.7, 48.6, 51.1, 52.5,\n",
       "       47.4, 43.4, 52.1, 49.4, 55.9, 47.2, 41.7, 53.4, 55.1, 48.8, 49.9])"
      ]
     },
     "execution_count": 227,
     "metadata": {},
     "output_type": "execute_result"
    }
   ],
   "source": [
    "penguins['bill_length_mm'].unique()"
   ]
  },
  {
   "cell_type": "code",
   "execution_count": 228,
   "metadata": {},
   "outputs": [
    {
     "data": {
      "text/plain": [
       "41.1    7\n",
       "45.2    6\n",
       "39.6    5\n",
       "37.8    5\n",
       "46.5    5\n",
       "       ..\n",
       "45.9    1\n",
       "42.4    1\n",
       "55.1    1\n",
       "52.7    1\n",
       "51.9    1\n",
       "Name: bill_length_mm, Length: 164, dtype: int64"
      ]
     },
     "execution_count": 228,
     "metadata": {},
     "output_type": "execute_result"
    }
   ],
   "source": [
    "penguins['bill_length_mm'].value_counts()"
   ]
  },
  {
   "cell_type": "code",
   "execution_count": 230,
   "metadata": {},
   "outputs": [
    {
     "data": {
      "text/plain": [
       "<AxesSubplot:title={'center':'Bill length in mm'}, ylabel='Frequency'>"
      ]
     },
     "execution_count": 230,
     "metadata": {},
     "output_type": "execute_result"
    },
    {
     "data": {
      "image/png": "[encoded data removed]",
      "text/plain": [
       "<Figure size 432x288 with 1 Axes>"
      ]
     },
     "metadata": {
      "needs_background": "light"
     },
     "output_type": "display_data"
    }
   ],
   "source": [
    "penguins['bill_length_mm'].plot(kind='hist', title='Bill length in mm')"
   ]
  },
  {
   "cell_type": "markdown",
   "metadata": {},
   "source": [
    "### Bill depth mm\n"
   ]
  },
  {
   "cell_type": "code",
   "execution_count": 114,
   "metadata": {},
   "outputs": [
    {
     "data": {
      "text/plain": [
       "array([18.7, 17.4, 18. ,  nan, 19.3, 20.6, 17.8, 19.6, 18.1, 20.2, 17.1,\n",
       "       17.3, 17.6, 21.2, 21.1, 19. , 20.7, 18.4, 21.5, 18.3, 19.2, 17.2,\n",
       "       18.9, 18.6, 17.9, 16.7, 17. , 20. , 18.5, 19.1, 19.7, 16.9, 18.8,\n",
       "       17.7, 19.5, 17.5, 16.6, 18.2, 16.2, 19.4, 16.8, 16.1, 20.3, 16. ,\n",
       "       16.5, 20.5, 19.8, 15.9, 20.1, 15.5, 19.9, 20.8, 16.4, 13.2, 16.3,\n",
       "       14.1, 15.2, 14.5, 13.5, 14.6, 15.3, 13.4, 15.4, 13.7, 15.7, 15.1,\n",
       "       14.3, 15.8, 13.1, 15. , 14.2, 14.8, 13.6, 13.9, 13.3, 14.4, 13.8,\n",
       "       14.9, 15.6, 14. , 14.7])"
      ]
     },
     "execution_count": 114,
     "metadata": {},
     "output_type": "execute_result"
    }
   ],
   "source": [
    "penguins['bill_depth_mm'].unique()"
   ]
  },
  {
   "cell_type": "code",
   "execution_count": 113,
   "metadata": {},
   "outputs": [
    {
     "data": {
      "text/plain": [
       "17.0    12\n",
       "18.6    10\n",
       "15.0    10\n",
       "18.5    10\n",
       "17.9    10\n",
       "        ..\n",
       "20.8     1\n",
       "13.4     1\n",
       "17.4     1\n",
       "20.6     1\n",
       "13.3     1\n",
       "Name: bill_depth_mm, Length: 80, dtype: int64"
      ]
     },
     "execution_count": 113,
     "metadata": {},
     "output_type": "execute_result"
    }
   ],
   "source": [
    "penguins['bill_depth_mm'].value_counts()"
   ]
  },
  {
   "cell_type": "code",
   "execution_count": 223,
   "metadata": {},
   "outputs": [
    {
     "data": {
      "text/plain": [
       "<AxesSubplot:title={'center':'Bill depth in mm'}, ylabel='Frequency'>"
      ]
     },
     "execution_count": 223,
     "metadata": {},
     "output_type": "execute_result"
    },
    {
     "data": {
      "image/png": "[encoded data removed]",
      "text/plain": [
       "<Figure size 432x288 with 1 Axes>"
      ]
     },
     "metadata": {
      "needs_background": "light"
     },
     "output_type": "display_data"
    }
   ],
   "source": [
    "penguins['bill_depth_mm'].plot(kind='hist', title='Bill depth in mm')"
   ]
  },
  {
   "cell_type": "markdown",
   "metadata": {},
   "source": [
    "### Flipper length mm\n"
   ]
  },
  {
   "cell_type": "code",
   "execution_count": 116,
   "metadata": {},
   "outputs": [
    {
     "data": {
      "text/plain": [
       "array([181., 186., 195.,  nan, 193., 190., 180., 182., 191., 198., 185.,\n",
       "       197., 184., 194., 174., 189., 187., 183., 172., 178., 188., 196.,\n",
       "       179., 200., 192., 202., 205., 208., 203., 199., 176., 210., 201.,\n",
       "       212., 206., 207., 211., 230., 218., 215., 219., 209., 214., 216.,\n",
       "       213., 217., 221., 222., 220., 225., 224., 231., 229., 223., 228.,\n",
       "       226.])"
      ]
     },
     "execution_count": 116,
     "metadata": {},
     "output_type": "execute_result"
    }
   ],
   "source": [
    "penguins['flipper_length_mm'].unique()"
   ]
  },
  {
   "cell_type": "code",
   "execution_count": 115,
   "metadata": {},
   "outputs": [
    {
     "data": {
      "text/plain": [
       "190.0    22\n",
       "195.0    17\n",
       "187.0    16\n",
       "193.0    15\n",
       "210.0    14\n",
       "191.0    13\n",
       "215.0    12\n",
       "196.0    10\n",
       "197.0    10\n",
       "185.0     9\n",
       "216.0     8\n",
       "208.0     8\n",
       "198.0     8\n",
       "220.0     8\n",
       "181.0     7\n",
       "186.0     7\n",
       "192.0     7\n",
       "230.0     7\n",
       "184.0     7\n",
       "189.0     7\n",
       "212.0     7\n",
       "188.0     6\n",
       "199.0     6\n",
       "217.0     6\n",
       "201.0     6\n",
       "213.0     6\n",
       "222.0     6\n",
       "214.0     6\n",
       "180.0     5\n",
       "194.0     5\n",
       "203.0     5\n",
       "219.0     5\n",
       "221.0     5\n",
       "209.0     5\n",
       "218.0     5\n",
       "202.0     4\n",
       "228.0     4\n",
       "178.0     4\n",
       "225.0     4\n",
       "200.0     4\n",
       "205.0     3\n",
       "224.0     3\n",
       "182.0     3\n",
       "223.0     2\n",
       "229.0     2\n",
       "211.0     2\n",
       "207.0     2\n",
       "183.0     2\n",
       "174.0     1\n",
       "206.0     1\n",
       "176.0     1\n",
       "231.0     1\n",
       "172.0     1\n",
       "179.0     1\n",
       "226.0     1\n",
       "Name: flipper_length_mm, dtype: int64"
      ]
     },
     "execution_count": 115,
     "metadata": {},
     "output_type": "execute_result"
    }
   ],
   "source": [
    "penguins['flipper_length_mm'].value_counts()"
   ]
  },
  {
   "cell_type": "code",
   "execution_count": 222,
   "metadata": {},
   "outputs": [
    {
     "data": {
      "text/plain": [
       "<AxesSubplot:title={'center':'Flipper length in mm'}, ylabel='Frequency'>"
      ]
     },
     "execution_count": 222,
     "metadata": {},
     "output_type": "execute_result"
    },
    {
     "data": {
      "image/png": "[encoded data removed]",
      "text/plain": [
       "<Figure size 432x288 with 1 Axes>"
      ]
     },
     "metadata": {
      "needs_background": "light"
     },
     "output_type": "display_data"
    }
   ],
   "source": [
    "penguins['flipper_length_mm'].plot(kind='hist', title='Flipper length in mm')"
   ]
  },
  {
   "cell_type": "markdown",
   "metadata": {},
   "source": [
    "### Body mass g\n"
   ]
  },
  {
   "cell_type": "code",
   "execution_count": 118,
   "metadata": {},
   "outputs": [
    {
     "data": {
      "text/plain": [
       "array([3750., 3800., 3250.,   nan, 3450., 3650., 3625., 4675., 3475.,\n",
       "       4250., 3300., 3700., 3200., 4400., 4500., 3325., 4200., 3400.,\n",
       "       3600., 3950., 3550., 3150., 3900., 4150., 4650., 3100., 3000.,\n",
       "       4600., 3425., 2975., 3500., 4300., 4050., 2900., 2850., 3350.,\n",
       "       4100., 3050., 4450., 4000., 4700., 4350., 3725., 4725., 3075.,\n",
       "       2925., 3175., 4775., 3825., 4275., 4075., 3775., 3875., 3275.,\n",
       "       4475., 3975., 3525., 3575., 4550., 3850., 4800., 2700., 3675.,\n",
       "       5700., 5400., 5200., 5150., 5550., 5850., 6300., 5350., 5000.,\n",
       "       5050., 5100., 5650., 5250., 6050., 4950., 4750., 4900., 5300.,\n",
       "       4850., 5800., 6000., 5950., 4625., 5450., 5600., 4875., 4925.,\n",
       "       4975., 5500., 4575., 4375., 5750.])"
      ]
     },
     "execution_count": 118,
     "metadata": {},
     "output_type": "execute_result"
    }
   ],
   "source": [
    "penguins['body_mass_g'].unique()"
   ]
  },
  {
   "cell_type": "code",
   "execution_count": 117,
   "metadata": {},
   "outputs": [
    {
     "data": {
      "text/plain": [
       "3800.0    12\n",
       "3700.0    11\n",
       "3950.0    10\n",
       "3900.0    10\n",
       "3550.0     9\n",
       "          ..\n",
       "4975.0     1\n",
       "4275.0     1\n",
       "3100.0     1\n",
       "3275.0     1\n",
       "4775.0     1\n",
       "Name: body_mass_g, Length: 94, dtype: int64"
      ]
     },
     "execution_count": 117,
     "metadata": {},
     "output_type": "execute_result"
    }
   ],
   "source": [
    "penguins['body_mass_g'].value_counts()"
   ]
  },
  {
   "cell_type": "code",
   "execution_count": 225,
   "metadata": {},
   "outputs": [
    {
     "data": {
      "text/plain": [
       "<AxesSubplot:title={'center':'Body mass in g'}, ylabel='Frequency'>"
      ]
     },
     "execution_count": 225,
     "metadata": {},
     "output_type": "execute_result"
    },
    {
     "data": {
      "image/png": "[encoded data removed]",
      "text/plain": [
       "<Figure size 432x288 with 1 Axes>"
      ]
     },
     "metadata": {
      "needs_background": "light"
     },
     "output_type": "display_data"
    }
   ],
   "source": [
    "penguins['body_mass_g'].plot(kind='hist',title='Body mass in g', bins=10)\n"
   ]
  },
  {
   "cell_type": "code",
   "execution_count": 46,
   "metadata": {},
   "outputs": [
    {
     "data": {
      "text/plain": [
       "species               0\n",
       "island                0\n",
       "bill_length_mm        2\n",
       "bill_depth_mm         2\n",
       "flipper_length_mm     2\n",
       "body_mass_g           2\n",
       "sex                  11\n",
       "dtype: int64"
      ]
     },
     "execution_count": 46,
     "metadata": {},
     "output_type": "execute_result"
    }
   ],
   "source": [
    "penguins.isna().sum()"
   ]
  },
  {
   "cell_type": "markdown",
   "metadata": {},
   "source": [
    "### Portfolio assignment 4\n",
    "15 min: Look online for a datset that you personally find interesting to explore. It can be about any topic that you find interesting: sports, games, software development, etc. Commit the dataset to your portfolio. You will be analysing the dataset in future portfolio assignments.\n",
    "\n",
    "Required characteristics of the dataset:\n",
    "- Must be in a tabular format: Contains rows and columns\n",
    "- Contains at least 100 rows\n",
    "- Contains at least 2 columns with categorical data and at least 2 columns with numerical data\n",
    "- Is less than 200 MB"
   ]
  },
  {
   "cell_type": "markdown",
   "metadata": {},
   "source": [
    "#### Gekozen dataset: Movies"
   ]
  },
  {
   "cell_type": "markdown",
   "metadata": {},
   "source": [
    "aantal kolommen: 20"
   ]
  },
  {
   "cell_type": "markdown",
   "metadata": {},
   "source": [
    "aantal rijen: 4803"
   ]
  },
  {
   "cell_type": "markdown",
   "metadata": {},
   "source": [
    "5.43 mbs"
   ]
  },
  {
   "cell_type": "markdown",
   "metadata": {},
   "source": [
    "2 voorbeelden van categorical data: genres en original_language"
   ]
  },
  {
   "cell_type": "markdown",
   "metadata": {},
   "source": [
    "2 voorbeelden van numerical data: runtime en vote_average"
   ]
  },
  {
   "cell_type": "code",
   "execution_count": 137,
   "metadata": {},
   "outputs": [],
   "source": [
    "import pandas as pd\n",
    "\n",
    "movies = pd.read_csv (r'movies.csv')"
   ]
  },
  {
   "cell_type": "code",
   "execution_count": 143,
   "metadata": {},
   "outputs": [
    {
     "data": {
      "text/plain": [
       "20"
      ]
     },
     "execution_count": 143,
     "metadata": {},
     "output_type": "execute_result"
    }
   ],
   "source": [
    "len(movies.columns)"
   ]
  },
  {
   "cell_type": "code",
   "execution_count": 144,
   "metadata": {},
   "outputs": [
    {
     "data": {
      "text/plain": [
       "4803"
      ]
     },
     "execution_count": 144,
     "metadata": {},
     "output_type": "execute_result"
    }
   ],
   "source": [
    "len(movies)"
   ]
  },
  {
   "cell_type": "code",
   "execution_count": 126,
   "metadata": {},
   "outputs": [
    {
     "data": {
      "text/plain": [
       "Index(['budget', 'genres', 'homepage', 'id', 'keywords', 'original_language',\n",
       "       'original_title', 'overview', 'popularity', 'production_companies',\n",
       "       'production_countries', 'release_date', 'revenue', 'runtime',\n",
       "       'spoken_languages', 'status', 'tagline', 'title', 'vote_average',\n",
       "       'vote_count'],\n",
       "      dtype='object')"
      ]
     },
     "execution_count": 126,
     "metadata": {},
     "output_type": "execute_result"
    }
   ],
   "source": [
    "movies.columns"
   ]
  },
  {
   "cell_type": "markdown",
   "metadata": {},
   "source": [
    "### Portfolio assignment 5\n",
    "20 min: \n",
    "- Download lifeExpectancyAtBirth.csv from Onderwijsmateriaal/Datasets on Blackboard.\n",
    "- Move the file to the same folder as the Notebook that you will be working in.\n",
    "- Load the dataset in your Notebook with the following code: lifeExpectancy = pd.read_csv('Datasets/lifeExpectancyAtBirth.csv', sep=',')\n",
    "- Look at the dataset with the .head() function.\n",
    "- Filter the dataframe: We only want the life expectancy data about 2019 and 'Both sexes'\n",
    "- Use this dataframe to perform a univariate analysis on the life expectancy in 2019.\n",
    "\n",
    "Commit the notebook and dataset to your portfolio when you're finished."
   ]
  },
  {
   "cell_type": "code",
   "execution_count": 67,
   "metadata": {},
   "outputs": [],
   "source": [
    "lifeExpectancy = pd.read_csv('lifeExpectancyAtBirth.csv', sep=',')"
   ]
  },
  {
   "cell_type": "code",
   "execution_count": 68,
   "metadata": {},
   "outputs": [
    {
     "data": {
      "text/html": [
       "<div>\n",
       "<style scoped>\n",
       "    .dataframe tbody tr th:only-of-type {\n",
       "        vertical-align: middle;\n",
       "    }\n",
       "\n",
       "    .dataframe tbody tr th {\n",
       "        vertical-align: top;\n",
       "    }\n",
       "\n",
       "    .dataframe thead th {\n",
       "        text-align: right;\n",
       "    }\n",
       "</style>\n",
       "<table border=\"1\" class=\"dataframe\">\n",
       "  <thead>\n",
       "    <tr style=\"text-align: right;\">\n",
       "      <th></th>\n",
       "      <th>Location</th>\n",
       "      <th>Period</th>\n",
       "      <th>Indicator</th>\n",
       "      <th>Dim1</th>\n",
       "      <th>First Tooltip</th>\n",
       "    </tr>\n",
       "  </thead>\n",
       "  <tbody>\n",
       "    <tr>\n",
       "      <th>0</th>\n",
       "      <td>Afghanistan</td>\n",
       "      <td>2019</td>\n",
       "      <td>Life expectancy at birth (years)</td>\n",
       "      <td>Both sexes</td>\n",
       "      <td>63.21</td>\n",
       "    </tr>\n",
       "    <tr>\n",
       "      <th>1</th>\n",
       "      <td>Afghanistan</td>\n",
       "      <td>2019</td>\n",
       "      <td>Life expectancy at birth (years)</td>\n",
       "      <td>Male</td>\n",
       "      <td>63.29</td>\n",
       "    </tr>\n",
       "    <tr>\n",
       "      <th>2</th>\n",
       "      <td>Afghanistan</td>\n",
       "      <td>2019</td>\n",
       "      <td>Life expectancy at birth (years)</td>\n",
       "      <td>Female</td>\n",
       "      <td>63.16</td>\n",
       "    </tr>\n",
       "    <tr>\n",
       "      <th>3</th>\n",
       "      <td>Afghanistan</td>\n",
       "      <td>2015</td>\n",
       "      <td>Life expectancy at birth (years)</td>\n",
       "      <td>Both sexes</td>\n",
       "      <td>61.65</td>\n",
       "    </tr>\n",
       "    <tr>\n",
       "      <th>4</th>\n",
       "      <td>Afghanistan</td>\n",
       "      <td>2015</td>\n",
       "      <td>Life expectancy at birth (years)</td>\n",
       "      <td>Male</td>\n",
       "      <td>61.04</td>\n",
       "    </tr>\n",
       "  </tbody>\n",
       "</table>\n",
       "</div>"
      ],
      "text/plain": [
       "      Location  Period                         Indicator        Dim1  \\\n",
       "0  Afghanistan    2019  Life expectancy at birth (years)  Both sexes   \n",
       "1  Afghanistan    2019  Life expectancy at birth (years)        Male   \n",
       "2  Afghanistan    2019  Life expectancy at birth (years)      Female   \n",
       "3  Afghanistan    2015  Life expectancy at birth (years)  Both sexes   \n",
       "4  Afghanistan    2015  Life expectancy at birth (years)        Male   \n",
       "\n",
       "   First Tooltip  \n",
       "0          63.21  \n",
       "1          63.29  \n",
       "2          63.16  \n",
       "3          61.65  \n",
       "4          61.04  "
      ]
     },
     "execution_count": 68,
     "metadata": {},
     "output_type": "execute_result"
    }
   ],
   "source": [
    "lifeExpectancy.head()"
   ]
  },
  {
   "cell_type": "code",
   "execution_count": 69,
   "metadata": {},
   "outputs": [
    {
     "data": {
      "text/plain": [
       "Index(['Location', 'Period', 'Indicator', 'Dim1', 'First Tooltip'], dtype='object')"
      ]
     },
     "execution_count": 69,
     "metadata": {},
     "output_type": "execute_result"
    }
   ],
   "source": [
    "lifeExpectancy.columns"
   ]
  },
  {
   "cell_type": "code",
   "execution_count": 70,
   "metadata": {},
   "outputs": [],
   "source": [
    "import pandas as pd"
   ]
  },
  {
   "cell_type": "code",
   "execution_count": 71,
   "metadata": {},
   "outputs": [],
   "source": [
    "filtered =  lifeExpectancy.query('Dim1==\"Both sexes\" & Period==\"2019\" ')"
   ]
  },
  {
   "cell_type": "code",
   "execution_count": 72,
   "metadata": {},
   "outputs": [
    {
     "name": "stdout",
     "output_type": "stream",
     "text": [
      "               Location  Period                         Indicator        Dim1  \\\n",
      "0           Afghanistan    2019  Life expectancy at birth (years)  Both sexes   \n",
      "12              Albania    2019  Life expectancy at birth (years)  Both sexes   \n",
      "24              Algeria    2019  Life expectancy at birth (years)  Both sexes   \n",
      "36               Angola    2019  Life expectancy at birth (years)  Both sexes   \n",
      "48  Antigua and Barbuda    2019  Life expectancy at birth (years)  Both sexes   \n",
      "\n",
      "    First Tooltip  \n",
      "0           63.21  \n",
      "12          78.00  \n",
      "24          77.13  \n",
      "36          63.06  \n",
      "48          76.45  \n"
     ]
    }
   ],
   "source": [
    "print(filtered.head())"
   ]
  },
  {
   "cell_type": "code",
   "execution_count": 73,
   "metadata": {},
   "outputs": [
    {
     "data": {
      "text/plain": [
       "<AxesSubplot:title={'center':'Life Expectancy of both sexes in 2019'}, ylabel='Frequency'>"
      ]
     },
     "execution_count": 73,
     "metadata": {},
     "output_type": "execute_result"
    },
    {
     "data": {
      "image/png": "[encoded data removed]",
      "text/plain": [
       "<Figure size 432x288 with 1 Axes>"
      ]
     },
     "metadata": {
      "needs_background": "light"
     },
     "output_type": "display_data"
    }
   ],
   "source": [
    "filtered['First Tooltip'].plot(kind='hist', title='Life Expectancy of both sexes in 2019', bins=20)"
   ]
  },
  {
   "cell_type": "markdown",
   "metadata": {},
   "source": [
    "Gemiddelde leeftijd"
   ]
  },
  {
   "cell_type": "code",
   "execution_count": 74,
   "metadata": {},
   "outputs": [
    {
     "data": {
      "text/plain": [
       "72.5"
      ]
     },
     "execution_count": 74,
     "metadata": {},
     "output_type": "execute_result"
    }
   ],
   "source": [
    "round(filtered[\"First Tooltip\"].mean(), 1)"
   ]
  },
  {
   "cell_type": "markdown",
   "metadata": {},
   "source": [
    "Land met hoogste levensverwachting & land met laagste levensverwachting"
   ]
  },
  {
   "cell_type": "code",
   "execution_count": 82,
   "metadata": {},
   "outputs": [
    {
     "data": {
      "text/html": [
       "<div>\n",
       "<style scoped>\n",
       "    .dataframe tbody tr th:only-of-type {\n",
       "        vertical-align: middle;\n",
       "    }\n",
       "\n",
       "    .dataframe tbody tr th {\n",
       "        vertical-align: top;\n",
       "    }\n",
       "\n",
       "    .dataframe thead th {\n",
       "        text-align: right;\n",
       "    }\n",
       "</style>\n",
       "<table border=\"1\" class=\"dataframe\">\n",
       "  <thead>\n",
       "    <tr style=\"text-align: right;\">\n",
       "      <th></th>\n",
       "      <th>Location</th>\n",
       "      <th>Period</th>\n",
       "      <th>Indicator</th>\n",
       "      <th>Dim1</th>\n",
       "      <th>First Tooltip</th>\n",
       "    </tr>\n",
       "  </thead>\n",
       "  <tbody>\n",
       "    <tr>\n",
       "      <th>997</th>\n",
       "      <td>Japan</td>\n",
       "      <td>2019</td>\n",
       "      <td>Life expectancy at birth (years)</td>\n",
       "      <td>Both sexes</td>\n",
       "      <td>84.26</td>\n",
       "    </tr>\n",
       "  </tbody>\n",
       "</table>\n",
       "</div>"
      ],
      "text/plain": [
       "    Location  Period                         Indicator        Dim1  \\\n",
       "997    Japan    2019  Life expectancy at birth (years)  Both sexes   \n",
       "\n",
       "     First Tooltip  \n",
       "997          84.26  "
      ]
     },
     "execution_count": 82,
     "metadata": {},
     "output_type": "execute_result"
    }
   ],
   "source": [
    "filtered[filtered[\"First Tooltip\"] == filtered[\"First Tooltip\"].max()]"
   ]
  },
  {
   "cell_type": "code",
   "execution_count": 83,
   "metadata": {},
   "outputs": [
    {
     "data": {
      "text/html": [
       "<div>\n",
       "<style scoped>\n",
       "    .dataframe tbody tr th:only-of-type {\n",
       "        vertical-align: middle;\n",
       "    }\n",
       "\n",
       "    .dataframe tbody tr th {\n",
       "        vertical-align: top;\n",
       "    }\n",
       "\n",
       "    .dataframe thead th {\n",
       "        text-align: right;\n",
       "    }\n",
       "</style>\n",
       "<table border=\"1\" class=\"dataframe\">\n",
       "  <thead>\n",
       "    <tr style=\"text-align: right;\">\n",
       "      <th></th>\n",
       "      <th>Location</th>\n",
       "      <th>Period</th>\n",
       "      <th>Indicator</th>\n",
       "      <th>Dim1</th>\n",
       "      <th>First Tooltip</th>\n",
       "    </tr>\n",
       "  </thead>\n",
       "  <tbody>\n",
       "    <tr>\n",
       "      <th>1117</th>\n",
       "      <td>Lesotho</td>\n",
       "      <td>2019</td>\n",
       "      <td>Life expectancy at birth (years)</td>\n",
       "      <td>Both sexes</td>\n",
       "      <td>50.75</td>\n",
       "    </tr>\n",
       "  </tbody>\n",
       "</table>\n",
       "</div>"
      ],
      "text/plain": [
       "     Location  Period                         Indicator        Dim1  \\\n",
       "1117  Lesotho    2019  Life expectancy at birth (years)  Both sexes   \n",
       "\n",
       "      First Tooltip  \n",
       "1117          50.75  "
      ]
     },
     "execution_count": 83,
     "metadata": {},
     "output_type": "execute_result"
    }
   ],
   "source": [
    "filtered[filtered[\"First Tooltip\"] == filtered[\"First Tooltip\"].min()]"
   ]
  },
  {
   "cell_type": "markdown",
   "metadata": {},
   "source": [
    "Top 5 landen met laagste en hoogste life expectancy"
   ]
  },
  {
   "cell_type": "code",
   "execution_count": 84,
   "metadata": {},
   "outputs": [
    {
     "data": {
      "text/html": [
       "<div>\n",
       "<style scoped>\n",
       "    .dataframe tbody tr th:only-of-type {\n",
       "        vertical-align: middle;\n",
       "    }\n",
       "\n",
       "    .dataframe tbody tr th {\n",
       "        vertical-align: top;\n",
       "    }\n",
       "\n",
       "    .dataframe thead th {\n",
       "        text-align: right;\n",
       "    }\n",
       "</style>\n",
       "<table border=\"1\" class=\"dataframe\">\n",
       "  <thead>\n",
       "    <tr style=\"text-align: right;\">\n",
       "      <th></th>\n",
       "      <th>Location</th>\n",
       "      <th>Period</th>\n",
       "      <th>Indicator</th>\n",
       "      <th>Dim1</th>\n",
       "      <th>First Tooltip</th>\n",
       "    </tr>\n",
       "  </thead>\n",
       "  <tbody>\n",
       "    <tr>\n",
       "      <th>1117</th>\n",
       "      <td>Lesotho</td>\n",
       "      <td>2019</td>\n",
       "      <td>Life expectancy at birth (years)</td>\n",
       "      <td>Both sexes</td>\n",
       "      <td>50.75</td>\n",
       "    </tr>\n",
       "    <tr>\n",
       "      <th>373</th>\n",
       "      <td>Central African Republic</td>\n",
       "      <td>2019</td>\n",
       "      <td>Life expectancy at birth (years)</td>\n",
       "      <td>Both sexes</td>\n",
       "      <td>53.10</td>\n",
       "    </tr>\n",
       "    <tr>\n",
       "      <th>1801</th>\n",
       "      <td>Somalia</td>\n",
       "      <td>2019</td>\n",
       "      <td>Life expectancy at birth (years)</td>\n",
       "      <td>Both sexes</td>\n",
       "      <td>56.47</td>\n",
       "    </tr>\n",
       "    <tr>\n",
       "      <th>661</th>\n",
       "      <td>Eswatini</td>\n",
       "      <td>2019</td>\n",
       "      <td>Life expectancy at birth (years)</td>\n",
       "      <td>Both sexes</td>\n",
       "      <td>57.73</td>\n",
       "    </tr>\n",
       "    <tr>\n",
       "      <th>1333</th>\n",
       "      <td>Mozambique</td>\n",
       "      <td>2019</td>\n",
       "      <td>Life expectancy at birth (years)</td>\n",
       "      <td>Both sexes</td>\n",
       "      <td>58.14</td>\n",
       "    </tr>\n",
       "    <tr>\n",
       "      <th>...</th>\n",
       "      <td>...</td>\n",
       "      <td>...</td>\n",
       "      <td>...</td>\n",
       "      <td>...</td>\n",
       "      <td>...</td>\n",
       "    </tr>\n",
       "    <tr>\n",
       "      <th>1837</th>\n",
       "      <td>Spain</td>\n",
       "      <td>2019</td>\n",
       "      <td>Life expectancy at birth (years)</td>\n",
       "      <td>Both sexes</td>\n",
       "      <td>83.22</td>\n",
       "    </tr>\n",
       "    <tr>\n",
       "      <th>1753</th>\n",
       "      <td>Singapore</td>\n",
       "      <td>2019</td>\n",
       "      <td>Life expectancy at birth (years)</td>\n",
       "      <td>Both sexes</td>\n",
       "      <td>83.22</td>\n",
       "    </tr>\n",
       "    <tr>\n",
       "      <th>1573</th>\n",
       "      <td>Republic of Korea</td>\n",
       "      <td>2019</td>\n",
       "      <td>Life expectancy at birth (years)</td>\n",
       "      <td>Both sexes</td>\n",
       "      <td>83.30</td>\n",
       "    </tr>\n",
       "    <tr>\n",
       "      <th>1897</th>\n",
       "      <td>Switzerland</td>\n",
       "      <td>2019</td>\n",
       "      <td>Life expectancy at birth (years)</td>\n",
       "      <td>Both sexes</td>\n",
       "      <td>83.45</td>\n",
       "    </tr>\n",
       "    <tr>\n",
       "      <th>997</th>\n",
       "      <td>Japan</td>\n",
       "      <td>2019</td>\n",
       "      <td>Life expectancy at birth (years)</td>\n",
       "      <td>Both sexes</td>\n",
       "      <td>84.26</td>\n",
       "    </tr>\n",
       "  </tbody>\n",
       "</table>\n",
       "<p>183 rows × 5 columns</p>\n",
       "</div>"
      ],
      "text/plain": [
       "                      Location  Period                         Indicator  \\\n",
       "1117                   Lesotho    2019  Life expectancy at birth (years)   \n",
       "373   Central African Republic    2019  Life expectancy at birth (years)   \n",
       "1801                   Somalia    2019  Life expectancy at birth (years)   \n",
       "661                   Eswatini    2019  Life expectancy at birth (years)   \n",
       "1333                Mozambique    2019  Life expectancy at birth (years)   \n",
       "...                        ...     ...                               ...   \n",
       "1837                     Spain    2019  Life expectancy at birth (years)   \n",
       "1753                 Singapore    2019  Life expectancy at birth (years)   \n",
       "1573         Republic of Korea    2019  Life expectancy at birth (years)   \n",
       "1897               Switzerland    2019  Life expectancy at birth (years)   \n",
       "997                      Japan    2019  Life expectancy at birth (years)   \n",
       "\n",
       "            Dim1  First Tooltip  \n",
       "1117  Both sexes          50.75  \n",
       "373   Both sexes          53.10  \n",
       "1801  Both sexes          56.47  \n",
       "661   Both sexes          57.73  \n",
       "1333  Both sexes          58.14  \n",
       "...          ...            ...  \n",
       "1837  Both sexes          83.22  \n",
       "1753  Both sexes          83.22  \n",
       "1573  Both sexes          83.30  \n",
       "1897  Both sexes          83.45  \n",
       "997   Both sexes          84.26  \n",
       "\n",
       "[183 rows x 5 columns]"
      ]
     },
     "execution_count": 84,
     "metadata": {},
     "output_type": "execute_result"
    }
   ],
   "source": [
    "filtered.sort_values(by=\"First Tooltip\")"
   ]
  },
  {
   "cell_type": "markdown",
   "metadata": {},
   "source": [
    "Mediaan van alle landen"
   ]
  },
  {
   "cell_type": "code",
   "execution_count": 87,
   "metadata": {},
   "outputs": [
    {
     "data": {
      "text/plain": [
       "73.74"
      ]
     },
     "execution_count": 87,
     "metadata": {},
     "output_type": "execute_result"
    }
   ],
   "source": [
    "filtered[\"First Tooltip\"].median()"
   ]
  },
  {
   "cell_type": "markdown",
   "metadata": {},
   "source": [
    "Standard deviation"
   ]
  },
  {
   "cell_type": "code",
   "execution_count": 88,
   "metadata": {},
   "outputs": [
    {
     "data": {
      "text/plain": [
       "7.1"
      ]
     },
     "execution_count": 88,
     "metadata": {},
     "output_type": "execute_result"
    }
   ],
   "source": [
    "round(filtered[\"First Tooltip\"].std(),1)"
   ]
  },
  {
   "cell_type": "markdown",
   "metadata": {},
   "source": [
    "Boxplot van levensverwachting"
   ]
  },
  {
   "cell_type": "code",
   "execution_count": 79,
   "metadata": {},
   "outputs": [
    {
     "data": {
      "text/plain": [
       "<AxesSubplot:>"
      ]
     },
     "execution_count": 79,
     "metadata": {},
     "output_type": "execute_result"
    },
    {
     "data": {
      "image/png": "[encoded data removed]",
      "text/plain": [
       "<Figure size 432x288 with 1 Axes>"
      ]
     },
     "metadata": {
      "needs_background": "light"
     },
     "output_type": "display_data"
    }
   ],
   "source": [
    "filtered[\"First Tooltip\"].plot(kind=\"box\")\n"
   ]
  },
  {
   "cell_type": "markdown",
   "metadata": {},
   "source": [
    "Histogram van levensverwachting"
   ]
  },
  {
   "cell_type": "code",
   "execution_count": 81,
   "metadata": {},
   "outputs": [
    {
     "data": {
      "text/plain": [
       "<AxesSubplot:ylabel='Frequency'>"
      ]
     },
     "execution_count": 81,
     "metadata": {},
     "output_type": "execute_result"
    },
    {
     "data": {
      "image/png": "[encoded data removed]",
      "text/plain": [
       "<Figure size 432x288 with 1 Axes>"
      ]
     },
     "metadata": {
      "needs_background": "light"
     },
     "output_type": "display_data"
    }
   ],
   "source": [
    "filtered[\"First Tooltip\"].plot(kind=\"hist\", bins=20)\n"
   ]
  },
  {
   "cell_type": "code",
   "execution_count": null,
   "metadata": {},
   "outputs": [],
   "source": []
  },
  {
   "cell_type": "markdown",
   "metadata": {},
   "source": [
    "### Portfolio assignment 6\n",
    "60 min: Perform a univariate analysis on at least 2 columns with categorical data and on at least 2 columns with numerical data in the dataset that you chose in portfolio assignment 4. Commit the Notebook to your portfolio when you're finished."
   ]
  },
  {
   "cell_type": "code",
   "execution_count": 4,
   "metadata": {},
   "outputs": [],
   "source": [
    "import pandas as pd\n",
    "\n",
    "movies = pd.read_csv (r'movies.csv')"
   ]
  },
  {
   "cell_type": "code",
   "execution_count": 233,
   "metadata": {},
   "outputs": [
    {
     "data": {
      "text/plain": [
       "Index(['budget', 'genres', 'homepage', 'id', 'keywords', 'original_language',\n",
       "       'original_title', 'overview', 'popularity', 'production_companies',\n",
       "       'production_countries', 'release_date', 'revenue', 'runtime',\n",
       "       'spoken_languages', 'status', 'tagline', 'title', 'vote_average',\n",
       "       'vote_count'],\n",
       "      dtype='object')"
      ]
     },
     "execution_count": 233,
     "metadata": {},
     "output_type": "execute_result"
    }
   ],
   "source": [
    "movies.columns"
   ]
  },
  {
   "cell_type": "markdown",
   "metadata": {},
   "source": [
    "### Original Language"
   ]
  },
  {
   "cell_type": "code",
   "execution_count": 235,
   "metadata": {},
   "outputs": [
    {
     "data": {
      "text/plain": [
       "array(['en', 'ja', 'fr', 'zh', 'es', 'de', 'hi', 'ru', 'ko', 'te', 'cn',\n",
       "       'it', 'nl', 'ta', 'sv', 'th', 'da', 'xx', 'hu', 'cs', 'pt', 'is',\n",
       "       'tr', 'nb', 'af', 'pl', 'he', 'ar', 'vi', 'ky', 'id', 'ro', 'fa',\n",
       "       'no', 'sl', 'ps', 'el'], dtype=object)"
      ]
     },
     "execution_count": 235,
     "metadata": {},
     "output_type": "execute_result"
    }
   ],
   "source": [
    "movies['original_language'].unique()"
   ]
  },
  {
   "cell_type": "code",
   "execution_count": 236,
   "metadata": {},
   "outputs": [
    {
     "data": {
      "text/plain": [
       "en    4505\n",
       "fr      70\n",
       "es      32\n",
       "zh      27\n",
       "de      27\n",
       "hi      19\n",
       "ja      16\n",
       "it      14\n",
       "cn      12\n",
       "ru      11\n",
       "ko      11\n",
       "pt       9\n",
       "da       7\n",
       "sv       5\n",
       "nl       4\n",
       "fa       4\n",
       "th       3\n",
       "he       3\n",
       "id       2\n",
       "ar       2\n",
       "ta       2\n",
       "ro       2\n",
       "cs       2\n",
       "is       1\n",
       "vi       1\n",
       "tr       1\n",
       "te       1\n",
       "hu       1\n",
       "sl       1\n",
       "xx       1\n",
       "nb       1\n",
       "af       1\n",
       "no       1\n",
       "pl       1\n",
       "el       1\n",
       "ky       1\n",
       "ps       1\n",
       "Name: original_language, dtype: int64"
      ]
     },
     "execution_count": 236,
     "metadata": {},
     "output_type": "execute_result"
    }
   ],
   "source": [
    "movies['original_language'].value_counts()"
   ]
  },
  {
   "cell_type": "code",
   "execution_count": 52,
   "metadata": {},
   "outputs": [
    {
     "data": {
      "text/plain": [
       "<AxesSubplot:title={'center':'Original language'}>"
      ]
     },
     "execution_count": 52,
     "metadata": {},
     "output_type": "execute_result"
    },
    {
     "data": {
      "image/png": "[encoded data removed]",
      "text/plain": [
       "<Figure size 432x288 with 1 Axes>"
      ]
     },
     "metadata": {
      "needs_background": "light"
     },
     "output_type": "display_data"
    }
   ],
   "source": [
    "movies['original_language'].value_counts().plot(kind='line', title='Original language')"
   ]
  },
  {
   "cell_type": "markdown",
   "metadata": {},
   "source": [
    "### Status"
   ]
  },
  {
   "cell_type": "code",
   "execution_count": 53,
   "metadata": {},
   "outputs": [
    {
     "data": {
      "text/plain": [
       "array(['Released', 'Post Production', 'Rumored'], dtype=object)"
      ]
     },
     "execution_count": 53,
     "metadata": {},
     "output_type": "execute_result"
    }
   ],
   "source": [
    "movies['status'].unique()"
   ]
  },
  {
   "cell_type": "code",
   "execution_count": 54,
   "metadata": {},
   "outputs": [
    {
     "data": {
      "text/plain": [
       "Released           4795\n",
       "Rumored               5\n",
       "Post Production       3\n",
       "Name: status, dtype: int64"
      ]
     },
     "execution_count": 54,
     "metadata": {},
     "output_type": "execute_result"
    }
   ],
   "source": [
    "movies['status'].value_counts()"
   ]
  },
  {
   "cell_type": "code",
   "execution_count": 41,
   "metadata": {},
   "outputs": [
    {
     "data": {
      "text/plain": [
       "<AxesSubplot:title={'center':'Movie status'}>"
      ]
     },
     "execution_count": 41,
     "metadata": {},
     "output_type": "execute_result"
    },
    {
     "data": {
      "image/png": "[encoded data removed]",
      "text/plain": [
       "<Figure size 432x288 with 1 Axes>"
      ]
     },
     "metadata": {
      "needs_background": "light"
     },
     "output_type": "display_data"
    }
   ],
   "source": [
    "movies['status'].value_counts().plot(kind='barh', title='Movie status', legend= True)"
   ]
  },
  {
   "cell_type": "markdown",
   "metadata": {},
   "source": [
    "### Runtime"
   ]
  },
  {
   "cell_type": "code",
   "execution_count": 11,
   "metadata": {},
   "outputs": [],
   "source": [
    "column = 'runtime'"
   ]
  },
  {
   "cell_type": "markdown",
   "metadata": {},
   "source": [
    "Kortste afspeelduur"
   ]
  },
  {
   "cell_type": "code",
   "execution_count": 12,
   "metadata": {},
   "outputs": [
    {
     "data": {
      "text/plain": [
       "0.0"
      ]
     },
     "execution_count": 12,
     "metadata": {},
     "output_type": "execute_result"
    }
   ],
   "source": [
    "movies[column].min()"
   ]
  },
  {
   "cell_type": "markdown",
   "metadata": {},
   "source": [
    "Langste afspeelduur"
   ]
  },
  {
   "cell_type": "code",
   "execution_count": 14,
   "metadata": {},
   "outputs": [
    {
     "data": {
      "text/plain": [
       "338.0"
      ]
     },
     "execution_count": 14,
     "metadata": {},
     "output_type": "execute_result"
    }
   ],
   "source": [
    "movies[column].max()"
   ]
  },
  {
   "cell_type": "markdown",
   "metadata": {},
   "source": [
    "Gemiddelde afspeelduur"
   ]
  },
  {
   "cell_type": "code",
   "execution_count": 89,
   "metadata": {},
   "outputs": [
    {
     "data": {
      "text/plain": [
       "107"
      ]
     },
     "execution_count": 89,
     "metadata": {},
     "output_type": "execute_result"
    }
   ],
   "source": [
    "round(movies[column].mean())"
   ]
  },
  {
   "cell_type": "markdown",
   "metadata": {},
   "source": [
    "Mediaan van afspeelduur (middelste)"
   ]
  },
  {
   "cell_type": "code",
   "execution_count": 91,
   "metadata": {},
   "outputs": [
    {
     "data": {
      "text/plain": [
       "103"
      ]
     },
     "execution_count": 91,
     "metadata": {},
     "output_type": "execute_result"
    }
   ],
   "source": [
    "round(movies[column].median())"
   ]
  },
  {
   "cell_type": "markdown",
   "metadata": {},
   "source": [
    "Standaard afwijking"
   ]
  },
  {
   "cell_type": "code",
   "execution_count": 92,
   "metadata": {},
   "outputs": [
    {
     "data": {
      "text/plain": [
       "23"
      ]
     },
     "execution_count": 92,
     "metadata": {},
     "output_type": "execute_result"
    }
   ],
   "source": [
    "round(movies[column].std())"
   ]
  },
  {
   "cell_type": "markdown",
   "metadata": {},
   "source": [
    "Film(s) met de langste afspeelduur"
   ]
  },
  {
   "cell_type": "code",
   "execution_count": 104,
   "metadata": {
    "scrolled": true
   },
   "outputs": [
    {
     "data": {
      "text/html": [
       "<div>\n",
       "<style scoped>\n",
       "    .dataframe tbody tr th:only-of-type {\n",
       "        vertical-align: middle;\n",
       "    }\n",
       "\n",
       "    .dataframe tbody tr th {\n",
       "        vertical-align: top;\n",
       "    }\n",
       "\n",
       "    .dataframe thead th {\n",
       "        text-align: right;\n",
       "    }\n",
       "</style>\n",
       "<table border=\"1\" class=\"dataframe\">\n",
       "  <thead>\n",
       "    <tr style=\"text-align: right;\">\n",
       "      <th></th>\n",
       "      <th>budget</th>\n",
       "      <th>genres</th>\n",
       "      <th>homepage</th>\n",
       "      <th>id</th>\n",
       "      <th>keywords</th>\n",
       "      <th>original_language</th>\n",
       "      <th>original_title</th>\n",
       "      <th>overview</th>\n",
       "      <th>popularity</th>\n",
       "      <th>production_companies</th>\n",
       "      <th>production_countries</th>\n",
       "      <th>release_date</th>\n",
       "      <th>revenue</th>\n",
       "      <th>runtime</th>\n",
       "      <th>spoken_languages</th>\n",
       "      <th>status</th>\n",
       "      <th>tagline</th>\n",
       "      <th>title</th>\n",
       "      <th>vote_average</th>\n",
       "      <th>vote_count</th>\n",
       "    </tr>\n",
       "  </thead>\n",
       "  <tbody>\n",
       "    <tr>\n",
       "      <th>2384</th>\n",
       "      <td>18000000</td>\n",
       "      <td>[{\"id\": 80, \"name\": \"Crime\"}, {\"id\": 18, \"name...</td>\n",
       "      <td>NaN</td>\n",
       "      <td>43434</td>\n",
       "      <td>[{\"id\": 1419, \"name\": \"gun\"}, {\"id\": 7336, \"na...</td>\n",
       "      <td>en</td>\n",
       "      <td>Carlos</td>\n",
       "      <td>The story of Venezuelan revolutionary, Ilich R...</td>\n",
       "      <td>1.138383</td>\n",
       "      <td>[{\"name\": \"Egoli Tossell Film AG\", \"id\": 2254}...</td>\n",
       "      <td>[{\"iso_3166_1\": \"FR\", \"name\": \"France\"}, {\"iso...</td>\n",
       "      <td>2010-05-19</td>\n",
       "      <td>871279</td>\n",
       "      <td>338.0</td>\n",
       "      <td>[{\"iso_639_1\": \"fr\", \"name\": \"Fran\\u00e7ais\"},...</td>\n",
       "      <td>Released</td>\n",
       "      <td>The man who hijacked the world</td>\n",
       "      <td>Carlos</td>\n",
       "      <td>6.7</td>\n",
       "      <td>50</td>\n",
       "    </tr>\n",
       "  </tbody>\n",
       "</table>\n",
       "</div>"
      ],
      "text/plain": [
       "        budget                                             genres homepage  \\\n",
       "2384  18000000  [{\"id\": 80, \"name\": \"Crime\"}, {\"id\": 18, \"name...      NaN   \n",
       "\n",
       "         id                                           keywords  \\\n",
       "2384  43434  [{\"id\": 1419, \"name\": \"gun\"}, {\"id\": 7336, \"na...   \n",
       "\n",
       "     original_language original_title  \\\n",
       "2384                en         Carlos   \n",
       "\n",
       "                                               overview  popularity  \\\n",
       "2384  The story of Venezuelan revolutionary, Ilich R...    1.138383   \n",
       "\n",
       "                                   production_companies  \\\n",
       "2384  [{\"name\": \"Egoli Tossell Film AG\", \"id\": 2254}...   \n",
       "\n",
       "                                   production_countries release_date  revenue  \\\n",
       "2384  [{\"iso_3166_1\": \"FR\", \"name\": \"France\"}, {\"iso...   2010-05-19   871279   \n",
       "\n",
       "      runtime                                   spoken_languages    status  \\\n",
       "2384    338.0  [{\"iso_639_1\": \"fr\", \"name\": \"Fran\\u00e7ais\"},...  Released   \n",
       "\n",
       "                             tagline   title  vote_average  vote_count  \n",
       "2384  The man who hijacked the world  Carlos           6.7          50  "
      ]
     },
     "execution_count": 104,
     "metadata": {},
     "output_type": "execute_result"
    }
   ],
   "source": [
    "movies[movies[column] == movies[column].max()]"
   ]
  },
  {
   "cell_type": "markdown",
   "metadata": {},
   "source": [
    "Film(s) met de kortste afspeelduur"
   ]
  },
  {
   "cell_type": "code",
   "execution_count": 105,
   "metadata": {},
   "outputs": [
    {
     "data": {
      "text/html": [
       "<div>\n",
       "<style scoped>\n",
       "    .dataframe tbody tr th:only-of-type {\n",
       "        vertical-align: middle;\n",
       "    }\n",
       "\n",
       "    .dataframe tbody tr th {\n",
       "        vertical-align: top;\n",
       "    }\n",
       "\n",
       "    .dataframe thead th {\n",
       "        text-align: right;\n",
       "    }\n",
       "</style>\n",
       "<table border=\"1\" class=\"dataframe\">\n",
       "  <thead>\n",
       "    <tr style=\"text-align: right;\">\n",
       "      <th></th>\n",
       "      <th>budget</th>\n",
       "      <th>genres</th>\n",
       "      <th>homepage</th>\n",
       "      <th>id</th>\n",
       "      <th>keywords</th>\n",
       "      <th>original_language</th>\n",
       "      <th>original_title</th>\n",
       "      <th>overview</th>\n",
       "      <th>popularity</th>\n",
       "      <th>production_companies</th>\n",
       "      <th>production_countries</th>\n",
       "      <th>release_date</th>\n",
       "      <th>revenue</th>\n",
       "      <th>runtime</th>\n",
       "      <th>spoken_languages</th>\n",
       "      <th>status</th>\n",
       "      <th>tagline</th>\n",
       "      <th>title</th>\n",
       "      <th>vote_average</th>\n",
       "      <th>vote_count</th>\n",
       "    </tr>\n",
       "  </thead>\n",
       "  <tbody>\n",
       "    <tr>\n",
       "      <th>1011</th>\n",
       "      <td>0</td>\n",
       "      <td>[{\"id\": 27, \"name\": \"Horror\"}]</td>\n",
       "      <td>NaN</td>\n",
       "      <td>53953</td>\n",
       "      <td>[{\"id\": 10292, \"name\": \"gore\"}, {\"id\": 12339, ...</td>\n",
       "      <td>de</td>\n",
       "      <td>The Tooth Fairy</td>\n",
       "      <td>A woman and her daughter (Nicole Muñoz) encoun...</td>\n",
       "      <td>0.716764</td>\n",
       "      <td>[]</td>\n",
       "      <td>[]</td>\n",
       "      <td>2006-08-08</td>\n",
       "      <td>0</td>\n",
       "      <td>0.0</td>\n",
       "      <td>[{\"iso_639_1\": \"en\", \"name\": \"English\"}, {\"iso...</td>\n",
       "      <td>Released</td>\n",
       "      <td>NaN</td>\n",
       "      <td>The Tooth Fairy</td>\n",
       "      <td>4.3</td>\n",
       "      <td>13</td>\n",
       "    </tr>\n",
       "    <tr>\n",
       "      <th>3112</th>\n",
       "      <td>0</td>\n",
       "      <td>[{\"id\": 18, \"name\": \"Drama\"}, {\"id\": 80, \"name...</td>\n",
       "      <td>NaN</td>\n",
       "      <td>41894</td>\n",
       "      <td>[]</td>\n",
       "      <td>en</td>\n",
       "      <td>Blood Done Sign My Name</td>\n",
       "      <td>A drama based on the true story in which a bla...</td>\n",
       "      <td>0.397341</td>\n",
       "      <td>[]</td>\n",
       "      <td>[]</td>\n",
       "      <td>2010-02-01</td>\n",
       "      <td>0</td>\n",
       "      <td>0.0</td>\n",
       "      <td>[]</td>\n",
       "      <td>Released</td>\n",
       "      <td>No one changes the world alone.</td>\n",
       "      <td>Blood Done Sign My Name</td>\n",
       "      <td>6.0</td>\n",
       "      <td>5</td>\n",
       "    </tr>\n",
       "    <tr>\n",
       "      <th>3669</th>\n",
       "      <td>0</td>\n",
       "      <td>[{\"id\": 35, \"name\": \"Comedy\"}, {\"id\": 18, \"nam...</td>\n",
       "      <td>http://www.romeothemovie.com/</td>\n",
       "      <td>113406</td>\n",
       "      <td>[]</td>\n",
       "      <td>en</td>\n",
       "      <td>Should've Been Romeo</td>\n",
       "      <td>A self-centered, middle-aged pitchman for a po...</td>\n",
       "      <td>0.407030</td>\n",
       "      <td>[{\"name\": \"Phillybrook Films\", \"id\": 65147}]</td>\n",
       "      <td>[{\"iso_3166_1\": \"US\", \"name\": \"United States o...</td>\n",
       "      <td>2012-04-28</td>\n",
       "      <td>0</td>\n",
       "      <td>0.0</td>\n",
       "      <td>[{\"iso_639_1\": \"en\", \"name\": \"English\"}]</td>\n",
       "      <td>Released</td>\n",
       "      <td>Even Shakespeare didn't see this one coming.</td>\n",
       "      <td>Should've Been Romeo</td>\n",
       "      <td>0.0</td>\n",
       "      <td>0</td>\n",
       "    </tr>\n",
       "    <tr>\n",
       "      <th>3809</th>\n",
       "      <td>4000000</td>\n",
       "      <td>[{\"id\": 35, \"name\": \"Comedy\"}, {\"id\": 10749, \"...</td>\n",
       "      <td>NaN</td>\n",
       "      <td>158150</td>\n",
       "      <td>[]</td>\n",
       "      <td>en</td>\n",
       "      <td>How to Fall in Love</td>\n",
       "      <td>An accountant, who never quite grew out of his...</td>\n",
       "      <td>1.923514</td>\n",
       "      <td>[{\"name\": \"Annuit Coeptis Entertainment Inc.\",...</td>\n",
       "      <td>[{\"iso_3166_1\": \"US\", \"name\": \"United States o...</td>\n",
       "      <td>2012-07-21</td>\n",
       "      <td>0</td>\n",
       "      <td>0.0</td>\n",
       "      <td>[{\"iso_639_1\": \"en\", \"name\": \"English\"}]</td>\n",
       "      <td>Released</td>\n",
       "      <td>NaN</td>\n",
       "      <td>How to Fall in Love</td>\n",
       "      <td>5.2</td>\n",
       "      <td>20</td>\n",
       "    </tr>\n",
       "    <tr>\n",
       "      <th>3953</th>\n",
       "      <td>0</td>\n",
       "      <td>[{\"id\": 10752, \"name\": \"War\"}, {\"id\": 18, \"nam...</td>\n",
       "      <td>NaN</td>\n",
       "      <td>281230</td>\n",
       "      <td>[{\"id\": 187056, \"name\": \"woman director\"}]</td>\n",
       "      <td>en</td>\n",
       "      <td>Fort McCoy</td>\n",
       "      <td>Unable to serve in World War II because of a h...</td>\n",
       "      <td>0.384496</td>\n",
       "      <td>[]</td>\n",
       "      <td>[]</td>\n",
       "      <td>2014-01-01</td>\n",
       "      <td>0</td>\n",
       "      <td>0.0</td>\n",
       "      <td>[]</td>\n",
       "      <td>Released</td>\n",
       "      <td>NaN</td>\n",
       "      <td>Fort McCoy</td>\n",
       "      <td>6.3</td>\n",
       "      <td>2</td>\n",
       "    </tr>\n",
       "    <tr>\n",
       "      <th>3992</th>\n",
       "      <td>0</td>\n",
       "      <td>[]</td>\n",
       "      <td>NaN</td>\n",
       "      <td>346081</td>\n",
       "      <td>[]</td>\n",
       "      <td>en</td>\n",
       "      <td>Sardaarji</td>\n",
       "      <td>A ghost hunter uses bottles to capture trouble...</td>\n",
       "      <td>0.296981</td>\n",
       "      <td>[]</td>\n",
       "      <td>[{\"iso_3166_1\": \"IN\", \"name\": \"India\"}]</td>\n",
       "      <td>2015-06-26</td>\n",
       "      <td>0</td>\n",
       "      <td>0.0</td>\n",
       "      <td>[]</td>\n",
       "      <td>Released</td>\n",
       "      <td>NaN</td>\n",
       "      <td>Sardaarji</td>\n",
       "      <td>9.5</td>\n",
       "      <td>2</td>\n",
       "    </tr>\n",
       "    <tr>\n",
       "      <th>4068</th>\n",
       "      <td>0</td>\n",
       "      <td>[]</td>\n",
       "      <td>NaN</td>\n",
       "      <td>371085</td>\n",
       "      <td>[]</td>\n",
       "      <td>en</td>\n",
       "      <td>Sharkskin</td>\n",
       "      <td>The Post War II story of Manhattan born Mike E...</td>\n",
       "      <td>0.027801</td>\n",
       "      <td>[]</td>\n",
       "      <td>[]</td>\n",
       "      <td>2015-01-01</td>\n",
       "      <td>0</td>\n",
       "      <td>0.0</td>\n",
       "      <td>[]</td>\n",
       "      <td>Released</td>\n",
       "      <td>NaN</td>\n",
       "      <td>Sharkskin</td>\n",
       "      <td>0.0</td>\n",
       "      <td>0</td>\n",
       "    </tr>\n",
       "    <tr>\n",
       "      <th>4118</th>\n",
       "      <td>0</td>\n",
       "      <td>[]</td>\n",
       "      <td>NaN</td>\n",
       "      <td>325140</td>\n",
       "      <td>[]</td>\n",
       "      <td>en</td>\n",
       "      <td>Hum To Mohabbat Karega</td>\n",
       "      <td>Raju, a waiter, is in love with the famous TV ...</td>\n",
       "      <td>0.001186</td>\n",
       "      <td>[]</td>\n",
       "      <td>[]</td>\n",
       "      <td>2000-05-26</td>\n",
       "      <td>0</td>\n",
       "      <td>0.0</td>\n",
       "      <td>[]</td>\n",
       "      <td>Released</td>\n",
       "      <td>NaN</td>\n",
       "      <td>Hum To Mohabbat Karega</td>\n",
       "      <td>0.0</td>\n",
       "      <td>0</td>\n",
       "    </tr>\n",
       "    <tr>\n",
       "      <th>4205</th>\n",
       "      <td>0</td>\n",
       "      <td>[{\"id\": 18, \"name\": \"Drama\"}, {\"id\": 80, \"name...</td>\n",
       "      <td>http://www.imdb.com/title/tt1289419/</td>\n",
       "      <td>66468</td>\n",
       "      <td>[]</td>\n",
       "      <td>en</td>\n",
       "      <td>N-Secure</td>\n",
       "      <td>N-Secure is a no holds-barred thrilling drama ...</td>\n",
       "      <td>0.134560</td>\n",
       "      <td>[]</td>\n",
       "      <td>[]</td>\n",
       "      <td>2010-10-15</td>\n",
       "      <td>2592808</td>\n",
       "      <td>0.0</td>\n",
       "      <td>[]</td>\n",
       "      <td>Released</td>\n",
       "      <td>NaN</td>\n",
       "      <td>N-Secure</td>\n",
       "      <td>4.3</td>\n",
       "      <td>4</td>\n",
       "    </tr>\n",
       "    <tr>\n",
       "      <th>4210</th>\n",
       "      <td>0</td>\n",
       "      <td>[{\"id\": 10749, \"name\": \"Romance\"}]</td>\n",
       "      <td>NaN</td>\n",
       "      <td>74084</td>\n",
       "      <td>[]</td>\n",
       "      <td>hi</td>\n",
       "      <td>दिल जो भी कहे</td>\n",
       "      <td>During the British rule in India, several Indi...</td>\n",
       "      <td>0.122704</td>\n",
       "      <td>[{\"name\": \"Entertainment One Pvt. Ltd.\", \"id\":...</td>\n",
       "      <td>[{\"iso_3166_1\": \"IN\", \"name\": \"India\"}]</td>\n",
       "      <td>2006-12-07</td>\n",
       "      <td>0</td>\n",
       "      <td>0.0</td>\n",
       "      <td>[{\"iso_639_1\": \"en\", \"name\": \"English\"}, {\"iso...</td>\n",
       "      <td>Released</td>\n",
       "      <td>NaN</td>\n",
       "      <td>Dil Jo Bhi Kahey...</td>\n",
       "      <td>0.0</td>\n",
       "      <td>0</td>\n",
       "    </tr>\n",
       "    <tr>\n",
       "      <th>4241</th>\n",
       "      <td>1500000</td>\n",
       "      <td>[{\"id\": 35, \"name\": \"Comedy\"}]</td>\n",
       "      <td>NaN</td>\n",
       "      <td>51820</td>\n",
       "      <td>[{\"id\": 10183, \"name\": \"independent film\"}]</td>\n",
       "      <td>en</td>\n",
       "      <td>The Salon</td>\n",
       "      <td>A Beauty shop owner finds romance as she strug...</td>\n",
       "      <td>2.028170</td>\n",
       "      <td>[]</td>\n",
       "      <td>[]</td>\n",
       "      <td>2005-01-13</td>\n",
       "      <td>0</td>\n",
       "      <td>0.0</td>\n",
       "      <td>[{\"iso_639_1\": \"en\", \"name\": \"English\"}]</td>\n",
       "      <td>Released</td>\n",
       "      <td>Where you get more than just a hair cut!</td>\n",
       "      <td>The Salon</td>\n",
       "      <td>3.5</td>\n",
       "      <td>1</td>\n",
       "    </tr>\n",
       "    <tr>\n",
       "      <th>4313</th>\n",
       "      <td>0</td>\n",
       "      <td>[{\"id\": 53, \"name\": \"Thriller\"}, {\"id\": 27, \"n...</td>\n",
       "      <td>NaN</td>\n",
       "      <td>107315</td>\n",
       "      <td>[{\"id\": 888, \"name\": \"screenwriter\"}]</td>\n",
       "      <td>en</td>\n",
       "      <td>Below Zero</td>\n",
       "      <td>When Jack (Edward Furlong) is in danger of mis...</td>\n",
       "      <td>1.365140</td>\n",
       "      <td>[]</td>\n",
       "      <td>[{\"iso_3166_1\": \"CA\", \"name\": \"Canada\"}]</td>\n",
       "      <td>2011-10-22</td>\n",
       "      <td>0</td>\n",
       "      <td>0.0</td>\n",
       "      <td>[{\"iso_639_1\": \"en\", \"name\": \"English\"}]</td>\n",
       "      <td>Released</td>\n",
       "      <td>There's nothing scarier than a blank page.</td>\n",
       "      <td>Below Zero</td>\n",
       "      <td>4.4</td>\n",
       "      <td>12</td>\n",
       "    </tr>\n",
       "    <tr>\n",
       "      <th>4318</th>\n",
       "      <td>0</td>\n",
       "      <td>[{\"id\": 27, \"name\": \"Horror\"}]</td>\n",
       "      <td>NaN</td>\n",
       "      <td>310933</td>\n",
       "      <td>[]</td>\n",
       "      <td>en</td>\n",
       "      <td>Bleeding Hearts</td>\n",
       "      <td>Captured Hearts, an insane serial killer/horro...</td>\n",
       "      <td>0.100533</td>\n",
       "      <td>[]</td>\n",
       "      <td>[]</td>\n",
       "      <td>2013-06-01</td>\n",
       "      <td>0</td>\n",
       "      <td>0.0</td>\n",
       "      <td>[]</td>\n",
       "      <td>Released</td>\n",
       "      <td>NaN</td>\n",
       "      <td>Bleeding Hearts</td>\n",
       "      <td>2.0</td>\n",
       "      <td>1</td>\n",
       "    </tr>\n",
       "    <tr>\n",
       "      <th>4322</th>\n",
       "      <td>0</td>\n",
       "      <td>[{\"id\": 99, \"name\": \"Documentary\"}]</td>\n",
       "      <td>NaN</td>\n",
       "      <td>102840</td>\n",
       "      <td>[]</td>\n",
       "      <td>en</td>\n",
       "      <td>Sex With Strangers</td>\n",
       "      <td>For some married couples, sex is an obsession ...</td>\n",
       "      <td>0.014406</td>\n",
       "      <td>[]</td>\n",
       "      <td>[]</td>\n",
       "      <td>2002-02-22</td>\n",
       "      <td>0</td>\n",
       "      <td>0.0</td>\n",
       "      <td>[]</td>\n",
       "      <td>Released</td>\n",
       "      <td>NaN</td>\n",
       "      <td>Sex With Strangers</td>\n",
       "      <td>5.0</td>\n",
       "      <td>1</td>\n",
       "    </tr>\n",
       "    <tr>\n",
       "      <th>4328</th>\n",
       "      <td>0</td>\n",
       "      <td>[{\"id\": 27, \"name\": \"Horror\"}, {\"id\": 99, \"nam...</td>\n",
       "      <td>NaN</td>\n",
       "      <td>202604</td>\n",
       "      <td>[{\"id\": 2626, \"name\": \"exorcism\"}]</td>\n",
       "      <td>en</td>\n",
       "      <td>The Vatican Exorcisms</td>\n",
       "      <td>Documentary following US film-maker Joe Marino...</td>\n",
       "      <td>0.447166</td>\n",
       "      <td>[]</td>\n",
       "      <td>[]</td>\n",
       "      <td>2013-05-29</td>\n",
       "      <td>0</td>\n",
       "      <td>0.0</td>\n",
       "      <td>[{\"iso_639_1\": \"it\", \"name\": \"Italiano\"}, {\"is...</td>\n",
       "      <td>Released</td>\n",
       "      <td>The public were never meant to know</td>\n",
       "      <td>The Vatican Exorcisms</td>\n",
       "      <td>4.4</td>\n",
       "      <td>11</td>\n",
       "    </tr>\n",
       "    <tr>\n",
       "      <th>4405</th>\n",
       "      <td>0</td>\n",
       "      <td>[{\"id\": 10751, \"name\": \"Family\"}, {\"id\": 35, \"...</td>\n",
       "      <td>https://www.epicbuzz.net/movies/karachi-se-lahore</td>\n",
       "      <td>357441</td>\n",
       "      <td>[]</td>\n",
       "      <td>en</td>\n",
       "      <td>Karachi se Lahore</td>\n",
       "      <td>A road trip from Karachi to Lahore where 5 fri...</td>\n",
       "      <td>0.060003</td>\n",
       "      <td>[]</td>\n",
       "      <td>[{\"iso_3166_1\": \"PK\", \"name\": \"Pakistan\"}]</td>\n",
       "      <td>2015-07-31</td>\n",
       "      <td>0</td>\n",
       "      <td>0.0</td>\n",
       "      <td>[{\"iso_639_1\": \"ur\", \"name\": \"\\u0627\\u0631\\u06...</td>\n",
       "      <td>Released</td>\n",
       "      <td>NaN</td>\n",
       "      <td>Karachi se Lahore</td>\n",
       "      <td>8.0</td>\n",
       "      <td>1</td>\n",
       "    </tr>\n",
       "    <tr>\n",
       "      <th>4435</th>\n",
       "      <td>0</td>\n",
       "      <td>[{\"id\": 27, \"name\": \"Horror\"}]</td>\n",
       "      <td>NaN</td>\n",
       "      <td>323270</td>\n",
       "      <td>[{\"id\": 9706, \"name\": \"anthology\"}]</td>\n",
       "      <td>en</td>\n",
       "      <td>The Horror Network Vol. 1</td>\n",
       "      <td>Serial killers, ghostly phone calls, inner dem...</td>\n",
       "      <td>0.392658</td>\n",
       "      <td>[]</td>\n",
       "      <td>[]</td>\n",
       "      <td>2015-10-27</td>\n",
       "      <td>0</td>\n",
       "      <td>0.0</td>\n",
       "      <td>[]</td>\n",
       "      <td>Released</td>\n",
       "      <td>NaN</td>\n",
       "      <td>The Horror Network Vol. 1</td>\n",
       "      <td>5.0</td>\n",
       "      <td>2</td>\n",
       "    </tr>\n",
       "    <tr>\n",
       "      <th>4458</th>\n",
       "      <td>0</td>\n",
       "      <td>[]</td>\n",
       "      <td>NaN</td>\n",
       "      <td>279759</td>\n",
       "      <td>[]</td>\n",
       "      <td>en</td>\n",
       "      <td>Harrison Montgomery</td>\n",
       "      <td>Film from Daniel Davila</td>\n",
       "      <td>0.006943</td>\n",
       "      <td>[]</td>\n",
       "      <td>[]</td>\n",
       "      <td>2008-01-01</td>\n",
       "      <td>0</td>\n",
       "      <td>0.0</td>\n",
       "      <td>[]</td>\n",
       "      <td>Released</td>\n",
       "      <td>NaN</td>\n",
       "      <td>Harrison Montgomery</td>\n",
       "      <td>0.0</td>\n",
       "      <td>0</td>\n",
       "    </tr>\n",
       "    <tr>\n",
       "      <th>4502</th>\n",
       "      <td>0</td>\n",
       "      <td>[{\"id\": 80, \"name\": \"Crime\"}, {\"id\": 18, \"name...</td>\n",
       "      <td>NaN</td>\n",
       "      <td>263503</td>\n",
       "      <td>[]</td>\n",
       "      <td>en</td>\n",
       "      <td>Water &amp; Power</td>\n",
       "      <td>Twin brothers nicknamed \"Water\" and \"Power\" fr...</td>\n",
       "      <td>0.350557</td>\n",
       "      <td>[]</td>\n",
       "      <td>[]</td>\n",
       "      <td>2014-05-02</td>\n",
       "      <td>0</td>\n",
       "      <td>0.0</td>\n",
       "      <td>[]</td>\n",
       "      <td>Released</td>\n",
       "      <td>NaN</td>\n",
       "      <td>Water &amp; Power</td>\n",
       "      <td>3.0</td>\n",
       "      <td>1</td>\n",
       "    </tr>\n",
       "    <tr>\n",
       "      <th>4504</th>\n",
       "      <td>0</td>\n",
       "      <td>[]</td>\n",
       "      <td>NaN</td>\n",
       "      <td>331493</td>\n",
       "      <td>[]</td>\n",
       "      <td>en</td>\n",
       "      <td>Light from the Darkroom</td>\n",
       "      <td>Light in the Darkroom is the story of two best...</td>\n",
       "      <td>0.012942</td>\n",
       "      <td>[]</td>\n",
       "      <td>[]</td>\n",
       "      <td>2014-01-01</td>\n",
       "      <td>0</td>\n",
       "      <td>0.0</td>\n",
       "      <td>[]</td>\n",
       "      <td>Released</td>\n",
       "      <td>NaN</td>\n",
       "      <td>Light from the Darkroom</td>\n",
       "      <td>0.0</td>\n",
       "      <td>0</td>\n",
       "    </tr>\n",
       "    <tr>\n",
       "      <th>4553</th>\n",
       "      <td>0</td>\n",
       "      <td>[]</td>\n",
       "      <td>NaN</td>\n",
       "      <td>380097</td>\n",
       "      <td>[]</td>\n",
       "      <td>en</td>\n",
       "      <td>America Is Still the Place</td>\n",
       "      <td>1971 post civil rights San Francisco seemed li...</td>\n",
       "      <td>0.000000</td>\n",
       "      <td>[]</td>\n",
       "      <td>[]</td>\n",
       "      <td>NaN</td>\n",
       "      <td>0</td>\n",
       "      <td>0.0</td>\n",
       "      <td>[]</td>\n",
       "      <td>Released</td>\n",
       "      <td>NaN</td>\n",
       "      <td>America Is Still the Place</td>\n",
       "      <td>0.0</td>\n",
       "      <td>0</td>\n",
       "    </tr>\n",
       "    <tr>\n",
       "      <th>4558</th>\n",
       "      <td>0</td>\n",
       "      <td>[{\"id\": 10402, \"name\": \"Music\"}, {\"id\": 27, \"n...</td>\n",
       "      <td>http://www.thedevilscarnival.com/</td>\n",
       "      <td>285743</td>\n",
       "      <td>[{\"id\": 3473, \"name\": \"carnival\"}, {\"id\": 4344...</td>\n",
       "      <td>en</td>\n",
       "      <td>Alleluia! The Devil's Carnival</td>\n",
       "      <td>The Devil's Carnival: Alleluia! is the second ...</td>\n",
       "      <td>0.674398</td>\n",
       "      <td>[{\"name\": \"Limb from Limb Pictures\", \"id\": 590...</td>\n",
       "      <td>[{\"iso_3166_1\": \"US\", \"name\": \"United States o...</td>\n",
       "      <td>2016-03-29</td>\n",
       "      <td>0</td>\n",
       "      <td>0.0</td>\n",
       "      <td>[]</td>\n",
       "      <td>Released</td>\n",
       "      <td>Hell ain't got a prayer.</td>\n",
       "      <td>Alleluia! The Devil's Carnival</td>\n",
       "      <td>6.0</td>\n",
       "      <td>2</td>\n",
       "    </tr>\n",
       "    <tr>\n",
       "      <th>4564</th>\n",
       "      <td>0</td>\n",
       "      <td>[{\"id\": 18, \"name\": \"Drama\"}]</td>\n",
       "      <td>NaN</td>\n",
       "      <td>94072</td>\n",
       "      <td>[]</td>\n",
       "      <td>en</td>\n",
       "      <td>Straight Out of Brooklyn</td>\n",
       "      <td>A Special Jury Award winner at the Sundance Fi...</td>\n",
       "      <td>0.161517</td>\n",
       "      <td>[]</td>\n",
       "      <td>[]</td>\n",
       "      <td>1991-06-13</td>\n",
       "      <td>0</td>\n",
       "      <td>0.0</td>\n",
       "      <td>[]</td>\n",
       "      <td>Released</td>\n",
       "      <td>NaN</td>\n",
       "      <td>Straight Out of Brooklyn</td>\n",
       "      <td>4.3</td>\n",
       "      <td>4</td>\n",
       "    </tr>\n",
       "    <tr>\n",
       "      <th>4566</th>\n",
       "      <td>0</td>\n",
       "      <td>[]</td>\n",
       "      <td>NaN</td>\n",
       "      <td>325579</td>\n",
       "      <td>[]</td>\n",
       "      <td>en</td>\n",
       "      <td>Diamond Ruff</td>\n",
       "      <td>Action - Orphan, con artist, crime boss and mi...</td>\n",
       "      <td>0.165257</td>\n",
       "      <td>[]</td>\n",
       "      <td>[]</td>\n",
       "      <td>2015-01-01</td>\n",
       "      <td>0</td>\n",
       "      <td>0.0</td>\n",
       "      <td>[]</td>\n",
       "      <td>Released</td>\n",
       "      <td>NaN</td>\n",
       "      <td>Diamond Ruff</td>\n",
       "      <td>2.4</td>\n",
       "      <td>4</td>\n",
       "    </tr>\n",
       "    <tr>\n",
       "      <th>4569</th>\n",
       "      <td>0</td>\n",
       "      <td>[]</td>\n",
       "      <td>http://mutualfriendsmovie.com/</td>\n",
       "      <td>198370</td>\n",
       "      <td>[]</td>\n",
       "      <td>en</td>\n",
       "      <td>Mutual Friends</td>\n",
       "      <td>Surprise parties rarely go well. This one is n...</td>\n",
       "      <td>0.136721</td>\n",
       "      <td>[]</td>\n",
       "      <td>[]</td>\n",
       "      <td>2014-04-15</td>\n",
       "      <td>0</td>\n",
       "      <td>0.0</td>\n",
       "      <td>[{\"iso_639_1\": \"en\", \"name\": \"English\"}]</td>\n",
       "      <td>Released</td>\n",
       "      <td>Surprise parties rarely go well.</td>\n",
       "      <td>Mutual Friends</td>\n",
       "      <td>0.0</td>\n",
       "      <td>0</td>\n",
       "    </tr>\n",
       "    <tr>\n",
       "      <th>4571</th>\n",
       "      <td>0</td>\n",
       "      <td>[]</td>\n",
       "      <td>NaN</td>\n",
       "      <td>328307</td>\n",
       "      <td>[]</td>\n",
       "      <td>en</td>\n",
       "      <td>Rise of the Entrepreneur: The Search for a Bet...</td>\n",
       "      <td>The world is changing faster than ever. Techno...</td>\n",
       "      <td>0.052942</td>\n",
       "      <td>[]</td>\n",
       "      <td>[]</td>\n",
       "      <td>2014-11-20</td>\n",
       "      <td>0</td>\n",
       "      <td>0.0</td>\n",
       "      <td>[]</td>\n",
       "      <td>Released</td>\n",
       "      <td>NaN</td>\n",
       "      <td>Rise of the Entrepreneur: The Search for a Bet...</td>\n",
       "      <td>8.0</td>\n",
       "      <td>1</td>\n",
       "    </tr>\n",
       "    <tr>\n",
       "      <th>4581</th>\n",
       "      <td>0</td>\n",
       "      <td>[]</td>\n",
       "      <td>NaN</td>\n",
       "      <td>281189</td>\n",
       "      <td>[{\"id\": 187056, \"name\": \"woman director\"}]</td>\n",
       "      <td>en</td>\n",
       "      <td>Gory Gory Hallelujah</td>\n",
       "      <td>Four actors compete for the role of Jesus - a ...</td>\n",
       "      <td>0.033883</td>\n",
       "      <td>[]</td>\n",
       "      <td>[]</td>\n",
       "      <td>2003-11-05</td>\n",
       "      <td>0</td>\n",
       "      <td>0.0</td>\n",
       "      <td>[]</td>\n",
       "      <td>Released</td>\n",
       "      <td>NaN</td>\n",
       "      <td>Gory Gory Hallelujah</td>\n",
       "      <td>1.0</td>\n",
       "      <td>1</td>\n",
       "    </tr>\n",
       "    <tr>\n",
       "      <th>4584</th>\n",
       "      <td>0</td>\n",
       "      <td>[{\"id\": 27, \"name\": \"Horror\"}, {\"id\": 35, \"nam...</td>\n",
       "      <td>NaN</td>\n",
       "      <td>189711</td>\n",
       "      <td>[]</td>\n",
       "      <td>en</td>\n",
       "      <td>Love in the Time of Monsters</td>\n",
       "      <td>Two sisters travel to a cheesy tourist trap wh...</td>\n",
       "      <td>0.133619</td>\n",
       "      <td>[{\"name\": \"Red Cube Picture\", \"id\": 27892}, {\"...</td>\n",
       "      <td>[{\"iso_3166_1\": \"US\", \"name\": \"United States o...</td>\n",
       "      <td>2014-03-08</td>\n",
       "      <td>0</td>\n",
       "      <td>0.0</td>\n",
       "      <td>[]</td>\n",
       "      <td>Released</td>\n",
       "      <td>NaN</td>\n",
       "      <td>Love in the Time of Monsters</td>\n",
       "      <td>5.0</td>\n",
       "      <td>2</td>\n",
       "    </tr>\n",
       "    <tr>\n",
       "      <th>4611</th>\n",
       "      <td>0</td>\n",
       "      <td>[]</td>\n",
       "      <td>NaN</td>\n",
       "      <td>162396</td>\n",
       "      <td>[]</td>\n",
       "      <td>en</td>\n",
       "      <td>The Big Swap</td>\n",
       "      <td>In this British drama, Ellen (Sorcha Brooks) a...</td>\n",
       "      <td>0.627763</td>\n",
       "      <td>[]</td>\n",
       "      <td>[]</td>\n",
       "      <td>1998-06-11</td>\n",
       "      <td>0</td>\n",
       "      <td>0.0</td>\n",
       "      <td>[{\"iso_639_1\": \"en\", \"name\": \"English\"}]</td>\n",
       "      <td>Released</td>\n",
       "      <td>NaN</td>\n",
       "      <td>The Big Swap</td>\n",
       "      <td>0.0</td>\n",
       "      <td>0</td>\n",
       "    </tr>\n",
       "    <tr>\n",
       "      <th>4620</th>\n",
       "      <td>0</td>\n",
       "      <td>[{\"id\": 28, \"name\": \"Action\"}, {\"id\": 12, \"nam...</td>\n",
       "      <td>NaN</td>\n",
       "      <td>47534</td>\n",
       "      <td>[{\"id\": 2792, \"name\": \"boxer\"}, {\"id\": 4076, \"...</td>\n",
       "      <td>en</td>\n",
       "      <td>Fighting Tommy Riley</td>\n",
       "      <td>An aging trainer and a young fighter, both in ...</td>\n",
       "      <td>0.045429</td>\n",
       "      <td>[]</td>\n",
       "      <td>[]</td>\n",
       "      <td>2005-05-06</td>\n",
       "      <td>0</td>\n",
       "      <td>0.0</td>\n",
       "      <td>[{\"iso_639_1\": \"en\", \"name\": \"English\"}]</td>\n",
       "      <td>Released</td>\n",
       "      <td>NaN</td>\n",
       "      <td>Fighting Tommy Riley</td>\n",
       "      <td>5.3</td>\n",
       "      <td>4</td>\n",
       "    </tr>\n",
       "    <tr>\n",
       "      <th>4633</th>\n",
       "      <td>0</td>\n",
       "      <td>[]</td>\n",
       "      <td>NaN</td>\n",
       "      <td>300327</td>\n",
       "      <td>[]</td>\n",
       "      <td>en</td>\n",
       "      <td>Death Calls</td>\n",
       "      <td>An action-packed love story on the Mexican bor...</td>\n",
       "      <td>0.005883</td>\n",
       "      <td>[]</td>\n",
       "      <td>[]</td>\n",
       "      <td>2010-09-01</td>\n",
       "      <td>0</td>\n",
       "      <td>0.0</td>\n",
       "      <td>[]</td>\n",
       "      <td>Released</td>\n",
       "      <td>NaN</td>\n",
       "      <td>Death Calls</td>\n",
       "      <td>0.0</td>\n",
       "      <td>0</td>\n",
       "    </tr>\n",
       "    <tr>\n",
       "      <th>4657</th>\n",
       "      <td>0</td>\n",
       "      <td>[]</td>\n",
       "      <td>NaN</td>\n",
       "      <td>320435</td>\n",
       "      <td>[]</td>\n",
       "      <td>en</td>\n",
       "      <td>UnDivided</td>\n",
       "      <td>UnDivided documents the true story of how a su...</td>\n",
       "      <td>0.010607</td>\n",
       "      <td>[]</td>\n",
       "      <td>[]</td>\n",
       "      <td>2013-02-01</td>\n",
       "      <td>0</td>\n",
       "      <td>0.0</td>\n",
       "      <td>[]</td>\n",
       "      <td>Released</td>\n",
       "      <td>NaN</td>\n",
       "      <td>UnDivided</td>\n",
       "      <td>0.0</td>\n",
       "      <td>0</td>\n",
       "    </tr>\n",
       "    <tr>\n",
       "      <th>4658</th>\n",
       "      <td>0</td>\n",
       "      <td>[{\"id\": 27, \"name\": \"Horror\"}, {\"id\": 53, \"nam...</td>\n",
       "      <td>NaN</td>\n",
       "      <td>150211</td>\n",
       "      <td>[{\"id\": 177972, \"name\": \"bickering\"}, {\"id\": 2...</td>\n",
       "      <td>en</td>\n",
       "      <td>The Frozen</td>\n",
       "      <td>After a harrowing snowmobile accident, a young...</td>\n",
       "      <td>1.084387</td>\n",
       "      <td>[]</td>\n",
       "      <td>[]</td>\n",
       "      <td>2012-10-10</td>\n",
       "      <td>0</td>\n",
       "      <td>0.0</td>\n",
       "      <td>[]</td>\n",
       "      <td>Released</td>\n",
       "      <td>NaN</td>\n",
       "      <td>The Frozen</td>\n",
       "      <td>4.2</td>\n",
       "      <td>14</td>\n",
       "    </tr>\n",
       "    <tr>\n",
       "      <th>4662</th>\n",
       "      <td>0</td>\n",
       "      <td>[{\"id\": 35, \"name\": \"Comedy\"}]</td>\n",
       "      <td>NaN</td>\n",
       "      <td>40963</td>\n",
       "      <td>[{\"id\": 10183, \"name\": \"independent film\"}]</td>\n",
       "      <td>en</td>\n",
       "      <td>Little Big Top</td>\n",
       "      <td>An aging out of work clown returns to his smal...</td>\n",
       "      <td>0.092100</td>\n",
       "      <td>[{\"name\": \"Fly High Films\", \"id\": 24248}]</td>\n",
       "      <td>[{\"iso_3166_1\": \"US\", \"name\": \"United States o...</td>\n",
       "      <td>2006-01-01</td>\n",
       "      <td>0</td>\n",
       "      <td>0.0</td>\n",
       "      <td>[{\"iso_639_1\": \"en\", \"name\": \"English\"}]</td>\n",
       "      <td>Rumored</td>\n",
       "      <td>NaN</td>\n",
       "      <td>Little Big Top</td>\n",
       "      <td>10.0</td>\n",
       "      <td>1</td>\n",
       "    </tr>\n",
       "    <tr>\n",
       "      <th>4729</th>\n",
       "      <td>0</td>\n",
       "      <td>[{\"id\": 10751, \"name\": \"Family\"}]</td>\n",
       "      <td>NaN</td>\n",
       "      <td>272726</td>\n",
       "      <td>[]</td>\n",
       "      <td>en</td>\n",
       "      <td>Dude Where's My Dog?</td>\n",
       "      <td>Left home alone with his dog Harry, young Ray ...</td>\n",
       "      <td>0.283970</td>\n",
       "      <td>[]</td>\n",
       "      <td>[]</td>\n",
       "      <td>2014-06-12</td>\n",
       "      <td>0</td>\n",
       "      <td>0.0</td>\n",
       "      <td>[]</td>\n",
       "      <td>Released</td>\n",
       "      <td>NaN</td>\n",
       "      <td>Dude Where's My Dog?</td>\n",
       "      <td>0.0</td>\n",
       "      <td>0</td>\n",
       "    </tr>\n",
       "  </tbody>\n",
       "</table>\n",
       "</div>"
      ],
      "text/plain": [
       "       budget                                             genres  \\\n",
       "1011        0                     [{\"id\": 27, \"name\": \"Horror\"}]   \n",
       "3112        0  [{\"id\": 18, \"name\": \"Drama\"}, {\"id\": 80, \"name...   \n",
       "3669        0  [{\"id\": 35, \"name\": \"Comedy\"}, {\"id\": 18, \"nam...   \n",
       "3809  4000000  [{\"id\": 35, \"name\": \"Comedy\"}, {\"id\": 10749, \"...   \n",
       "3953        0  [{\"id\": 10752, \"name\": \"War\"}, {\"id\": 18, \"nam...   \n",
       "3992        0                                                 []   \n",
       "4068        0                                                 []   \n",
       "4118        0                                                 []   \n",
       "4205        0  [{\"id\": 18, \"name\": \"Drama\"}, {\"id\": 80, \"name...   \n",
       "4210        0                 [{\"id\": 10749, \"name\": \"Romance\"}]   \n",
       "4241  1500000                     [{\"id\": 35, \"name\": \"Comedy\"}]   \n",
       "4313        0  [{\"id\": 53, \"name\": \"Thriller\"}, {\"id\": 27, \"n...   \n",
       "4318        0                     [{\"id\": 27, \"name\": \"Horror\"}]   \n",
       "4322        0                [{\"id\": 99, \"name\": \"Documentary\"}]   \n",
       "4328        0  [{\"id\": 27, \"name\": \"Horror\"}, {\"id\": 99, \"nam...   \n",
       "4405        0  [{\"id\": 10751, \"name\": \"Family\"}, {\"id\": 35, \"...   \n",
       "4435        0                     [{\"id\": 27, \"name\": \"Horror\"}]   \n",
       "4458        0                                                 []   \n",
       "4502        0  [{\"id\": 80, \"name\": \"Crime\"}, {\"id\": 18, \"name...   \n",
       "4504        0                                                 []   \n",
       "4553        0                                                 []   \n",
       "4558        0  [{\"id\": 10402, \"name\": \"Music\"}, {\"id\": 27, \"n...   \n",
       "4564        0                      [{\"id\": 18, \"name\": \"Drama\"}]   \n",
       "4566        0                                                 []   \n",
       "4569        0                                                 []   \n",
       "4571        0                                                 []   \n",
       "4581        0                                                 []   \n",
       "4584        0  [{\"id\": 27, \"name\": \"Horror\"}, {\"id\": 35, \"nam...   \n",
       "4611        0                                                 []   \n",
       "4620        0  [{\"id\": 28, \"name\": \"Action\"}, {\"id\": 12, \"nam...   \n",
       "4633        0                                                 []   \n",
       "4657        0                                                 []   \n",
       "4658        0  [{\"id\": 27, \"name\": \"Horror\"}, {\"id\": 53, \"nam...   \n",
       "4662        0                     [{\"id\": 35, \"name\": \"Comedy\"}]   \n",
       "4729        0                  [{\"id\": 10751, \"name\": \"Family\"}]   \n",
       "\n",
       "                                               homepage      id  \\\n",
       "1011                                                NaN   53953   \n",
       "3112                                                NaN   41894   \n",
       "3669                      http://www.romeothemovie.com/  113406   \n",
       "3809                                                NaN  158150   \n",
       "3953                                                NaN  281230   \n",
       "3992                                                NaN  346081   \n",
       "4068                                                NaN  371085   \n",
       "4118                                                NaN  325140   \n",
       "4205               http://www.imdb.com/title/tt1289419/   66468   \n",
       "4210                                                NaN   74084   \n",
       "4241                                                NaN   51820   \n",
       "4313                                                NaN  107315   \n",
       "4318                                                NaN  310933   \n",
       "4322                                                NaN  102840   \n",
       "4328                                                NaN  202604   \n",
       "4405  https://www.epicbuzz.net/movies/karachi-se-lahore  357441   \n",
       "4435                                                NaN  323270   \n",
       "4458                                                NaN  279759   \n",
       "4502                                                NaN  263503   \n",
       "4504                                                NaN  331493   \n",
       "4553                                                NaN  380097   \n",
       "4558                  http://www.thedevilscarnival.com/  285743   \n",
       "4564                                                NaN   94072   \n",
       "4566                                                NaN  325579   \n",
       "4569                     http://mutualfriendsmovie.com/  198370   \n",
       "4571                                                NaN  328307   \n",
       "4581                                                NaN  281189   \n",
       "4584                                                NaN  189711   \n",
       "4611                                                NaN  162396   \n",
       "4620                                                NaN   47534   \n",
       "4633                                                NaN  300327   \n",
       "4657                                                NaN  320435   \n",
       "4658                                                NaN  150211   \n",
       "4662                                                NaN   40963   \n",
       "4729                                                NaN  272726   \n",
       "\n",
       "                                               keywords original_language  \\\n",
       "1011  [{\"id\": 10292, \"name\": \"gore\"}, {\"id\": 12339, ...                de   \n",
       "3112                                                 []                en   \n",
       "3669                                                 []                en   \n",
       "3809                                                 []                en   \n",
       "3953         [{\"id\": 187056, \"name\": \"woman director\"}]                en   \n",
       "3992                                                 []                en   \n",
       "4068                                                 []                en   \n",
       "4118                                                 []                en   \n",
       "4205                                                 []                en   \n",
       "4210                                                 []                hi   \n",
       "4241        [{\"id\": 10183, \"name\": \"independent film\"}]                en   \n",
       "4313              [{\"id\": 888, \"name\": \"screenwriter\"}]                en   \n",
       "4318                                                 []                en   \n",
       "4322                                                 []                en   \n",
       "4328                 [{\"id\": 2626, \"name\": \"exorcism\"}]                en   \n",
       "4405                                                 []                en   \n",
       "4435                [{\"id\": 9706, \"name\": \"anthology\"}]                en   \n",
       "4458                                                 []                en   \n",
       "4502                                                 []                en   \n",
       "4504                                                 []                en   \n",
       "4553                                                 []                en   \n",
       "4558  [{\"id\": 3473, \"name\": \"carnival\"}, {\"id\": 4344...                en   \n",
       "4564                                                 []                en   \n",
       "4566                                                 []                en   \n",
       "4569                                                 []                en   \n",
       "4571                                                 []                en   \n",
       "4581         [{\"id\": 187056, \"name\": \"woman director\"}]                en   \n",
       "4584                                                 []                en   \n",
       "4611                                                 []                en   \n",
       "4620  [{\"id\": 2792, \"name\": \"boxer\"}, {\"id\": 4076, \"...                en   \n",
       "4633                                                 []                en   \n",
       "4657                                                 []                en   \n",
       "4658  [{\"id\": 177972, \"name\": \"bickering\"}, {\"id\": 2...                en   \n",
       "4662        [{\"id\": 10183, \"name\": \"independent film\"}]                en   \n",
       "4729                                                 []                en   \n",
       "\n",
       "                                         original_title  \\\n",
       "1011                                    The Tooth Fairy   \n",
       "3112                            Blood Done Sign My Name   \n",
       "3669                               Should've Been Romeo   \n",
       "3809                                How to Fall in Love   \n",
       "3953                                         Fort McCoy   \n",
       "3992                                          Sardaarji   \n",
       "4068                                          Sharkskin   \n",
       "4118                             Hum To Mohabbat Karega   \n",
       "4205                                           N-Secure   \n",
       "4210                                      दिल जो भी कहे   \n",
       "4241                                          The Salon   \n",
       "4313                                         Below Zero   \n",
       "4318                                    Bleeding Hearts   \n",
       "4322                                 Sex With Strangers   \n",
       "4328                              The Vatican Exorcisms   \n",
       "4405                                  Karachi se Lahore   \n",
       "4435                          The Horror Network Vol. 1   \n",
       "4458                                Harrison Montgomery   \n",
       "4502                                      Water & Power   \n",
       "4504                            Light from the Darkroom   \n",
       "4553                         America Is Still the Place   \n",
       "4558                     Alleluia! The Devil's Carnival   \n",
       "4564                           Straight Out of Brooklyn   \n",
       "4566                                       Diamond Ruff   \n",
       "4569                                     Mutual Friends   \n",
       "4571  Rise of the Entrepreneur: The Search for a Bet...   \n",
       "4581                               Gory Gory Hallelujah   \n",
       "4584                       Love in the Time of Monsters   \n",
       "4611                                       The Big Swap   \n",
       "4620                               Fighting Tommy Riley   \n",
       "4633                                        Death Calls   \n",
       "4657                                          UnDivided   \n",
       "4658                                         The Frozen   \n",
       "4662                                     Little Big Top   \n",
       "4729                               Dude Where's My Dog?   \n",
       "\n",
       "                                               overview  popularity  \\\n",
       "1011  A woman and her daughter (Nicole Muñoz) encoun...    0.716764   \n",
       "3112  A drama based on the true story in which a bla...    0.397341   \n",
       "3669  A self-centered, middle-aged pitchman for a po...    0.407030   \n",
       "3809  An accountant, who never quite grew out of his...    1.923514   \n",
       "3953  Unable to serve in World War II because of a h...    0.384496   \n",
       "3992  A ghost hunter uses bottles to capture trouble...    0.296981   \n",
       "4068  The Post War II story of Manhattan born Mike E...    0.027801   \n",
       "4118  Raju, a waiter, is in love with the famous TV ...    0.001186   \n",
       "4205  N-Secure is a no holds-barred thrilling drama ...    0.134560   \n",
       "4210  During the British rule in India, several Indi...    0.122704   \n",
       "4241  A Beauty shop owner finds romance as she strug...    2.028170   \n",
       "4313  When Jack (Edward Furlong) is in danger of mis...    1.365140   \n",
       "4318  Captured Hearts, an insane serial killer/horro...    0.100533   \n",
       "4322  For some married couples, sex is an obsession ...    0.014406   \n",
       "4328  Documentary following US film-maker Joe Marino...    0.447166   \n",
       "4405  A road trip from Karachi to Lahore where 5 fri...    0.060003   \n",
       "4435  Serial killers, ghostly phone calls, inner dem...    0.392658   \n",
       "4458                            Film from Daniel Davila    0.006943   \n",
       "4502  Twin brothers nicknamed \"Water\" and \"Power\" fr...    0.350557   \n",
       "4504  Light in the Darkroom is the story of two best...    0.012942   \n",
       "4553  1971 post civil rights San Francisco seemed li...    0.000000   \n",
       "4558  The Devil's Carnival: Alleluia! is the second ...    0.674398   \n",
       "4564  A Special Jury Award winner at the Sundance Fi...    0.161517   \n",
       "4566  Action - Orphan, con artist, crime boss and mi...    0.165257   \n",
       "4569  Surprise parties rarely go well. This one is n...    0.136721   \n",
       "4571  The world is changing faster than ever. Techno...    0.052942   \n",
       "4581  Four actors compete for the role of Jesus - a ...    0.033883   \n",
       "4584  Two sisters travel to a cheesy tourist trap wh...    0.133619   \n",
       "4611  In this British drama, Ellen (Sorcha Brooks) a...    0.627763   \n",
       "4620  An aging trainer and a young fighter, both in ...    0.045429   \n",
       "4633  An action-packed love story on the Mexican bor...    0.005883   \n",
       "4657  UnDivided documents the true story of how a su...    0.010607   \n",
       "4658  After a harrowing snowmobile accident, a young...    1.084387   \n",
       "4662  An aging out of work clown returns to his smal...    0.092100   \n",
       "4729  Left home alone with his dog Harry, young Ray ...    0.283970   \n",
       "\n",
       "                                   production_companies  \\\n",
       "1011                                                 []   \n",
       "3112                                                 []   \n",
       "3669       [{\"name\": \"Phillybrook Films\", \"id\": 65147}]   \n",
       "3809  [{\"name\": \"Annuit Coeptis Entertainment Inc.\",...   \n",
       "3953                                                 []   \n",
       "3992                                                 []   \n",
       "4068                                                 []   \n",
       "4118                                                 []   \n",
       "4205                                                 []   \n",
       "4210  [{\"name\": \"Entertainment One Pvt. Ltd.\", \"id\":...   \n",
       "4241                                                 []   \n",
       "4313                                                 []   \n",
       "4318                                                 []   \n",
       "4322                                                 []   \n",
       "4328                                                 []   \n",
       "4405                                                 []   \n",
       "4435                                                 []   \n",
       "4458                                                 []   \n",
       "4502                                                 []   \n",
       "4504                                                 []   \n",
       "4553                                                 []   \n",
       "4558  [{\"name\": \"Limb from Limb Pictures\", \"id\": 590...   \n",
       "4564                                                 []   \n",
       "4566                                                 []   \n",
       "4569                                                 []   \n",
       "4571                                                 []   \n",
       "4581                                                 []   \n",
       "4584  [{\"name\": \"Red Cube Picture\", \"id\": 27892}, {\"...   \n",
       "4611                                                 []   \n",
       "4620                                                 []   \n",
       "4633                                                 []   \n",
       "4657                                                 []   \n",
       "4658                                                 []   \n",
       "4662          [{\"name\": \"Fly High Films\", \"id\": 24248}]   \n",
       "4729                                                 []   \n",
       "\n",
       "                                   production_countries release_date  revenue  \\\n",
       "1011                                                 []   2006-08-08        0   \n",
       "3112                                                 []   2010-02-01        0   \n",
       "3669  [{\"iso_3166_1\": \"US\", \"name\": \"United States o...   2012-04-28        0   \n",
       "3809  [{\"iso_3166_1\": \"US\", \"name\": \"United States o...   2012-07-21        0   \n",
       "3953                                                 []   2014-01-01        0   \n",
       "3992            [{\"iso_3166_1\": \"IN\", \"name\": \"India\"}]   2015-06-26        0   \n",
       "4068                                                 []   2015-01-01        0   \n",
       "4118                                                 []   2000-05-26        0   \n",
       "4205                                                 []   2010-10-15  2592808   \n",
       "4210            [{\"iso_3166_1\": \"IN\", \"name\": \"India\"}]   2006-12-07        0   \n",
       "4241                                                 []   2005-01-13        0   \n",
       "4313           [{\"iso_3166_1\": \"CA\", \"name\": \"Canada\"}]   2011-10-22        0   \n",
       "4318                                                 []   2013-06-01        0   \n",
       "4322                                                 []   2002-02-22        0   \n",
       "4328                                                 []   2013-05-29        0   \n",
       "4405         [{\"iso_3166_1\": \"PK\", \"name\": \"Pakistan\"}]   2015-07-31        0   \n",
       "4435                                                 []   2015-10-27        0   \n",
       "4458                                                 []   2008-01-01        0   \n",
       "4502                                                 []   2014-05-02        0   \n",
       "4504                                                 []   2014-01-01        0   \n",
       "4553                                                 []          NaN        0   \n",
       "4558  [{\"iso_3166_1\": \"US\", \"name\": \"United States o...   2016-03-29        0   \n",
       "4564                                                 []   1991-06-13        0   \n",
       "4566                                                 []   2015-01-01        0   \n",
       "4569                                                 []   2014-04-15        0   \n",
       "4571                                                 []   2014-11-20        0   \n",
       "4581                                                 []   2003-11-05        0   \n",
       "4584  [{\"iso_3166_1\": \"US\", \"name\": \"United States o...   2014-03-08        0   \n",
       "4611                                                 []   1998-06-11        0   \n",
       "4620                                                 []   2005-05-06        0   \n",
       "4633                                                 []   2010-09-01        0   \n",
       "4657                                                 []   2013-02-01        0   \n",
       "4658                                                 []   2012-10-10        0   \n",
       "4662  [{\"iso_3166_1\": \"US\", \"name\": \"United States o...   2006-01-01        0   \n",
       "4729                                                 []   2014-06-12        0   \n",
       "\n",
       "      runtime                                   spoken_languages    status  \\\n",
       "1011      0.0  [{\"iso_639_1\": \"en\", \"name\": \"English\"}, {\"iso...  Released   \n",
       "3112      0.0                                                 []  Released   \n",
       "3669      0.0           [{\"iso_639_1\": \"en\", \"name\": \"English\"}]  Released   \n",
       "3809      0.0           [{\"iso_639_1\": \"en\", \"name\": \"English\"}]  Released   \n",
       "3953      0.0                                                 []  Released   \n",
       "3992      0.0                                                 []  Released   \n",
       "4068      0.0                                                 []  Released   \n",
       "4118      0.0                                                 []  Released   \n",
       "4205      0.0                                                 []  Released   \n",
       "4210      0.0  [{\"iso_639_1\": \"en\", \"name\": \"English\"}, {\"iso...  Released   \n",
       "4241      0.0           [{\"iso_639_1\": \"en\", \"name\": \"English\"}]  Released   \n",
       "4313      0.0           [{\"iso_639_1\": \"en\", \"name\": \"English\"}]  Released   \n",
       "4318      0.0                                                 []  Released   \n",
       "4322      0.0                                                 []  Released   \n",
       "4328      0.0  [{\"iso_639_1\": \"it\", \"name\": \"Italiano\"}, {\"is...  Released   \n",
       "4405      0.0  [{\"iso_639_1\": \"ur\", \"name\": \"\\u0627\\u0631\\u06...  Released   \n",
       "4435      0.0                                                 []  Released   \n",
       "4458      0.0                                                 []  Released   \n",
       "4502      0.0                                                 []  Released   \n",
       "4504      0.0                                                 []  Released   \n",
       "4553      0.0                                                 []  Released   \n",
       "4558      0.0                                                 []  Released   \n",
       "4564      0.0                                                 []  Released   \n",
       "4566      0.0                                                 []  Released   \n",
       "4569      0.0           [{\"iso_639_1\": \"en\", \"name\": \"English\"}]  Released   \n",
       "4571      0.0                                                 []  Released   \n",
       "4581      0.0                                                 []  Released   \n",
       "4584      0.0                                                 []  Released   \n",
       "4611      0.0           [{\"iso_639_1\": \"en\", \"name\": \"English\"}]  Released   \n",
       "4620      0.0           [{\"iso_639_1\": \"en\", \"name\": \"English\"}]  Released   \n",
       "4633      0.0                                                 []  Released   \n",
       "4657      0.0                                                 []  Released   \n",
       "4658      0.0                                                 []  Released   \n",
       "4662      0.0           [{\"iso_639_1\": \"en\", \"name\": \"English\"}]   Rumored   \n",
       "4729      0.0                                                 []  Released   \n",
       "\n",
       "                                           tagline  \\\n",
       "1011                                           NaN   \n",
       "3112               No one changes the world alone.   \n",
       "3669  Even Shakespeare didn't see this one coming.   \n",
       "3809                                           NaN   \n",
       "3953                                           NaN   \n",
       "3992                                           NaN   \n",
       "4068                                           NaN   \n",
       "4118                                           NaN   \n",
       "4205                                           NaN   \n",
       "4210                                           NaN   \n",
       "4241      Where you get more than just a hair cut!   \n",
       "4313    There's nothing scarier than a blank page.   \n",
       "4318                                           NaN   \n",
       "4322                                           NaN   \n",
       "4328           The public were never meant to know   \n",
       "4405                                           NaN   \n",
       "4435                                           NaN   \n",
       "4458                                           NaN   \n",
       "4502                                           NaN   \n",
       "4504                                           NaN   \n",
       "4553                                           NaN   \n",
       "4558                      Hell ain't got a prayer.   \n",
       "4564                                           NaN   \n",
       "4566                                           NaN   \n",
       "4569              Surprise parties rarely go well.   \n",
       "4571                                           NaN   \n",
       "4581                                           NaN   \n",
       "4584                                           NaN   \n",
       "4611                                           NaN   \n",
       "4620                                           NaN   \n",
       "4633                                           NaN   \n",
       "4657                                           NaN   \n",
       "4658                                           NaN   \n",
       "4662                                           NaN   \n",
       "4729                                           NaN   \n",
       "\n",
       "                                                  title  vote_average  \\\n",
       "1011                                    The Tooth Fairy           4.3   \n",
       "3112                            Blood Done Sign My Name           6.0   \n",
       "3669                               Should've Been Romeo           0.0   \n",
       "3809                                How to Fall in Love           5.2   \n",
       "3953                                         Fort McCoy           6.3   \n",
       "3992                                          Sardaarji           9.5   \n",
       "4068                                          Sharkskin           0.0   \n",
       "4118                             Hum To Mohabbat Karega           0.0   \n",
       "4205                                           N-Secure           4.3   \n",
       "4210                                Dil Jo Bhi Kahey...           0.0   \n",
       "4241                                          The Salon           3.5   \n",
       "4313                                         Below Zero           4.4   \n",
       "4318                                    Bleeding Hearts           2.0   \n",
       "4322                                 Sex With Strangers           5.0   \n",
       "4328                              The Vatican Exorcisms           4.4   \n",
       "4405                                  Karachi se Lahore           8.0   \n",
       "4435                          The Horror Network Vol. 1           5.0   \n",
       "4458                                Harrison Montgomery           0.0   \n",
       "4502                                      Water & Power           3.0   \n",
       "4504                            Light from the Darkroom           0.0   \n",
       "4553                         America Is Still the Place           0.0   \n",
       "4558                     Alleluia! The Devil's Carnival           6.0   \n",
       "4564                           Straight Out of Brooklyn           4.3   \n",
       "4566                                       Diamond Ruff           2.4   \n",
       "4569                                     Mutual Friends           0.0   \n",
       "4571  Rise of the Entrepreneur: The Search for a Bet...           8.0   \n",
       "4581                               Gory Gory Hallelujah           1.0   \n",
       "4584                       Love in the Time of Monsters           5.0   \n",
       "4611                                       The Big Swap           0.0   \n",
       "4620                               Fighting Tommy Riley           5.3   \n",
       "4633                                        Death Calls           0.0   \n",
       "4657                                          UnDivided           0.0   \n",
       "4658                                         The Frozen           4.2   \n",
       "4662                                     Little Big Top          10.0   \n",
       "4729                               Dude Where's My Dog?           0.0   \n",
       "\n",
       "      vote_count  \n",
       "1011          13  \n",
       "3112           5  \n",
       "3669           0  \n",
       "3809          20  \n",
       "3953           2  \n",
       "3992           2  \n",
       "4068           0  \n",
       "4118           0  \n",
       "4205           4  \n",
       "4210           0  \n",
       "4241           1  \n",
       "4313          12  \n",
       "4318           1  \n",
       "4322           1  \n",
       "4328          11  \n",
       "4405           1  \n",
       "4435           2  \n",
       "4458           0  \n",
       "4502           1  \n",
       "4504           0  \n",
       "4553           0  \n",
       "4558           2  \n",
       "4564           4  \n",
       "4566           4  \n",
       "4569           0  \n",
       "4571           1  \n",
       "4581           1  \n",
       "4584           2  \n",
       "4611           0  \n",
       "4620           4  \n",
       "4633           0  \n",
       "4657           0  \n",
       "4658          14  \n",
       "4662           1  \n",
       "4729           0  "
      ]
     },
     "execution_count": 105,
     "metadata": {},
     "output_type": "execute_result"
    }
   ],
   "source": [
    "movies[movies[column] == movies[column].min()]"
   ]
  },
  {
   "cell_type": "markdown",
   "metadata": {},
   "source": [
    "Histogram van de afspeelduur van alle films"
   ]
  },
  {
   "cell_type": "code",
   "execution_count": 99,
   "metadata": {
    "scrolled": true
   },
   "outputs": [
    {
     "data": {
      "text/plain": [
       "<AxesSubplot:title={'center':'Runtime in minutes'}, ylabel='Frequency'>"
      ]
     },
     "execution_count": 99,
     "metadata": {},
     "output_type": "execute_result"
    },
    {
     "data": {
      "image/png": "[encoded data removed]",
      "text/plain": [
       "<Figure size 432x288 with 1 Axes>"
      ]
     },
     "metadata": {
      "needs_background": "light"
     },
     "output_type": "display_data"
    }
   ],
   "source": [
    "movies[column].plot(kind='hist', bins = 20, xlim=(0,300), title= \"Runtime in minutes\")"
   ]
  },
  {
   "cell_type": "markdown",
   "metadata": {},
   "source": [
    "### Vote average"
   ]
  },
  {
   "cell_type": "code",
   "execution_count": 110,
   "metadata": {},
   "outputs": [],
   "source": [
    "column = 'vote_average'"
   ]
  },
  {
   "cell_type": "markdown",
   "metadata": {},
   "source": [
    "Laagste beoordeling"
   ]
  },
  {
   "cell_type": "code",
   "execution_count": 112,
   "metadata": {},
   "outputs": [
    {
     "data": {
      "text/plain": [
       "0.0"
      ]
     },
     "execution_count": 112,
     "metadata": {},
     "output_type": "execute_result"
    }
   ],
   "source": [
    "movies[column].min()"
   ]
  },
  {
   "cell_type": "markdown",
   "metadata": {},
   "source": [
    "Hoogste beoordeling"
   ]
  },
  {
   "cell_type": "code",
   "execution_count": 113,
   "metadata": {},
   "outputs": [
    {
     "data": {
      "text/plain": [
       "10.0"
      ]
     },
     "execution_count": 113,
     "metadata": {},
     "output_type": "execute_result"
    }
   ],
   "source": [
    "movies[column].max()"
   ]
  },
  {
   "cell_type": "markdown",
   "metadata": {},
   "source": [
    "Gemiddelde beoordeling van alle films"
   ]
  },
  {
   "cell_type": "code",
   "execution_count": 118,
   "metadata": {},
   "outputs": [
    {
     "data": {
      "text/plain": [
       "6.1"
      ]
     },
     "execution_count": 118,
     "metadata": {},
     "output_type": "execute_result"
    }
   ],
   "source": [
    "round(movies[column].mean(),1)"
   ]
  },
  {
   "cell_type": "markdown",
   "metadata": {},
   "source": [
    "Mediaan van de beoordeling van alle films (middelste)"
   ]
  },
  {
   "cell_type": "code",
   "execution_count": 120,
   "metadata": {},
   "outputs": [
    {
     "data": {
      "text/plain": [
       "6.2"
      ]
     },
     "execution_count": 120,
     "metadata": {},
     "output_type": "execute_result"
    }
   ],
   "source": [
    "round(movies[column].median(),1)"
   ]
  },
  {
   "cell_type": "markdown",
   "metadata": {},
   "source": [
    "Standaard afwijking"
   ]
  },
  {
   "cell_type": "code",
   "execution_count": 122,
   "metadata": {},
   "outputs": [
    {
     "data": {
      "text/plain": [
       "1.19"
      ]
     },
     "execution_count": 122,
     "metadata": {},
     "output_type": "execute_result"
    }
   ],
   "source": [
    "round(movies[column].std(),2)"
   ]
  },
  {
   "cell_type": "markdown",
   "metadata": {},
   "source": [
    "Film(s) met de hoogste beoordeling"
   ]
  },
  {
   "cell_type": "code",
   "execution_count": 123,
   "metadata": {
    "scrolled": true
   },
   "outputs": [
    {
     "data": {
      "text/html": [
       "<div>\n",
       "<style scoped>\n",
       "    .dataframe tbody tr th:only-of-type {\n",
       "        vertical-align: middle;\n",
       "    }\n",
       "\n",
       "    .dataframe tbody tr th {\n",
       "        vertical-align: top;\n",
       "    }\n",
       "\n",
       "    .dataframe thead th {\n",
       "        text-align: right;\n",
       "    }\n",
       "</style>\n",
       "<table border=\"1\" class=\"dataframe\">\n",
       "  <thead>\n",
       "    <tr style=\"text-align: right;\">\n",
       "      <th></th>\n",
       "      <th>budget</th>\n",
       "      <th>genres</th>\n",
       "      <th>homepage</th>\n",
       "      <th>id</th>\n",
       "      <th>keywords</th>\n",
       "      <th>original_language</th>\n",
       "      <th>original_title</th>\n",
       "      <th>overview</th>\n",
       "      <th>popularity</th>\n",
       "      <th>production_companies</th>\n",
       "      <th>production_countries</th>\n",
       "      <th>release_date</th>\n",
       "      <th>revenue</th>\n",
       "      <th>runtime</th>\n",
       "      <th>spoken_languages</th>\n",
       "      <th>status</th>\n",
       "      <th>tagline</th>\n",
       "      <th>title</th>\n",
       "      <th>vote_average</th>\n",
       "      <th>vote_count</th>\n",
       "    </tr>\n",
       "  </thead>\n",
       "  <tbody>\n",
       "    <tr>\n",
       "      <th>3519</th>\n",
       "      <td>0</td>\n",
       "      <td>[{\"id\": 35, \"name\": \"Comedy\"}]</td>\n",
       "      <td>NaN</td>\n",
       "      <td>89861</td>\n",
       "      <td>[{\"id\": 131, \"name\": \"italy\"}, {\"id\": 8250, \"n...</td>\n",
       "      <td>en</td>\n",
       "      <td>Stiff Upper Lips</td>\n",
       "      <td>Stiff Upper Lips is a broad parody of British ...</td>\n",
       "      <td>0.356495</td>\n",
       "      <td>[]</td>\n",
       "      <td>[{\"iso_3166_1\": \"GB\", \"name\": \"United Kingdom\"...</td>\n",
       "      <td>1998-06-12</td>\n",
       "      <td>0</td>\n",
       "      <td>99.0</td>\n",
       "      <td>[{\"iso_639_1\": \"en\", \"name\": \"English\"}]</td>\n",
       "      <td>Released</td>\n",
       "      <td>NaN</td>\n",
       "      <td>Stiff Upper Lips</td>\n",
       "      <td>10.0</td>\n",
       "      <td>1</td>\n",
       "    </tr>\n",
       "    <tr>\n",
       "      <th>4045</th>\n",
       "      <td>0</td>\n",
       "      <td>[{\"id\": 35, \"name\": \"Comedy\"}, {\"id\": 18, \"nam...</td>\n",
       "      <td>NaN</td>\n",
       "      <td>78373</td>\n",
       "      <td>[{\"id\": 1415, \"name\": \"small town\"}, {\"id\": 15...</td>\n",
       "      <td>en</td>\n",
       "      <td>Dancer, Texas Pop. 81</td>\n",
       "      <td>Four guys, best friends, have grown up togethe...</td>\n",
       "      <td>0.376662</td>\n",
       "      <td>[{\"name\": \"HSX Films\", \"id\": 4714}, {\"name\": \"...</td>\n",
       "      <td>[{\"iso_3166_1\": \"US\", \"name\": \"United States o...</td>\n",
       "      <td>1998-05-01</td>\n",
       "      <td>565592</td>\n",
       "      <td>97.0</td>\n",
       "      <td>[{\"iso_639_1\": \"en\", \"name\": \"English\"}]</td>\n",
       "      <td>Released</td>\n",
       "      <td>in the middle of nowhere they had everything</td>\n",
       "      <td>Dancer, Texas Pop. 81</td>\n",
       "      <td>10.0</td>\n",
       "      <td>1</td>\n",
       "    </tr>\n",
       "    <tr>\n",
       "      <th>4247</th>\n",
       "      <td>1</td>\n",
       "      <td>[{\"id\": 10749, \"name\": \"Romance\"}, {\"id\": 35, ...</td>\n",
       "      <td>NaN</td>\n",
       "      <td>361505</td>\n",
       "      <td>[]</td>\n",
       "      <td>en</td>\n",
       "      <td>Me You and Five Bucks</td>\n",
       "      <td>A womanizing yet lovable loser, Charlie, a wai...</td>\n",
       "      <td>0.094105</td>\n",
       "      <td>[]</td>\n",
       "      <td>[]</td>\n",
       "      <td>2015-07-07</td>\n",
       "      <td>0</td>\n",
       "      <td>90.0</td>\n",
       "      <td>[]</td>\n",
       "      <td>Released</td>\n",
       "      <td>A story about second, second chances</td>\n",
       "      <td>Me You and Five Bucks</td>\n",
       "      <td>10.0</td>\n",
       "      <td>2</td>\n",
       "    </tr>\n",
       "    <tr>\n",
       "      <th>4662</th>\n",
       "      <td>0</td>\n",
       "      <td>[{\"id\": 35, \"name\": \"Comedy\"}]</td>\n",
       "      <td>NaN</td>\n",
       "      <td>40963</td>\n",
       "      <td>[{\"id\": 10183, \"name\": \"independent film\"}]</td>\n",
       "      <td>en</td>\n",
       "      <td>Little Big Top</td>\n",
       "      <td>An aging out of work clown returns to his smal...</td>\n",
       "      <td>0.092100</td>\n",
       "      <td>[{\"name\": \"Fly High Films\", \"id\": 24248}]</td>\n",
       "      <td>[{\"iso_3166_1\": \"US\", \"name\": \"United States o...</td>\n",
       "      <td>2006-01-01</td>\n",
       "      <td>0</td>\n",
       "      <td>0.0</td>\n",
       "      <td>[{\"iso_639_1\": \"en\", \"name\": \"English\"}]</td>\n",
       "      <td>Rumored</td>\n",
       "      <td>NaN</td>\n",
       "      <td>Little Big Top</td>\n",
       "      <td>10.0</td>\n",
       "      <td>1</td>\n",
       "    </tr>\n",
       "  </tbody>\n",
       "</table>\n",
       "</div>"
      ],
      "text/plain": [
       "      budget                                             genres homepage  \\\n",
       "3519       0                     [{\"id\": 35, \"name\": \"Comedy\"}]      NaN   \n",
       "4045       0  [{\"id\": 35, \"name\": \"Comedy\"}, {\"id\": 18, \"nam...      NaN   \n",
       "4247       1  [{\"id\": 10749, \"name\": \"Romance\"}, {\"id\": 35, ...      NaN   \n",
       "4662       0                     [{\"id\": 35, \"name\": \"Comedy\"}]      NaN   \n",
       "\n",
       "          id                                           keywords  \\\n",
       "3519   89861  [{\"id\": 131, \"name\": \"italy\"}, {\"id\": 8250, \"n...   \n",
       "4045   78373  [{\"id\": 1415, \"name\": \"small town\"}, {\"id\": 15...   \n",
       "4247  361505                                                 []   \n",
       "4662   40963        [{\"id\": 10183, \"name\": \"independent film\"}]   \n",
       "\n",
       "     original_language         original_title  \\\n",
       "3519                en       Stiff Upper Lips   \n",
       "4045                en  Dancer, Texas Pop. 81   \n",
       "4247                en  Me You and Five Bucks   \n",
       "4662                en         Little Big Top   \n",
       "\n",
       "                                               overview  popularity  \\\n",
       "3519  Stiff Upper Lips is a broad parody of British ...    0.356495   \n",
       "4045  Four guys, best friends, have grown up togethe...    0.376662   \n",
       "4247  A womanizing yet lovable loser, Charlie, a wai...    0.094105   \n",
       "4662  An aging out of work clown returns to his smal...    0.092100   \n",
       "\n",
       "                                   production_companies  \\\n",
       "3519                                                 []   \n",
       "4045  [{\"name\": \"HSX Films\", \"id\": 4714}, {\"name\": \"...   \n",
       "4247                                                 []   \n",
       "4662          [{\"name\": \"Fly High Films\", \"id\": 24248}]   \n",
       "\n",
       "                                   production_countries release_date  revenue  \\\n",
       "3519  [{\"iso_3166_1\": \"GB\", \"name\": \"United Kingdom\"...   1998-06-12        0   \n",
       "4045  [{\"iso_3166_1\": \"US\", \"name\": \"United States o...   1998-05-01   565592   \n",
       "4247                                                 []   2015-07-07        0   \n",
       "4662  [{\"iso_3166_1\": \"US\", \"name\": \"United States o...   2006-01-01        0   \n",
       "\n",
       "      runtime                          spoken_languages    status  \\\n",
       "3519     99.0  [{\"iso_639_1\": \"en\", \"name\": \"English\"}]  Released   \n",
       "4045     97.0  [{\"iso_639_1\": \"en\", \"name\": \"English\"}]  Released   \n",
       "4247     90.0                                        []  Released   \n",
       "4662      0.0  [{\"iso_639_1\": \"en\", \"name\": \"English\"}]   Rumored   \n",
       "\n",
       "                                           tagline                  title  \\\n",
       "3519                                           NaN       Stiff Upper Lips   \n",
       "4045  in the middle of nowhere they had everything  Dancer, Texas Pop. 81   \n",
       "4247          A story about second, second chances  Me You and Five Bucks   \n",
       "4662                                           NaN         Little Big Top   \n",
       "\n",
       "      vote_average  vote_count  \n",
       "3519          10.0           1  \n",
       "4045          10.0           1  \n",
       "4247          10.0           2  \n",
       "4662          10.0           1  "
      ]
     },
     "execution_count": 123,
     "metadata": {},
     "output_type": "execute_result"
    }
   ],
   "source": [
    "movies[movies[column] == movies[column].max()]"
   ]
  },
  {
   "cell_type": "markdown",
   "metadata": {},
   "source": [
    "Film(s) met de laagste beoordeling"
   ]
  },
  {
   "cell_type": "code",
   "execution_count": 124,
   "metadata": {},
   "outputs": [
    {
     "data": {
      "text/html": [
       "<div>\n",
       "<style scoped>\n",
       "    .dataframe tbody tr th:only-of-type {\n",
       "        vertical-align: middle;\n",
       "    }\n",
       "\n",
       "    .dataframe tbody tr th {\n",
       "        vertical-align: top;\n",
       "    }\n",
       "\n",
       "    .dataframe thead th {\n",
       "        text-align: right;\n",
       "    }\n",
       "</style>\n",
       "<table border=\"1\" class=\"dataframe\">\n",
       "  <thead>\n",
       "    <tr style=\"text-align: right;\">\n",
       "      <th></th>\n",
       "      <th>budget</th>\n",
       "      <th>genres</th>\n",
       "      <th>homepage</th>\n",
       "      <th>id</th>\n",
       "      <th>keywords</th>\n",
       "      <th>original_language</th>\n",
       "      <th>original_title</th>\n",
       "      <th>overview</th>\n",
       "      <th>popularity</th>\n",
       "      <th>production_companies</th>\n",
       "      <th>production_countries</th>\n",
       "      <th>release_date</th>\n",
       "      <th>revenue</th>\n",
       "      <th>runtime</th>\n",
       "      <th>spoken_languages</th>\n",
       "      <th>status</th>\n",
       "      <th>tagline</th>\n",
       "      <th>title</th>\n",
       "      <th>vote_average</th>\n",
       "      <th>vote_count</th>\n",
       "    </tr>\n",
       "  </thead>\n",
       "  <tbody>\n",
       "    <tr>\n",
       "      <th>1464</th>\n",
       "      <td>0</td>\n",
       "      <td>[{\"id\": 18, \"name\": \"Drama\"}, {\"id\": 80, \"name...</td>\n",
       "      <td>NaN</td>\n",
       "      <td>310706</td>\n",
       "      <td>[]</td>\n",
       "      <td>en</td>\n",
       "      <td>Black Water Transit</td>\n",
       "      <td>In this action thriller set in post-Katrina Ne...</td>\n",
       "      <td>0.126738</td>\n",
       "      <td>[{\"name\": \"Capitol Films\", \"id\": 826}]</td>\n",
       "      <td>[{\"iso_3166_1\": \"US\", \"name\": \"United States o...</td>\n",
       "      <td>2009-05-13</td>\n",
       "      <td>0</td>\n",
       "      <td>100.0</td>\n",
       "      <td>[{\"iso_639_1\": \"en\", \"name\": \"English\"}]</td>\n",
       "      <td>Released</td>\n",
       "      <td>NaN</td>\n",
       "      <td>Black Water Transit</td>\n",
       "      <td>0.0</td>\n",
       "      <td>0</td>\n",
       "    </tr>\n",
       "    <tr>\n",
       "      <th>3669</th>\n",
       "      <td>0</td>\n",
       "      <td>[{\"id\": 35, \"name\": \"Comedy\"}, {\"id\": 18, \"nam...</td>\n",
       "      <td>http://www.romeothemovie.com/</td>\n",
       "      <td>113406</td>\n",
       "      <td>[]</td>\n",
       "      <td>en</td>\n",
       "      <td>Should've Been Romeo</td>\n",
       "      <td>A self-centered, middle-aged pitchman for a po...</td>\n",
       "      <td>0.407030</td>\n",
       "      <td>[{\"name\": \"Phillybrook Films\", \"id\": 65147}]</td>\n",
       "      <td>[{\"iso_3166_1\": \"US\", \"name\": \"United States o...</td>\n",
       "      <td>2012-04-28</td>\n",
       "      <td>0</td>\n",
       "      <td>0.0</td>\n",
       "      <td>[{\"iso_639_1\": \"en\", \"name\": \"English\"}]</td>\n",
       "      <td>Released</td>\n",
       "      <td>Even Shakespeare didn't see this one coming.</td>\n",
       "      <td>Should've Been Romeo</td>\n",
       "      <td>0.0</td>\n",
       "      <td>0</td>\n",
       "    </tr>\n",
       "    <tr>\n",
       "      <th>3670</th>\n",
       "      <td>0</td>\n",
       "      <td>[{\"id\": 10751, \"name\": \"Family\"}]</td>\n",
       "      <td>NaN</td>\n",
       "      <td>447027</td>\n",
       "      <td>[]</td>\n",
       "      <td>en</td>\n",
       "      <td>Running Forever</td>\n",
       "      <td>After being estranged since her mother's death...</td>\n",
       "      <td>0.028756</td>\n",
       "      <td>[{\"name\": \"New Kingdom Pictures\", \"id\": 41671}]</td>\n",
       "      <td>[{\"iso_3166_1\": \"US\", \"name\": \"United States o...</td>\n",
       "      <td>2015-10-27</td>\n",
       "      <td>0</td>\n",
       "      <td>88.0</td>\n",
       "      <td>[]</td>\n",
       "      <td>Released</td>\n",
       "      <td>NaN</td>\n",
       "      <td>Running Forever</td>\n",
       "      <td>0.0</td>\n",
       "      <td>0</td>\n",
       "    </tr>\n",
       "    <tr>\n",
       "      <th>3852</th>\n",
       "      <td>0</td>\n",
       "      <td>[{\"id\": 18, \"name\": \"Drama\"}]</td>\n",
       "      <td>NaN</td>\n",
       "      <td>395766</td>\n",
       "      <td>[{\"id\": 11162, \"name\": \"miniseries\"}]</td>\n",
       "      <td>en</td>\n",
       "      <td>The Secret</td>\n",
       "      <td>The Secret is the story of a real-life double ...</td>\n",
       "      <td>0.042346</td>\n",
       "      <td>[]</td>\n",
       "      <td>[]</td>\n",
       "      <td>2016-04-29</td>\n",
       "      <td>0</td>\n",
       "      <td>200.0</td>\n",
       "      <td>[]</td>\n",
       "      <td>Released</td>\n",
       "      <td>NaN</td>\n",
       "      <td>The Secret</td>\n",
       "      <td>0.0</td>\n",
       "      <td>0</td>\n",
       "    </tr>\n",
       "    <tr>\n",
       "      <th>3855</th>\n",
       "      <td>3500000</td>\n",
       "      <td>[{\"id\": 99, \"name\": \"Documentary\"}]</td>\n",
       "      <td>http://www.timetochoose.com</td>\n",
       "      <td>370662</td>\n",
       "      <td>[{\"id\": 2210, \"name\": \"climate change\"}, {\"id\"...</td>\n",
       "      <td>en</td>\n",
       "      <td>Time to Choose</td>\n",
       "      <td>Academy Award® winning director Charles Fergus...</td>\n",
       "      <td>1.618138</td>\n",
       "      <td>[{\"name\": \"Representational Pictures\", \"id\": 8...</td>\n",
       "      <td>[{\"iso_3166_1\": \"US\", \"name\": \"United States o...</td>\n",
       "      <td>2015-09-04</td>\n",
       "      <td>0</td>\n",
       "      <td>100.0</td>\n",
       "      <td>[{\"iso_639_1\": \"en\", \"name\": \"English\"}]</td>\n",
       "      <td>Released</td>\n",
       "      <td>Climate change for good.</td>\n",
       "      <td>Time to Choose</td>\n",
       "      <td>0.0</td>\n",
       "      <td>0</td>\n",
       "    </tr>\n",
       "    <tr>\n",
       "      <th>...</th>\n",
       "      <td>...</td>\n",
       "      <td>...</td>\n",
       "      <td>...</td>\n",
       "      <td>...</td>\n",
       "      <td>...</td>\n",
       "      <td>...</td>\n",
       "      <td>...</td>\n",
       "      <td>...</td>\n",
       "      <td>...</td>\n",
       "      <td>...</td>\n",
       "      <td>...</td>\n",
       "      <td>...</td>\n",
       "      <td>...</td>\n",
       "      <td>...</td>\n",
       "      <td>...</td>\n",
       "      <td>...</td>\n",
       "      <td>...</td>\n",
       "      <td>...</td>\n",
       "      <td>...</td>\n",
       "      <td>...</td>\n",
       "    </tr>\n",
       "    <tr>\n",
       "      <th>4769</th>\n",
       "      <td>0</td>\n",
       "      <td>[{\"id\": 28, \"name\": \"Action\"}, {\"id\": 37, \"nam...</td>\n",
       "      <td>NaN</td>\n",
       "      <td>69382</td>\n",
       "      <td>[]</td>\n",
       "      <td>en</td>\n",
       "      <td>The Legend of God's Gun</td>\n",
       "      <td>A gun-slinging preacher returns to the debauch...</td>\n",
       "      <td>0.003582</td>\n",
       "      <td>[]</td>\n",
       "      <td>[]</td>\n",
       "      <td>2007-07-08</td>\n",
       "      <td>0</td>\n",
       "      <td>78.0</td>\n",
       "      <td>[]</td>\n",
       "      <td>Released</td>\n",
       "      <td>NaN</td>\n",
       "      <td>The Legend of God's Gun</td>\n",
       "      <td>0.0</td>\n",
       "      <td>0</td>\n",
       "    </tr>\n",
       "    <tr>\n",
       "      <th>4771</th>\n",
       "      <td>0</td>\n",
       "      <td>[{\"id\": 27, \"name\": \"Horror\"}]</td>\n",
       "      <td>NaN</td>\n",
       "      <td>220490</td>\n",
       "      <td>[]</td>\n",
       "      <td>en</td>\n",
       "      <td>Her Cry: La Llorona Investigation</td>\n",
       "      <td>Crew of \"Paranormal Legends\" went to film thei...</td>\n",
       "      <td>0.056459</td>\n",
       "      <td>[]</td>\n",
       "      <td>[]</td>\n",
       "      <td>2013-04-19</td>\n",
       "      <td>0</td>\n",
       "      <td>89.0</td>\n",
       "      <td>[]</td>\n",
       "      <td>Released</td>\n",
       "      <td>NaN</td>\n",
       "      <td>Her Cry: La Llorona Investigation</td>\n",
       "      <td>0.0</td>\n",
       "      <td>0</td>\n",
       "    </tr>\n",
       "    <tr>\n",
       "      <th>4780</th>\n",
       "      <td>0</td>\n",
       "      <td>[{\"id\": 53, \"name\": \"Thriller\"}, {\"id\": 80, \"n...</td>\n",
       "      <td>NaN</td>\n",
       "      <td>366967</td>\n",
       "      <td>[]</td>\n",
       "      <td>en</td>\n",
       "      <td>Dutch Kills</td>\n",
       "      <td>A desperate ex-con is forced to gather his old...</td>\n",
       "      <td>0.038143</td>\n",
       "      <td>[]</td>\n",
       "      <td>[]</td>\n",
       "      <td>2015-10-02</td>\n",
       "      <td>0</td>\n",
       "      <td>90.0</td>\n",
       "      <td>[]</td>\n",
       "      <td>Released</td>\n",
       "      <td>NaN</td>\n",
       "      <td>Dutch Kills</td>\n",
       "      <td>0.0</td>\n",
       "      <td>0</td>\n",
       "    </tr>\n",
       "    <tr>\n",
       "      <th>4785</th>\n",
       "      <td>0</td>\n",
       "      <td>[{\"id\": 18, \"name\": \"Drama\"}]</td>\n",
       "      <td>NaN</td>\n",
       "      <td>287625</td>\n",
       "      <td>[]</td>\n",
       "      <td>en</td>\n",
       "      <td>Stories of Our Lives</td>\n",
       "      <td>Created by the members of a Nairobi-based arts...</td>\n",
       "      <td>0.327794</td>\n",
       "      <td>[]</td>\n",
       "      <td>[{\"iso_3166_1\": \"KE\", \"name\": \"Kenya\"}]</td>\n",
       "      <td>2014-09-05</td>\n",
       "      <td>0</td>\n",
       "      <td>60.0</td>\n",
       "      <td>[{\"iso_639_1\": \"sw\", \"name\": \"Kiswahili\"}, {\"i...</td>\n",
       "      <td>Released</td>\n",
       "      <td>NaN</td>\n",
       "      <td>Stories of Our Lives</td>\n",
       "      <td>0.0</td>\n",
       "      <td>0</td>\n",
       "    </tr>\n",
       "    <tr>\n",
       "      <th>4794</th>\n",
       "      <td>0</td>\n",
       "      <td>[{\"id\": 53, \"name\": \"Thriller\"}, {\"id\": 27, \"n...</td>\n",
       "      <td>NaN</td>\n",
       "      <td>286939</td>\n",
       "      <td>[]</td>\n",
       "      <td>en</td>\n",
       "      <td>Sanctuary: Quite a Conundrum</td>\n",
       "      <td>It should have been just a normal day of sex, ...</td>\n",
       "      <td>0.166513</td>\n",
       "      <td>[{\"name\": \"Gold Lion Films\", \"id\": 37870}, {\"n...</td>\n",
       "      <td>[{\"iso_3166_1\": \"US\", \"name\": \"United States o...</td>\n",
       "      <td>2012-01-20</td>\n",
       "      <td>0</td>\n",
       "      <td>82.0</td>\n",
       "      <td>[{\"iso_639_1\": \"en\", \"name\": \"English\"}]</td>\n",
       "      <td>Released</td>\n",
       "      <td>NaN</td>\n",
       "      <td>Sanctuary: Quite a Conundrum</td>\n",
       "      <td>0.0</td>\n",
       "      <td>0</td>\n",
       "    </tr>\n",
       "  </tbody>\n",
       "</table>\n",
       "<p>63 rows × 20 columns</p>\n",
       "</div>"
      ],
      "text/plain": [
       "       budget                                             genres  \\\n",
       "1464        0  [{\"id\": 18, \"name\": \"Drama\"}, {\"id\": 80, \"name...   \n",
       "3669        0  [{\"id\": 35, \"name\": \"Comedy\"}, {\"id\": 18, \"nam...   \n",
       "3670        0                  [{\"id\": 10751, \"name\": \"Family\"}]   \n",
       "3852        0                      [{\"id\": 18, \"name\": \"Drama\"}]   \n",
       "3855  3500000                [{\"id\": 99, \"name\": \"Documentary\"}]   \n",
       "...       ...                                                ...   \n",
       "4769        0  [{\"id\": 28, \"name\": \"Action\"}, {\"id\": 37, \"nam...   \n",
       "4771        0                     [{\"id\": 27, \"name\": \"Horror\"}]   \n",
       "4780        0  [{\"id\": 53, \"name\": \"Thriller\"}, {\"id\": 80, \"n...   \n",
       "4785        0                      [{\"id\": 18, \"name\": \"Drama\"}]   \n",
       "4794        0  [{\"id\": 53, \"name\": \"Thriller\"}, {\"id\": 27, \"n...   \n",
       "\n",
       "                           homepage      id  \\\n",
       "1464                            NaN  310706   \n",
       "3669  http://www.romeothemovie.com/  113406   \n",
       "3670                            NaN  447027   \n",
       "3852                            NaN  395766   \n",
       "3855    http://www.timetochoose.com  370662   \n",
       "...                             ...     ...   \n",
       "4769                            NaN   69382   \n",
       "4771                            NaN  220490   \n",
       "4780                            NaN  366967   \n",
       "4785                            NaN  287625   \n",
       "4794                            NaN  286939   \n",
       "\n",
       "                                               keywords original_language  \\\n",
       "1464                                                 []                en   \n",
       "3669                                                 []                en   \n",
       "3670                                                 []                en   \n",
       "3852              [{\"id\": 11162, \"name\": \"miniseries\"}]                en   \n",
       "3855  [{\"id\": 2210, \"name\": \"climate change\"}, {\"id\"...                en   \n",
       "...                                                 ...               ...   \n",
       "4769                                                 []                en   \n",
       "4771                                                 []                en   \n",
       "4780                                                 []                en   \n",
       "4785                                                 []                en   \n",
       "4794                                                 []                en   \n",
       "\n",
       "                         original_title  \\\n",
       "1464                Black Water Transit   \n",
       "3669               Should've Been Romeo   \n",
       "3670                    Running Forever   \n",
       "3852                         The Secret   \n",
       "3855                     Time to Choose   \n",
       "...                                 ...   \n",
       "4769            The Legend of God's Gun   \n",
       "4771  Her Cry: La Llorona Investigation   \n",
       "4780                        Dutch Kills   \n",
       "4785               Stories of Our Lives   \n",
       "4794       Sanctuary: Quite a Conundrum   \n",
       "\n",
       "                                               overview  popularity  \\\n",
       "1464  In this action thriller set in post-Katrina Ne...    0.126738   \n",
       "3669  A self-centered, middle-aged pitchman for a po...    0.407030   \n",
       "3670  After being estranged since her mother's death...    0.028756   \n",
       "3852  The Secret is the story of a real-life double ...    0.042346   \n",
       "3855  Academy Award® winning director Charles Fergus...    1.618138   \n",
       "...                                                 ...         ...   \n",
       "4769  A gun-slinging preacher returns to the debauch...    0.003582   \n",
       "4771  Crew of \"Paranormal Legends\" went to film thei...    0.056459   \n",
       "4780  A desperate ex-con is forced to gather his old...    0.038143   \n",
       "4785  Created by the members of a Nairobi-based arts...    0.327794   \n",
       "4794  It should have been just a normal day of sex, ...    0.166513   \n",
       "\n",
       "                                   production_companies  \\\n",
       "1464             [{\"name\": \"Capitol Films\", \"id\": 826}]   \n",
       "3669       [{\"name\": \"Phillybrook Films\", \"id\": 65147}]   \n",
       "3670    [{\"name\": \"New Kingdom Pictures\", \"id\": 41671}]   \n",
       "3852                                                 []   \n",
       "3855  [{\"name\": \"Representational Pictures\", \"id\": 8...   \n",
       "...                                                 ...   \n",
       "4769                                                 []   \n",
       "4771                                                 []   \n",
       "4780                                                 []   \n",
       "4785                                                 []   \n",
       "4794  [{\"name\": \"Gold Lion Films\", \"id\": 37870}, {\"n...   \n",
       "\n",
       "                                   production_countries release_date  revenue  \\\n",
       "1464  [{\"iso_3166_1\": \"US\", \"name\": \"United States o...   2009-05-13        0   \n",
       "3669  [{\"iso_3166_1\": \"US\", \"name\": \"United States o...   2012-04-28        0   \n",
       "3670  [{\"iso_3166_1\": \"US\", \"name\": \"United States o...   2015-10-27        0   \n",
       "3852                                                 []   2016-04-29        0   \n",
       "3855  [{\"iso_3166_1\": \"US\", \"name\": \"United States o...   2015-09-04        0   \n",
       "...                                                 ...          ...      ...   \n",
       "4769                                                 []   2007-07-08        0   \n",
       "4771                                                 []   2013-04-19        0   \n",
       "4780                                                 []   2015-10-02        0   \n",
       "4785            [{\"iso_3166_1\": \"KE\", \"name\": \"Kenya\"}]   2014-09-05        0   \n",
       "4794  [{\"iso_3166_1\": \"US\", \"name\": \"United States o...   2012-01-20        0   \n",
       "\n",
       "      runtime                                   spoken_languages    status  \\\n",
       "1464    100.0           [{\"iso_639_1\": \"en\", \"name\": \"English\"}]  Released   \n",
       "3669      0.0           [{\"iso_639_1\": \"en\", \"name\": \"English\"}]  Released   \n",
       "3670     88.0                                                 []  Released   \n",
       "3852    200.0                                                 []  Released   \n",
       "3855    100.0           [{\"iso_639_1\": \"en\", \"name\": \"English\"}]  Released   \n",
       "...       ...                                                ...       ...   \n",
       "4769     78.0                                                 []  Released   \n",
       "4771     89.0                                                 []  Released   \n",
       "4780     90.0                                                 []  Released   \n",
       "4785     60.0  [{\"iso_639_1\": \"sw\", \"name\": \"Kiswahili\"}, {\"i...  Released   \n",
       "4794     82.0           [{\"iso_639_1\": \"en\", \"name\": \"English\"}]  Released   \n",
       "\n",
       "                                           tagline  \\\n",
       "1464                                           NaN   \n",
       "3669  Even Shakespeare didn't see this one coming.   \n",
       "3670                                           NaN   \n",
       "3852                                           NaN   \n",
       "3855                      Climate change for good.   \n",
       "...                                            ...   \n",
       "4769                                           NaN   \n",
       "4771                                           NaN   \n",
       "4780                                           NaN   \n",
       "4785                                           NaN   \n",
       "4794                                           NaN   \n",
       "\n",
       "                                  title  vote_average  vote_count  \n",
       "1464                Black Water Transit           0.0           0  \n",
       "3669               Should've Been Romeo           0.0           0  \n",
       "3670                    Running Forever           0.0           0  \n",
       "3852                         The Secret           0.0           0  \n",
       "3855                     Time to Choose           0.0           0  \n",
       "...                                 ...           ...         ...  \n",
       "4769            The Legend of God's Gun           0.0           0  \n",
       "4771  Her Cry: La Llorona Investigation           0.0           0  \n",
       "4780                        Dutch Kills           0.0           0  \n",
       "4785               Stories of Our Lives           0.0           0  \n",
       "4794       Sanctuary: Quite a Conundrum           0.0           0  \n",
       "\n",
       "[63 rows x 20 columns]"
      ]
     },
     "execution_count": 124,
     "metadata": {},
     "output_type": "execute_result"
    }
   ],
   "source": [
    "movies[movies[column] == movies[column].min()]"
   ]
  },
  {
   "cell_type": "markdown",
   "metadata": {},
   "source": [
    "Top 5 films met de hoogste- en laagste beoordeling"
   ]
  },
  {
   "cell_type": "code",
   "execution_count": 135,
   "metadata": {},
   "outputs": [
    {
     "data": {
      "text/html": [
       "<div>\n",
       "<style scoped>\n",
       "    .dataframe tbody tr th:only-of-type {\n",
       "        vertical-align: middle;\n",
       "    }\n",
       "\n",
       "    .dataframe tbody tr th {\n",
       "        vertical-align: top;\n",
       "    }\n",
       "\n",
       "    .dataframe thead th {\n",
       "        text-align: right;\n",
       "    }\n",
       "</style>\n",
       "<table border=\"1\" class=\"dataframe\">\n",
       "  <thead>\n",
       "    <tr style=\"text-align: right;\">\n",
       "      <th></th>\n",
       "      <th>budget</th>\n",
       "      <th>genres</th>\n",
       "      <th>homepage</th>\n",
       "      <th>id</th>\n",
       "      <th>keywords</th>\n",
       "      <th>original_language</th>\n",
       "      <th>original_title</th>\n",
       "      <th>overview</th>\n",
       "      <th>popularity</th>\n",
       "      <th>production_companies</th>\n",
       "      <th>production_countries</th>\n",
       "      <th>release_date</th>\n",
       "      <th>revenue</th>\n",
       "      <th>runtime</th>\n",
       "      <th>spoken_languages</th>\n",
       "      <th>status</th>\n",
       "      <th>tagline</th>\n",
       "      <th>title</th>\n",
       "      <th>vote_average</th>\n",
       "      <th>vote_count</th>\n",
       "    </tr>\n",
       "  </thead>\n",
       "  <tbody>\n",
       "    <tr>\n",
       "      <th>4633</th>\n",
       "      <td>0</td>\n",
       "      <td>[]</td>\n",
       "      <td>NaN</td>\n",
       "      <td>300327</td>\n",
       "      <td>[]</td>\n",
       "      <td>en</td>\n",
       "      <td>Death Calls</td>\n",
       "      <td>An action-packed love story on the Mexican bor...</td>\n",
       "      <td>0.005883</td>\n",
       "      <td>[]</td>\n",
       "      <td>[]</td>\n",
       "      <td>2010-09-01</td>\n",
       "      <td>0</td>\n",
       "      <td>0.0</td>\n",
       "      <td>[]</td>\n",
       "      <td>Released</td>\n",
       "      <td>NaN</td>\n",
       "      <td>Death Calls</td>\n",
       "      <td>0.0</td>\n",
       "      <td>0</td>\n",
       "    </tr>\n",
       "    <tr>\n",
       "      <th>4305</th>\n",
       "      <td>0</td>\n",
       "      <td>[{\"id\": 35, \"name\": \"Comedy\"}, {\"id\": 10402, \"...</td>\n",
       "      <td>NaN</td>\n",
       "      <td>114065</td>\n",
       "      <td>[]</td>\n",
       "      <td>en</td>\n",
       "      <td>Down &amp; Out With The Dolls</td>\n",
       "      <td>The raunchy, spunky tale of the rise and fall ...</td>\n",
       "      <td>0.002386</td>\n",
       "      <td>[]</td>\n",
       "      <td>[]</td>\n",
       "      <td>2003-03-20</td>\n",
       "      <td>0</td>\n",
       "      <td>88.0</td>\n",
       "      <td>[]</td>\n",
       "      <td>Released</td>\n",
       "      <td>Ain't Rock 'N' Roll a bitch.</td>\n",
       "      <td>Down &amp; Out With The Dolls</td>\n",
       "      <td>0.0</td>\n",
       "      <td>0</td>\n",
       "    </tr>\n",
       "    <tr>\n",
       "      <th>4653</th>\n",
       "      <td>0</td>\n",
       "      <td>[{\"id\": 18, \"name\": \"Drama\"}]</td>\n",
       "      <td>NaN</td>\n",
       "      <td>46252</td>\n",
       "      <td>[]</td>\n",
       "      <td>en</td>\n",
       "      <td>Rust</td>\n",
       "      <td>In the midst of a midlife crisis of faith, a m...</td>\n",
       "      <td>0.399491</td>\n",
       "      <td>[]</td>\n",
       "      <td>[]</td>\n",
       "      <td>2010-10-07</td>\n",
       "      <td>0</td>\n",
       "      <td>94.0</td>\n",
       "      <td>[]</td>\n",
       "      <td>Released</td>\n",
       "      <td>NaN</td>\n",
       "      <td>Rust</td>\n",
       "      <td>0.0</td>\n",
       "      <td>0</td>\n",
       "    </tr>\n",
       "    <tr>\n",
       "      <th>4293</th>\n",
       "      <td>1</td>\n",
       "      <td>[]</td>\n",
       "      <td>http://thealgerianmovie.com/</td>\n",
       "      <td>357834</td>\n",
       "      <td>[]</td>\n",
       "      <td>en</td>\n",
       "      <td>The Algerian</td>\n",
       "      <td>The Algerian is an international political thr...</td>\n",
       "      <td>0.025364</td>\n",
       "      <td>[{\"name\": \"Zelko Films\", \"id\": 62451}]</td>\n",
       "      <td>[{\"iso_3166_1\": \"DZ\", \"name\": \"Algeria\"}, {\"is...</td>\n",
       "      <td>2015-08-07</td>\n",
       "      <td>0</td>\n",
       "      <td>99.0</td>\n",
       "      <td>[]</td>\n",
       "      <td>Released</td>\n",
       "      <td>NaN</td>\n",
       "      <td>The Algerian</td>\n",
       "      <td>0.0</td>\n",
       "      <td>0</td>\n",
       "    </tr>\n",
       "    <tr>\n",
       "      <th>4118</th>\n",
       "      <td>0</td>\n",
       "      <td>[]</td>\n",
       "      <td>NaN</td>\n",
       "      <td>325140</td>\n",
       "      <td>[]</td>\n",
       "      <td>en</td>\n",
       "      <td>Hum To Mohabbat Karega</td>\n",
       "      <td>Raju, a waiter, is in love with the famous TV ...</td>\n",
       "      <td>0.001186</td>\n",
       "      <td>[]</td>\n",
       "      <td>[]</td>\n",
       "      <td>2000-05-26</td>\n",
       "      <td>0</td>\n",
       "      <td>0.0</td>\n",
       "      <td>[]</td>\n",
       "      <td>Released</td>\n",
       "      <td>NaN</td>\n",
       "      <td>Hum To Mohabbat Karega</td>\n",
       "      <td>0.0</td>\n",
       "      <td>0</td>\n",
       "    </tr>\n",
       "    <tr>\n",
       "      <th>...</th>\n",
       "      <td>...</td>\n",
       "      <td>...</td>\n",
       "      <td>...</td>\n",
       "      <td>...</td>\n",
       "      <td>...</td>\n",
       "      <td>...</td>\n",
       "      <td>...</td>\n",
       "      <td>...</td>\n",
       "      <td>...</td>\n",
       "      <td>...</td>\n",
       "      <td>...</td>\n",
       "      <td>...</td>\n",
       "      <td>...</td>\n",
       "      <td>...</td>\n",
       "      <td>...</td>\n",
       "      <td>...</td>\n",
       "      <td>...</td>\n",
       "      <td>...</td>\n",
       "      <td>...</td>\n",
       "      <td>...</td>\n",
       "    </tr>\n",
       "    <tr>\n",
       "      <th>3992</th>\n",
       "      <td>0</td>\n",
       "      <td>[]</td>\n",
       "      <td>NaN</td>\n",
       "      <td>346081</td>\n",
       "      <td>[]</td>\n",
       "      <td>en</td>\n",
       "      <td>Sardaarji</td>\n",
       "      <td>A ghost hunter uses bottles to capture trouble...</td>\n",
       "      <td>0.296981</td>\n",
       "      <td>[]</td>\n",
       "      <td>[{\"iso_3166_1\": \"IN\", \"name\": \"India\"}]</td>\n",
       "      <td>2015-06-26</td>\n",
       "      <td>0</td>\n",
       "      <td>0.0</td>\n",
       "      <td>[]</td>\n",
       "      <td>Released</td>\n",
       "      <td>NaN</td>\n",
       "      <td>Sardaarji</td>\n",
       "      <td>9.5</td>\n",
       "      <td>2</td>\n",
       "    </tr>\n",
       "    <tr>\n",
       "      <th>3519</th>\n",
       "      <td>0</td>\n",
       "      <td>[{\"id\": 35, \"name\": \"Comedy\"}]</td>\n",
       "      <td>NaN</td>\n",
       "      <td>89861</td>\n",
       "      <td>[{\"id\": 131, \"name\": \"italy\"}, {\"id\": 8250, \"n...</td>\n",
       "      <td>en</td>\n",
       "      <td>Stiff Upper Lips</td>\n",
       "      <td>Stiff Upper Lips is a broad parody of British ...</td>\n",
       "      <td>0.356495</td>\n",
       "      <td>[]</td>\n",
       "      <td>[{\"iso_3166_1\": \"GB\", \"name\": \"United Kingdom\"...</td>\n",
       "      <td>1998-06-12</td>\n",
       "      <td>0</td>\n",
       "      <td>99.0</td>\n",
       "      <td>[{\"iso_639_1\": \"en\", \"name\": \"English\"}]</td>\n",
       "      <td>Released</td>\n",
       "      <td>NaN</td>\n",
       "      <td>Stiff Upper Lips</td>\n",
       "      <td>10.0</td>\n",
       "      <td>1</td>\n",
       "    </tr>\n",
       "    <tr>\n",
       "      <th>4045</th>\n",
       "      <td>0</td>\n",
       "      <td>[{\"id\": 35, \"name\": \"Comedy\"}, {\"id\": 18, \"nam...</td>\n",
       "      <td>NaN</td>\n",
       "      <td>78373</td>\n",
       "      <td>[{\"id\": 1415, \"name\": \"small town\"}, {\"id\": 15...</td>\n",
       "      <td>en</td>\n",
       "      <td>Dancer, Texas Pop. 81</td>\n",
       "      <td>Four guys, best friends, have grown up togethe...</td>\n",
       "      <td>0.376662</td>\n",
       "      <td>[{\"name\": \"HSX Films\", \"id\": 4714}, {\"name\": \"...</td>\n",
       "      <td>[{\"iso_3166_1\": \"US\", \"name\": \"United States o...</td>\n",
       "      <td>1998-05-01</td>\n",
       "      <td>565592</td>\n",
       "      <td>97.0</td>\n",
       "      <td>[{\"iso_639_1\": \"en\", \"name\": \"English\"}]</td>\n",
       "      <td>Released</td>\n",
       "      <td>in the middle of nowhere they had everything</td>\n",
       "      <td>Dancer, Texas Pop. 81</td>\n",
       "      <td>10.0</td>\n",
       "      <td>1</td>\n",
       "    </tr>\n",
       "    <tr>\n",
       "      <th>4247</th>\n",
       "      <td>1</td>\n",
       "      <td>[{\"id\": 10749, \"name\": \"Romance\"}, {\"id\": 35, ...</td>\n",
       "      <td>NaN</td>\n",
       "      <td>361505</td>\n",
       "      <td>[]</td>\n",
       "      <td>en</td>\n",
       "      <td>Me You and Five Bucks</td>\n",
       "      <td>A womanizing yet lovable loser, Charlie, a wai...</td>\n",
       "      <td>0.094105</td>\n",
       "      <td>[]</td>\n",
       "      <td>[]</td>\n",
       "      <td>2015-07-07</td>\n",
       "      <td>0</td>\n",
       "      <td>90.0</td>\n",
       "      <td>[]</td>\n",
       "      <td>Released</td>\n",
       "      <td>A story about second, second chances</td>\n",
       "      <td>Me You and Five Bucks</td>\n",
       "      <td>10.0</td>\n",
       "      <td>2</td>\n",
       "    </tr>\n",
       "    <tr>\n",
       "      <th>4662</th>\n",
       "      <td>0</td>\n",
       "      <td>[{\"id\": 35, \"name\": \"Comedy\"}]</td>\n",
       "      <td>NaN</td>\n",
       "      <td>40963</td>\n",
       "      <td>[{\"id\": 10183, \"name\": \"independent film\"}]</td>\n",
       "      <td>en</td>\n",
       "      <td>Little Big Top</td>\n",
       "      <td>An aging out of work clown returns to his smal...</td>\n",
       "      <td>0.092100</td>\n",
       "      <td>[{\"name\": \"Fly High Films\", \"id\": 24248}]</td>\n",
       "      <td>[{\"iso_3166_1\": \"US\", \"name\": \"United States o...</td>\n",
       "      <td>2006-01-01</td>\n",
       "      <td>0</td>\n",
       "      <td>0.0</td>\n",
       "      <td>[{\"iso_639_1\": \"en\", \"name\": \"English\"}]</td>\n",
       "      <td>Rumored</td>\n",
       "      <td>NaN</td>\n",
       "      <td>Little Big Top</td>\n",
       "      <td>10.0</td>\n",
       "      <td>1</td>\n",
       "    </tr>\n",
       "  </tbody>\n",
       "</table>\n",
       "<p>4803 rows × 20 columns</p>\n",
       "</div>"
      ],
      "text/plain": [
       "      budget                                             genres  \\\n",
       "4633       0                                                 []   \n",
       "4305       0  [{\"id\": 35, \"name\": \"Comedy\"}, {\"id\": 10402, \"...   \n",
       "4653       0                      [{\"id\": 18, \"name\": \"Drama\"}]   \n",
       "4293       1                                                 []   \n",
       "4118       0                                                 []   \n",
       "...      ...                                                ...   \n",
       "3992       0                                                 []   \n",
       "3519       0                     [{\"id\": 35, \"name\": \"Comedy\"}]   \n",
       "4045       0  [{\"id\": 35, \"name\": \"Comedy\"}, {\"id\": 18, \"nam...   \n",
       "4247       1  [{\"id\": 10749, \"name\": \"Romance\"}, {\"id\": 35, ...   \n",
       "4662       0                     [{\"id\": 35, \"name\": \"Comedy\"}]   \n",
       "\n",
       "                          homepage      id  \\\n",
       "4633                           NaN  300327   \n",
       "4305                           NaN  114065   \n",
       "4653                           NaN   46252   \n",
       "4293  http://thealgerianmovie.com/  357834   \n",
       "4118                           NaN  325140   \n",
       "...                            ...     ...   \n",
       "3992                           NaN  346081   \n",
       "3519                           NaN   89861   \n",
       "4045                           NaN   78373   \n",
       "4247                           NaN  361505   \n",
       "4662                           NaN   40963   \n",
       "\n",
       "                                               keywords original_language  \\\n",
       "4633                                                 []                en   \n",
       "4305                                                 []                en   \n",
       "4653                                                 []                en   \n",
       "4293                                                 []                en   \n",
       "4118                                                 []                en   \n",
       "...                                                 ...               ...   \n",
       "3992                                                 []                en   \n",
       "3519  [{\"id\": 131, \"name\": \"italy\"}, {\"id\": 8250, \"n...                en   \n",
       "4045  [{\"id\": 1415, \"name\": \"small town\"}, {\"id\": 15...                en   \n",
       "4247                                                 []                en   \n",
       "4662        [{\"id\": 10183, \"name\": \"independent film\"}]                en   \n",
       "\n",
       "                 original_title  \\\n",
       "4633                Death Calls   \n",
       "4305  Down & Out With The Dolls   \n",
       "4653                       Rust   \n",
       "4293               The Algerian   \n",
       "4118     Hum To Mohabbat Karega   \n",
       "...                         ...   \n",
       "3992                  Sardaarji   \n",
       "3519           Stiff Upper Lips   \n",
       "4045      Dancer, Texas Pop. 81   \n",
       "4247      Me You and Five Bucks   \n",
       "4662             Little Big Top   \n",
       "\n",
       "                                               overview  popularity  \\\n",
       "4633  An action-packed love story on the Mexican bor...    0.005883   \n",
       "4305  The raunchy, spunky tale of the rise and fall ...    0.002386   \n",
       "4653  In the midst of a midlife crisis of faith, a m...    0.399491   \n",
       "4293  The Algerian is an international political thr...    0.025364   \n",
       "4118  Raju, a waiter, is in love with the famous TV ...    0.001186   \n",
       "...                                                 ...         ...   \n",
       "3992  A ghost hunter uses bottles to capture trouble...    0.296981   \n",
       "3519  Stiff Upper Lips is a broad parody of British ...    0.356495   \n",
       "4045  Four guys, best friends, have grown up togethe...    0.376662   \n",
       "4247  A womanizing yet lovable loser, Charlie, a wai...    0.094105   \n",
       "4662  An aging out of work clown returns to his smal...    0.092100   \n",
       "\n",
       "                                   production_companies  \\\n",
       "4633                                                 []   \n",
       "4305                                                 []   \n",
       "4653                                                 []   \n",
       "4293             [{\"name\": \"Zelko Films\", \"id\": 62451}]   \n",
       "4118                                                 []   \n",
       "...                                                 ...   \n",
       "3992                                                 []   \n",
       "3519                                                 []   \n",
       "4045  [{\"name\": \"HSX Films\", \"id\": 4714}, {\"name\": \"...   \n",
       "4247                                                 []   \n",
       "4662          [{\"name\": \"Fly High Films\", \"id\": 24248}]   \n",
       "\n",
       "                                   production_countries release_date  revenue  \\\n",
       "4633                                                 []   2010-09-01        0   \n",
       "4305                                                 []   2003-03-20        0   \n",
       "4653                                                 []   2010-10-07        0   \n",
       "4293  [{\"iso_3166_1\": \"DZ\", \"name\": \"Algeria\"}, {\"is...   2015-08-07        0   \n",
       "4118                                                 []   2000-05-26        0   \n",
       "...                                                 ...          ...      ...   \n",
       "3992            [{\"iso_3166_1\": \"IN\", \"name\": \"India\"}]   2015-06-26        0   \n",
       "3519  [{\"iso_3166_1\": \"GB\", \"name\": \"United Kingdom\"...   1998-06-12        0   \n",
       "4045  [{\"iso_3166_1\": \"US\", \"name\": \"United States o...   1998-05-01   565592   \n",
       "4247                                                 []   2015-07-07        0   \n",
       "4662  [{\"iso_3166_1\": \"US\", \"name\": \"United States o...   2006-01-01        0   \n",
       "\n",
       "      runtime                          spoken_languages    status  \\\n",
       "4633      0.0                                        []  Released   \n",
       "4305     88.0                                        []  Released   \n",
       "4653     94.0                                        []  Released   \n",
       "4293     99.0                                        []  Released   \n",
       "4118      0.0                                        []  Released   \n",
       "...       ...                                       ...       ...   \n",
       "3992      0.0                                        []  Released   \n",
       "3519     99.0  [{\"iso_639_1\": \"en\", \"name\": \"English\"}]  Released   \n",
       "4045     97.0  [{\"iso_639_1\": \"en\", \"name\": \"English\"}]  Released   \n",
       "4247     90.0                                        []  Released   \n",
       "4662      0.0  [{\"iso_639_1\": \"en\", \"name\": \"English\"}]   Rumored   \n",
       "\n",
       "                                           tagline                      title  \\\n",
       "4633                                           NaN                Death Calls   \n",
       "4305                  Ain't Rock 'N' Roll a bitch.  Down & Out With The Dolls   \n",
       "4653                                           NaN                       Rust   \n",
       "4293                                           NaN               The Algerian   \n",
       "4118                                           NaN     Hum To Mohabbat Karega   \n",
       "...                                            ...                        ...   \n",
       "3992                                           NaN                  Sardaarji   \n",
       "3519                                           NaN           Stiff Upper Lips   \n",
       "4045  in the middle of nowhere they had everything      Dancer, Texas Pop. 81   \n",
       "4247          A story about second, second chances      Me You and Five Bucks   \n",
       "4662                                           NaN             Little Big Top   \n",
       "\n",
       "      vote_average  vote_count  \n",
       "4633           0.0           0  \n",
       "4305           0.0           0  \n",
       "4653           0.0           0  \n",
       "4293           0.0           0  \n",
       "4118           0.0           0  \n",
       "...            ...         ...  \n",
       "3992           9.5           2  \n",
       "3519          10.0           1  \n",
       "4045          10.0           1  \n",
       "4247          10.0           2  \n",
       "4662          10.0           1  \n",
       "\n",
       "[4803 rows x 20 columns]"
      ]
     },
     "execution_count": 135,
     "metadata": {},
     "output_type": "execute_result"
    }
   ],
   "source": [
    "movies.sort_values(by=\"vote_average\")"
   ]
  },
  {
   "cell_type": "markdown",
   "metadata": {},
   "source": [
    "Histogram van de gemiddelde beoordeling"
   ]
  },
  {
   "cell_type": "code",
   "execution_count": 133,
   "metadata": {
    "scrolled": true
   },
   "outputs": [
    {
     "data": {
      "text/plain": [
       "<AxesSubplot:title={'center':'Average vote'}, ylabel='Frequency'>"
      ]
     },
     "execution_count": 133,
     "metadata": {},
     "output_type": "execute_result"
    },
    {
     "data": {
      "image/png": "[encoded data removed]",
      "text/plain": [
       "<Figure size 432x288 with 1 Axes>"
      ]
     },
     "metadata": {
      "needs_background": "light"
     },
     "output_type": "display_data"
    }
   ],
   "source": [
    "movies[column].plot(kind='hist', bins = 40, xlim=(0,10), title= \"Average vote\")"
   ]
  }
 ],
 "metadata": {
  "kernelspec": {
   "display_name": "Python 3",
   "language": "python",
   "name": "python3"
  },
  "language_info": {
   "codemirror_mode": {
    "name": "ipython",
    "version": 3
   },
   "file_extension": ".py",
   "mimetype": "text/x-python",
   "name": "python",
   "nbconvert_exporter": "python",
   "pygments_lexer": "ipython3",
   "version": "3.8.5"
  }
 },
 "nbformat": 4,
 "nbformat_minor": 4
}
